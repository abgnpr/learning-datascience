{
 "cells": [
  {
   "cell_type": "markdown",
   "metadata": {},
   "source": [
    "# Playground "
   ]
  },
  {
   "cell_type": "code",
   "execution_count": 1,
   "metadata": {},
   "outputs": [],
   "source": [
    "import numpy as np\n",
    "import pandas as pd\n",
    "import random"
   ]
  },
  {
   "cell_type": "code",
   "execution_count": 183,
   "metadata": {},
   "outputs": [
    {
     "data": {
      "text/html": [
       "<div>\n",
       "<style scoped>\n",
       "    .dataframe tbody tr th:only-of-type {\n",
       "        vertical-align: middle;\n",
       "    }\n",
       "\n",
       "    .dataframe tbody tr th {\n",
       "        vertical-align: top;\n",
       "    }\n",
       "\n",
       "    .dataframe thead th {\n",
       "        text-align: right;\n",
       "    }\n",
       "</style>\n",
       "<table border=\"1\" class=\"dataframe\">\n",
       "  <thead>\n",
       "    <tr style=\"text-align: right;\">\n",
       "      <th></th>\n",
       "      <th>a</th>\n",
       "      <th>b</th>\n",
       "      <th>c</th>\n",
       "      <th>d</th>\n",
       "      <th>e</th>\n",
       "      <th>f</th>\n",
       "      <th>g</th>\n",
       "      <th>h</th>\n",
       "      <th>i</th>\n",
       "      <th>j</th>\n",
       "      <th>...</th>\n",
       "      <th>p</th>\n",
       "      <th>q</th>\n",
       "      <th>r</th>\n",
       "      <th>s</th>\n",
       "      <th>t</th>\n",
       "      <th>u</th>\n",
       "      <th>v</th>\n",
       "      <th>w</th>\n",
       "      <th>x</th>\n",
       "      <th>y</th>\n",
       "    </tr>\n",
       "  </thead>\n",
       "  <tbody>\n",
       "    <tr>\n",
       "      <th>0</th>\n",
       "      <td>41</td>\n",
       "      <td>87</td>\n",
       "      <td>21</td>\n",
       "      <td>89</td>\n",
       "      <td>17</td>\n",
       "      <td>20</td>\n",
       "      <td>96</td>\n",
       "      <td>78</td>\n",
       "      <td>41</td>\n",
       "      <td>5</td>\n",
       "      <td>...</td>\n",
       "      <td>38</td>\n",
       "      <td>97</td>\n",
       "      <td>11</td>\n",
       "      <td>44</td>\n",
       "      <td>10</td>\n",
       "      <td>7</td>\n",
       "      <td>116</td>\n",
       "      <td>102</td>\n",
       "      <td>14</td>\n",
       "      <td>42</td>\n",
       "    </tr>\n",
       "    <tr>\n",
       "      <th>1</th>\n",
       "      <td>45</td>\n",
       "      <td>15</td>\n",
       "      <td>4</td>\n",
       "      <td>62</td>\n",
       "      <td>79</td>\n",
       "      <td>1</td>\n",
       "      <td>82</td>\n",
       "      <td>62</td>\n",
       "      <td>72</td>\n",
       "      <td>69</td>\n",
       "      <td>...</td>\n",
       "      <td>74</td>\n",
       "      <td>45</td>\n",
       "      <td>59</td>\n",
       "      <td>43</td>\n",
       "      <td>87</td>\n",
       "      <td>61</td>\n",
       "      <td>64</td>\n",
       "      <td>99</td>\n",
       "      <td>71</td>\n",
       "      <td>72</td>\n",
       "    </tr>\n",
       "    <tr>\n",
       "      <th>2</th>\n",
       "      <td>50</td>\n",
       "      <td>29</td>\n",
       "      <td>98</td>\n",
       "      <td>91</td>\n",
       "      <td>20</td>\n",
       "      <td>29</td>\n",
       "      <td>32</td>\n",
       "      <td>40</td>\n",
       "      <td>76</td>\n",
       "      <td>16</td>\n",
       "      <td>...</td>\n",
       "      <td>91</td>\n",
       "      <td>54</td>\n",
       "      <td>52</td>\n",
       "      <td>80</td>\n",
       "      <td>108</td>\n",
       "      <td>14</td>\n",
       "      <td>68</td>\n",
       "      <td>12</td>\n",
       "      <td>40</td>\n",
       "      <td>35</td>\n",
       "    </tr>\n",
       "    <tr>\n",
       "      <th>3</th>\n",
       "      <td>60</td>\n",
       "      <td>41</td>\n",
       "      <td>24</td>\n",
       "      <td>44</td>\n",
       "      <td>21</td>\n",
       "      <td>53</td>\n",
       "      <td>40</td>\n",
       "      <td>40</td>\n",
       "      <td>76</td>\n",
       "      <td>79</td>\n",
       "      <td>...</td>\n",
       "      <td>80</td>\n",
       "      <td>15</td>\n",
       "      <td>96</td>\n",
       "      <td>54</td>\n",
       "      <td>73</td>\n",
       "      <td>111</td>\n",
       "      <td>46</td>\n",
       "      <td>24</td>\n",
       "      <td>59</td>\n",
       "      <td>57</td>\n",
       "    </tr>\n",
       "    <tr>\n",
       "      <th>4</th>\n",
       "      <td>77</td>\n",
       "      <td>87</td>\n",
       "      <td>6</td>\n",
       "      <td>97</td>\n",
       "      <td>54</td>\n",
       "      <td>96</td>\n",
       "      <td>30</td>\n",
       "      <td>58</td>\n",
       "      <td>46</td>\n",
       "      <td>77</td>\n",
       "      <td>...</td>\n",
       "      <td>96</td>\n",
       "      <td>42</td>\n",
       "      <td>49</td>\n",
       "      <td>37</td>\n",
       "      <td>40</td>\n",
       "      <td>39</td>\n",
       "      <td>74</td>\n",
       "      <td>59</td>\n",
       "      <td>34</td>\n",
       "      <td>106</td>\n",
       "    </tr>\n",
       "    <tr>\n",
       "      <th>5</th>\n",
       "      <td>76</td>\n",
       "      <td>67</td>\n",
       "      <td>35</td>\n",
       "      <td>75</td>\n",
       "      <td>75</td>\n",
       "      <td>98</td>\n",
       "      <td>100</td>\n",
       "      <td>64</td>\n",
       "      <td>17</td>\n",
       "      <td>74</td>\n",
       "      <td>...</td>\n",
       "      <td>60</td>\n",
       "      <td>85</td>\n",
       "      <td>42</td>\n",
       "      <td>101</td>\n",
       "      <td>81</td>\n",
       "      <td>104</td>\n",
       "      <td>93</td>\n",
       "      <td>104</td>\n",
       "      <td>98</td>\n",
       "      <td>82</td>\n",
       "    </tr>\n",
       "    <tr>\n",
       "      <th>6</th>\n",
       "      <td>11</td>\n",
       "      <td>74</td>\n",
       "      <td>56</td>\n",
       "      <td>44</td>\n",
       "      <td>9</td>\n",
       "      <td>70</td>\n",
       "      <td>92</td>\n",
       "      <td>95</td>\n",
       "      <td>32</td>\n",
       "      <td>54</td>\n",
       "      <td>...</td>\n",
       "      <td>49</td>\n",
       "      <td>72</td>\n",
       "      <td>10</td>\n",
       "      <td>4</td>\n",
       "      <td>73</td>\n",
       "      <td>109</td>\n",
       "      <td>16</td>\n",
       "      <td>5</td>\n",
       "      <td>68</td>\n",
       "      <td>100</td>\n",
       "    </tr>\n",
       "    <tr>\n",
       "      <th>7</th>\n",
       "      <td>77</td>\n",
       "      <td>79</td>\n",
       "      <td>77</td>\n",
       "      <td>53</td>\n",
       "      <td>29</td>\n",
       "      <td>50</td>\n",
       "      <td>52</td>\n",
       "      <td>84</td>\n",
       "      <td>66</td>\n",
       "      <td>88</td>\n",
       "      <td>...</td>\n",
       "      <td>111</td>\n",
       "      <td>100</td>\n",
       "      <td>90</td>\n",
       "      <td>79</td>\n",
       "      <td>68</td>\n",
       "      <td>51</td>\n",
       "      <td>80</td>\n",
       "      <td>73</td>\n",
       "      <td>80</td>\n",
       "      <td>13</td>\n",
       "    </tr>\n",
       "    <tr>\n",
       "      <th>8</th>\n",
       "      <td>49</td>\n",
       "      <td>54</td>\n",
       "      <td>28</td>\n",
       "      <td>91</td>\n",
       "      <td>54</td>\n",
       "      <td>63</td>\n",
       "      <td>35</td>\n",
       "      <td>94</td>\n",
       "      <td>3</td>\n",
       "      <td>18</td>\n",
       "      <td>...</td>\n",
       "      <td>5</td>\n",
       "      <td>11</td>\n",
       "      <td>49</td>\n",
       "      <td>20</td>\n",
       "      <td>46</td>\n",
       "      <td>21</td>\n",
       "      <td>8</td>\n",
       "      <td>60</td>\n",
       "      <td>96</td>\n",
       "      <td>107</td>\n",
       "    </tr>\n",
       "    <tr>\n",
       "      <th>9</th>\n",
       "      <td>59</td>\n",
       "      <td>81</td>\n",
       "      <td>8</td>\n",
       "      <td>15</td>\n",
       "      <td>45</td>\n",
       "      <td>77</td>\n",
       "      <td>3</td>\n",
       "      <td>90</td>\n",
       "      <td>86</td>\n",
       "      <td>62</td>\n",
       "      <td>...</td>\n",
       "      <td>48</td>\n",
       "      <td>28</td>\n",
       "      <td>68</td>\n",
       "      <td>19</td>\n",
       "      <td>22</td>\n",
       "      <td>109</td>\n",
       "      <td>8</td>\n",
       "      <td>57</td>\n",
       "      <td>10</td>\n",
       "      <td>76</td>\n",
       "    </tr>\n",
       "  </tbody>\n",
       "</table>\n",
       "<p>10 rows × 25 columns</p>\n",
       "</div>"
      ],
      "text/plain": [
       "    a   b   c   d   e   f    g   h   i   j  ...    p    q   r    s    t    u  \\\n",
       "0  41  87  21  89  17  20   96  78  41   5  ...   38   97  11   44   10    7   \n",
       "1  45  15   4  62  79   1   82  62  72  69  ...   74   45  59   43   87   61   \n",
       "2  50  29  98  91  20  29   32  40  76  16  ...   91   54  52   80  108   14   \n",
       "3  60  41  24  44  21  53   40  40  76  79  ...   80   15  96   54   73  111   \n",
       "4  77  87   6  97  54  96   30  58  46  77  ...   96   42  49   37   40   39   \n",
       "5  76  67  35  75  75  98  100  64  17  74  ...   60   85  42  101   81  104   \n",
       "6  11  74  56  44   9  70   92  95  32  54  ...   49   72  10    4   73  109   \n",
       "7  77  79  77  53  29  50   52  84  66  88  ...  111  100  90   79   68   51   \n",
       "8  49  54  28  91  54  63   35  94   3  18  ...    5   11  49   20   46   21   \n",
       "9  59  81   8  15  45  77    3  90  86  62  ...   48   28  68   19   22  109   \n",
       "\n",
       "     v    w   x    y  \n",
       "0  116  102  14   42  \n",
       "1   64   99  71   72  \n",
       "2   68   12  40   35  \n",
       "3   46   24  59   57  \n",
       "4   74   59  34  106  \n",
       "5   93  104  98   82  \n",
       "6   16    5  68  100  \n",
       "7   80   73  80   13  \n",
       "8    8   60  96  107  \n",
       "9    8   57  10   76  \n",
       "\n",
       "[10 rows x 25 columns]"
      ]
     },
     "execution_count": 183,
     "metadata": {},
     "output_type": "execute_result"
    }
   ],
   "source": [
    "\n",
    "df = pd.DataFrame({ \n",
    "    chr(i): np.random.randint(1, i+1, 10) \\\n",
    "        for i in range(97, 122) \n",
    "})\n",
    "\n",
    "df\n",
    "\n",
    "# df =pd.DataFrame({'A': [1, 2, 3]})"
   ]
  },
  {
   "cell_type": "code",
   "execution_count": 100,
   "metadata": {},
   "outputs": [
    {
     "data": {
      "text/html": [
       "<div>\n",
       "<style scoped>\n",
       "    .dataframe tbody tr th:only-of-type {\n",
       "        vertical-align: middle;\n",
       "    }\n",
       "\n",
       "    .dataframe tbody tr th {\n",
       "        vertical-align: top;\n",
       "    }\n",
       "\n",
       "    .dataframe thead th {\n",
       "        text-align: right;\n",
       "    }\n",
       "</style>\n",
       "<table border=\"1\" class=\"dataframe\">\n",
       "  <thead>\n",
       "    <tr style=\"text-align: right;\">\n",
       "      <th></th>\n",
       "      <th>d</th>\n",
       "      <th>e</th>\n",
       "      <th>f</th>\n",
       "      <th>g</th>\n",
       "      <th>h</th>\n",
       "      <th>i</th>\n",
       "    </tr>\n",
       "  </thead>\n",
       "  <tbody>\n",
       "    <tr>\n",
       "      <th>3</th>\n",
       "      <td>62</td>\n",
       "      <td>8</td>\n",
       "      <td>93</td>\n",
       "      <td>7</td>\n",
       "      <td>45</td>\n",
       "      <td>103</td>\n",
       "    </tr>\n",
       "    <tr>\n",
       "      <th>6</th>\n",
       "      <td>96</td>\n",
       "      <td>25</td>\n",
       "      <td>67</td>\n",
       "      <td>71</td>\n",
       "      <td>32</td>\n",
       "      <td>10</td>\n",
       "    </tr>\n",
       "  </tbody>\n",
       "</table>\n",
       "</div>"
      ],
      "text/plain": [
       "    d   e   f   g   h    i\n",
       "3  62   8  93   7  45  103\n",
       "6  96  25  67  71  32   10"
      ]
     },
     "execution_count": 100,
     "metadata": {},
     "output_type": "execute_result"
    }
   ],
   "source": [
    "df.loc[[3, 6], 'd':'i']"
   ]
  },
  {
   "cell_type": "code",
   "execution_count": 11,
   "metadata": {},
   "outputs": [
    {
     "data": {
      "text/plain": [
       "0    (0, 2)\n",
       "1    (1, 3)\n",
       "2    (2, 4)\n",
       "Name: A, dtype: object"
      ]
     },
     "execution_count": 11,
     "metadata": {},
     "output_type": "execute_result"
    }
   ],
   "source": [
    "df['A'].apply(lambda x: (x- 1, x + 1))"
   ]
  },
  {
   "cell_type": "code",
   "execution_count": 64,
   "metadata": {},
   "outputs": [],
   "source": [
    "time_index = pd.date_range(start='06/06/2007', periods=100000, freq='30s')"
   ]
  },
  {
   "cell_type": "code",
   "execution_count": 65,
   "metadata": {},
   "outputs": [],
   "source": [
    "data = np.random.randint(low=1, high=11, size=100000)"
   ]
  },
  {
   "cell_type": "code",
   "execution_count": 66,
   "metadata": {},
   "outputs": [],
   "source": [
    "df = pd.DataFrame(data=data , index=time_index)"
   ]
  },
  {
   "cell_type": "code",
   "execution_count": 88,
   "metadata": {},
   "outputs": [
    {
     "data": {
      "text/html": [
       "<div>\n",
       "<style scoped>\n",
       "    .dataframe tbody tr th:only-of-type {\n",
       "        vertical-align: middle;\n",
       "    }\n",
       "\n",
       "    .dataframe tbody tr th {\n",
       "        vertical-align: top;\n",
       "    }\n",
       "\n",
       "    .dataframe thead th {\n",
       "        text-align: right;\n",
       "    }\n",
       "</style>\n",
       "<table border=\"1\" class=\"dataframe\">\n",
       "  <thead>\n",
       "    <tr style=\"text-align: right;\">\n",
       "      <th></th>\n",
       "      <th>0</th>\n",
       "    </tr>\n",
       "  </thead>\n",
       "  <tbody>\n",
       "    <tr>\n",
       "      <th>2007-06-30</th>\n",
       "      <td>396619</td>\n",
       "    </tr>\n",
       "    <tr>\n",
       "      <th>2007-09-30</th>\n",
       "      <td>154108</td>\n",
       "    </tr>\n",
       "  </tbody>\n",
       "</table>\n",
       "</div>"
      ],
      "text/plain": [
       "                 0\n",
       "2007-06-30  396619\n",
       "2007-09-30  154108"
      ]
     },
     "execution_count": 88,
     "metadata": {},
     "output_type": "execute_result"
    }
   ],
   "source": [
    "df.resample('3m').sum()"
   ]
  },
  {
   "cell_type": "code",
   "execution_count": 25,
   "metadata": {},
   "outputs": [
    {
     "name": "stderr",
     "output_type": "stream",
     "text": [
      "C:\\Users\\1987698\\AppData\\Local\\Temp/ipykernel_120/1117867912.py:1: DtypeWarning: Columns (2,16,30,33) have mixed types. Specify dtype option on import or set low_memory=False.\n",
      "  df = pd.read_csv(\n"
     ]
    }
   ],
   "source": [
    "df = pd.read_csv(\n",
    "    'C:\\\\Users\\\\1987698\\\\Desktop\\\\PACS App\\\\data\\KYC_DETAILS_DATA_TABLE.csv', \n",
    "    encoding='Windows-1251',\n",
    "    dtype={\n",
    "        'CIF_NO': pd.StringDtype(),\n",
    "        'CUSTOMER_TYPE': pd.CategoricalDtype()\n",
    "    })"
   ]
  },
  {
   "cell_type": "code",
   "execution_count": 37,
   "metadata": {},
   "outputs": [
    {
     "data": {
      "text/plain": [
       "array([1, 2, 8, 3, 6, 5, 4, 7], dtype=int64)"
      ]
     },
     "execution_count": 37,
     "metadata": {},
     "output_type": "execute_result"
    }
   ],
   "source": [
    "df['RELIGION'].unique()"
   ]
  },
  {
   "cell_type": "code",
   "execution_count": 198,
   "metadata": {},
   "outputs": [
    {
     "name": "stdout",
     "output_type": "stream",
     "text": [
      "CIF_NO\n",
      "CUSTOMER_TYPE\n",
      "LINKED_SB_ACCNO\n",
      "TITLE\n",
      "FIRST_NAME\n",
      "MIDDLE_NAME\n",
      "LAST_NAME\n",
      "GUARDIAN_NAME\n",
      "ADDRESS_1\n",
      "ADDRESS_2\n",
      "ADDRESS_3\n",
      "DISTRICT\n",
      "CITY\n",
      "STATE\n",
      "BIRTH_DATE\n",
      "GENDER\n",
      "MOBILE_NO\n",
      "ID_TYPE\n",
      "ID_NO\n",
      "ID_ISSUE_DATE\n",
      "ID_ISSUED_AT\n",
      "CBS_BR_CODE\n",
      "KYC_CREATION_DATE\n",
      "SHARE_AMOUNT_DUE\n",
      "SHARE_AMOUNT_PAID\n",
      "BLOCK\n",
      "PHOTO_UPLOADED\n",
      "SIG_PHOTO\n",
      "RELIGION\n",
      "CASTE\n",
      "EMAIL_ID\n",
      "BANK_CIF\n",
      "ALIVE_DEAD\n",
      "DATE_OF_DEATH\n"
     ]
    }
   ],
   "source": [
    "print('\\n'.join(df.columns))"
   ]
  },
  {
   "cell_type": "code",
   "execution_count": 140,
   "metadata": {},
   "outputs": [
    {
     "name": "stdout",
     "output_type": "stream",
     "text": [
      "CIF_NO\n",
      "LINKED_SB_ACCNO\n",
      "MOBILE_NO\n",
      "EMAIL_ID\n",
      "DATE_OF_DEATH\n"
     ]
    }
   ],
   "source": [
    "cols = [0,2,16,30,33]\n",
    "print('\\n'.join(df.columns[cols]))\n",
    "# df.head()"
   ]
  },
  {
   "cell_type": "code",
   "execution_count": 185,
   "metadata": {},
   "outputs": [
    {
     "data": {
      "text/plain": [
       "CIF_NO\n",
       "NaN      2269110\n",
       "True      149530\n",
       "False      14310\n",
       "Name: count, dtype: int64"
      ]
     },
     "execution_count": 185,
     "metadata": {},
     "output_type": "execute_result"
    }
   ],
   "source": [
    "df['CIF_NO'].str.strip().str.isnumeric().value_counts(dropna=False)"
   ]
  },
  {
   "cell_type": "code",
   "execution_count": 186,
   "metadata": {},
   "outputs": [
    {
     "data": {
      "text/plain": [
       "16384      06107071510079604\n",
       "16385      06107071510079606\n",
       "16386      06107071510079637\n",
       "16387      06107071510079651\n",
       "16388      06107071510079655\n",
       "                 ...        \n",
       "1228795    15001079380001669\n",
       "1228796    15001079380001668\n",
       "1228797    15001079380001667\n",
       "1228798    15001079380001666\n",
       "1228799    15001079380001665\n",
       "Name: CIF_NO, Length: 149530, dtype: object"
      ]
     },
     "execution_count": 186,
     "metadata": {},
     "output_type": "execute_result"
    }
   ],
   "source": [
    "df['CIF_NO'][df['CIF_NO'].str.strip().str.isnumeric() == True]"
   ]
  },
  {
   "cell_type": "code",
   "execution_count": 190,
   "metadata": {},
   "outputs": [
    {
     "name": "stdout",
     "output_type": "stream",
     "text": [
      "<class 'str'> <class 'str'>\n"
     ]
    }
   ],
   "source": [
    "print(\n",
    "    type(df['CIF_NO'].iloc[0]),\n",
    "    type(df['CIF_NO'].iloc[16384])\n",
    ")"
   ]
  },
  {
   "cell_type": "code",
   "execution_count": 195,
   "metadata": {},
   "outputs": [
    {
     "data": {
      "text/plain": [
       "2432950"
      ]
     },
     "execution_count": 195,
     "metadata": {},
     "output_type": "execute_result"
    }
   ],
   "source": [
    "df['CIF_NO'].nunique()"
   ]
  },
  {
   "cell_type": "code",
   "execution_count": 189,
   "metadata": {},
   "outputs": [],
   "source": [
    "df['CIF_NO'] = df['CIF_NO'].astype(pd.StringDtype()).str.strip()"
   ]
  },
  {
   "cell_type": "code",
   "execution_count": 199,
   "metadata": {},
   "outputs": [
    {
     "data": {
      "text/plain": [
       "0          170200000786.0\n",
       "1          170200000920.0\n",
       "2          170200000942.0\n",
       "3          170200001592.0\n",
       "4          170200001714.0\n",
       "                ...      \n",
       "2432945     1080740000358\n",
       "2432946     1080740000357\n",
       "2432947     1080740000356\n",
       "2432948     1080740000355\n",
       "2432949     1080740000353\n",
       "Name: LINKED_SB_ACCNO, Length: 2432950, dtype: object"
      ]
     },
     "execution_count": 199,
     "metadata": {},
     "output_type": "execute_result"
    }
   ],
   "source": [
    "df['LINKED_SB_ACCNO']"
   ]
  },
  {
   "cell_type": "code",
   "execution_count": 213,
   "metadata": {},
   "outputs": [
    {
     "data": {
      "text/plain": [
       "54004185258.0"
      ]
     },
     "execution_count": 213,
     "metadata": {},
     "output_type": "execute_result"
    }
   ],
   "source": [
    "df['BANK_CIF'][df['BANK_CIF'].notna()][2337]"
   ]
  },
  {
   "cell_type": "code",
   "execution_count": 16,
   "metadata": {},
   "outputs": [
    {
     "data": {
      "text/html": [
       "<div>\n",
       "<style scoped>\n",
       "    .dataframe tbody tr th:only-of-type {\n",
       "        vertical-align: middle;\n",
       "    }\n",
       "\n",
       "    .dataframe tbody tr th {\n",
       "        vertical-align: top;\n",
       "    }\n",
       "\n",
       "    .dataframe thead th {\n",
       "        text-align: right;\n",
       "    }\n",
       "</style>\n",
       "<table border=\"1\" class=\"dataframe\">\n",
       "  <thead>\n",
       "    <tr style=\"text-align: right;\">\n",
       "      <th></th>\n",
       "      <th>a</th>\n",
       "      <th>b</th>\n",
       "      <th>c</th>\n",
       "      <th>d</th>\n",
       "      <th>e</th>\n",
       "    </tr>\n",
       "  </thead>\n",
       "  <tbody>\n",
       "    <tr>\n",
       "      <th>Joe</th>\n",
       "      <td>7</td>\n",
       "      <td>6</td>\n",
       "      <td>6</td>\n",
       "      <td>6</td>\n",
       "      <td>9</td>\n",
       "    </tr>\n",
       "    <tr>\n",
       "      <th>Steve</th>\n",
       "      <td>10</td>\n",
       "      <td>10</td>\n",
       "      <td>7</td>\n",
       "      <td>10</td>\n",
       "      <td>0</td>\n",
       "    </tr>\n",
       "    <tr>\n",
       "      <th>Wanda</th>\n",
       "      <td>3</td>\n",
       "      <td>1</td>\n",
       "      <td>1</td>\n",
       "      <td>8</td>\n",
       "      <td>4</td>\n",
       "    </tr>\n",
       "    <tr>\n",
       "      <th>Jill</th>\n",
       "      <td>4</td>\n",
       "      <td>0</td>\n",
       "      <td>2</td>\n",
       "      <td>5</td>\n",
       "      <td>7</td>\n",
       "    </tr>\n",
       "    <tr>\n",
       "      <th>Trey</th>\n",
       "      <td>5</td>\n",
       "      <td>1</td>\n",
       "      <td>9</td>\n",
       "      <td>3</td>\n",
       "      <td>8</td>\n",
       "    </tr>\n",
       "  </tbody>\n",
       "</table>\n",
       "</div>"
      ],
      "text/plain": [
       "        a   b  c   d  e\n",
       "Joe     7   6  6   6  9\n",
       "Steve  10  10  7  10  0\n",
       "Wanda   3   1  1   8  4\n",
       "Jill    4   0  2   5  7\n",
       "Trey    5   1  9   3  8"
      ]
     },
     "execution_count": 16,
     "metadata": {},
     "output_type": "execute_result"
    }
   ],
   "source": [
    "people = pd.DataFrame(\n",
    "    data=np.random.randint(low=0, high=11, size=(5,5)),\n",
    "    columns=list('abcde'),\n",
    "    index=[\"Joe\", \"Steve\", \"Wanda\", \"Jill\", \"Trey\"]\n",
    ")\n",
    "people"
   ]
  },
  {
   "cell_type": "code",
   "execution_count": 27,
   "metadata": {},
   "outputs": [
    {
     "name": "stderr",
     "output_type": "stream",
     "text": [
      "C:\\Users\\1987698\\AppData\\Local\\Temp/ipykernel_19416/2692128095.py:1: FutureWarning: DataFrame.groupby with axis=1 is deprecated. Do `frame.T.groupby(...)` without axis instead.\n",
      "  people.groupby(by={'a': 'red', 'b': 'red'}, axis='columns').sum()\n"
     ]
    },
    {
     "data": {
      "text/html": [
       "<div>\n",
       "<style scoped>\n",
       "    .dataframe tbody tr th:only-of-type {\n",
       "        vertical-align: middle;\n",
       "    }\n",
       "\n",
       "    .dataframe tbody tr th {\n",
       "        vertical-align: top;\n",
       "    }\n",
       "\n",
       "    .dataframe thead th {\n",
       "        text-align: right;\n",
       "    }\n",
       "</style>\n",
       "<table border=\"1\" class=\"dataframe\">\n",
       "  <thead>\n",
       "    <tr style=\"text-align: right;\">\n",
       "      <th></th>\n",
       "      <th>red</th>\n",
       "    </tr>\n",
       "  </thead>\n",
       "  <tbody>\n",
       "    <tr>\n",
       "      <th>Joe</th>\n",
       "      <td>13</td>\n",
       "    </tr>\n",
       "    <tr>\n",
       "      <th>Steve</th>\n",
       "      <td>20</td>\n",
       "    </tr>\n",
       "    <tr>\n",
       "      <th>Wanda</th>\n",
       "      <td>4</td>\n",
       "    </tr>\n",
       "    <tr>\n",
       "      <th>Jill</th>\n",
       "      <td>4</td>\n",
       "    </tr>\n",
       "    <tr>\n",
       "      <th>Trey</th>\n",
       "      <td>6</td>\n",
       "    </tr>\n",
       "  </tbody>\n",
       "</table>\n",
       "</div>"
      ],
      "text/plain": [
       "       red\n",
       "Joe     13\n",
       "Steve   20\n",
       "Wanda    4\n",
       "Jill     4\n",
       "Trey     6"
      ]
     },
     "execution_count": 27,
     "metadata": {},
     "output_type": "execute_result"
    }
   ],
   "source": [
    "people.groupby(by={'a': 'red', 'b': 'red'}, axis='columns').sum()"
   ]
  },
  {
   "cell_type": "code",
   "execution_count": 41,
   "metadata": {},
   "outputs": [
    {
     "data": {
      "text/html": [
       "<div>\n",
       "<style scoped>\n",
       "    .dataframe tbody tr th:only-of-type {\n",
       "        vertical-align: middle;\n",
       "    }\n",
       "\n",
       "    .dataframe tbody tr th {\n",
       "        vertical-align: top;\n",
       "    }\n",
       "\n",
       "    .dataframe thead th {\n",
       "        text-align: right;\n",
       "    }\n",
       "</style>\n",
       "<table border=\"1\" class=\"dataframe\">\n",
       "  <thead>\n",
       "    <tr style=\"text-align: right;\">\n",
       "      <th></th>\n",
       "      <th>candidate</th>\n",
       "      <th>age</th>\n",
       "    </tr>\n",
       "  </thead>\n",
       "  <tbody>\n",
       "    <tr>\n",
       "      <th>0</th>\n",
       "      <td>0</td>\n",
       "      <td>100</td>\n",
       "    </tr>\n",
       "    <tr>\n",
       "      <th>1</th>\n",
       "      <td>1</td>\n",
       "      <td>78</td>\n",
       "    </tr>\n",
       "    <tr>\n",
       "      <th>2</th>\n",
       "      <td>2</td>\n",
       "      <td>73</td>\n",
       "    </tr>\n",
       "    <tr>\n",
       "      <th>3</th>\n",
       "      <td>3</td>\n",
       "      <td>64</td>\n",
       "    </tr>\n",
       "    <tr>\n",
       "      <th>4</th>\n",
       "      <td>4</td>\n",
       "      <td>15</td>\n",
       "    </tr>\n",
       "    <tr>\n",
       "      <th>5</th>\n",
       "      <td>5</td>\n",
       "      <td>61</td>\n",
       "    </tr>\n",
       "    <tr>\n",
       "      <th>6</th>\n",
       "      <td>6</td>\n",
       "      <td>51</td>\n",
       "    </tr>\n",
       "    <tr>\n",
       "      <th>7</th>\n",
       "      <td>7</td>\n",
       "      <td>144</td>\n",
       "    </tr>\n",
       "    <tr>\n",
       "      <th>8</th>\n",
       "      <td>8</td>\n",
       "      <td>80</td>\n",
       "    </tr>\n",
       "    <tr>\n",
       "      <th>9</th>\n",
       "      <td>9</td>\n",
       "      <td>146</td>\n",
       "    </tr>\n",
       "  </tbody>\n",
       "</table>\n",
       "</div>"
      ],
      "text/plain": [
       "   candidate  age\n",
       "0          0  100\n",
       "1          1   78\n",
       "2          2   73\n",
       "3          3   64\n",
       "4          4   15\n",
       "5          5   61\n",
       "6          6   51\n",
       "7          7  144\n",
       "8          8   80\n",
       "9          9  146"
      ]
     },
     "execution_count": 41,
     "metadata": {},
     "output_type": "execute_result"
    }
   ],
   "source": [
    "df = pd.DataFrame({\n",
    "    'candidate': range(10),\n",
    "    'age': np.random.randint(0, 150, 10),\n",
    "})\n",
    "\n",
    "df"
   ]
  },
  {
   "cell_type": "code",
   "execution_count": 58,
   "metadata": {},
   "outputs": [
    {
     "name": "stdout",
     "output_type": "stream",
     "text": [
      "\u001b[1;31mSignature:\u001b[0m\n",
      "\u001b[0mpd\u001b[0m\u001b[1;33m.\u001b[0m\u001b[0mcut\u001b[0m\u001b[1;33m(\u001b[0m\u001b[1;33m\n",
      "\u001b[0m    \u001b[0mx\u001b[0m\u001b[1;33m,\u001b[0m\u001b[1;33m\n",
      "\u001b[0m    \u001b[0mbins\u001b[0m\u001b[1;33m,\u001b[0m\u001b[1;33m\n",
      "\u001b[0m    \u001b[0mright\u001b[0m\u001b[1;33m:\u001b[0m \u001b[1;34m'bool'\u001b[0m \u001b[1;33m=\u001b[0m \u001b[1;32mTrue\u001b[0m\u001b[1;33m,\u001b[0m\u001b[1;33m\n",
      "\u001b[0m    \u001b[0mlabels\u001b[0m\u001b[1;33m=\u001b[0m\u001b[1;32mNone\u001b[0m\u001b[1;33m,\u001b[0m\u001b[1;33m\n",
      "\u001b[0m    \u001b[0mretbins\u001b[0m\u001b[1;33m:\u001b[0m \u001b[1;34m'bool'\u001b[0m \u001b[1;33m=\u001b[0m \u001b[1;32mFalse\u001b[0m\u001b[1;33m,\u001b[0m\u001b[1;33m\n",
      "\u001b[0m    \u001b[0mprecision\u001b[0m\u001b[1;33m:\u001b[0m \u001b[1;34m'int'\u001b[0m \u001b[1;33m=\u001b[0m \u001b[1;36m3\u001b[0m\u001b[1;33m,\u001b[0m\u001b[1;33m\n",
      "\u001b[0m    \u001b[0minclude_lowest\u001b[0m\u001b[1;33m:\u001b[0m \u001b[1;34m'bool'\u001b[0m \u001b[1;33m=\u001b[0m \u001b[1;32mFalse\u001b[0m\u001b[1;33m,\u001b[0m\u001b[1;33m\n",
      "\u001b[0m    \u001b[0mduplicates\u001b[0m\u001b[1;33m:\u001b[0m \u001b[1;34m'str'\u001b[0m \u001b[1;33m=\u001b[0m \u001b[1;34m'raise'\u001b[0m\u001b[1;33m,\u001b[0m\u001b[1;33m\n",
      "\u001b[0m    \u001b[0mordered\u001b[0m\u001b[1;33m:\u001b[0m \u001b[1;34m'bool'\u001b[0m \u001b[1;33m=\u001b[0m \u001b[1;32mTrue\u001b[0m\u001b[1;33m,\u001b[0m\u001b[1;33m\n",
      "\u001b[0m\u001b[1;33m)\u001b[0m\u001b[1;33m\u001b[0m\u001b[1;33m\u001b[0m\u001b[0m\n",
      "\u001b[1;31mDocstring:\u001b[0m\n",
      "Bin values into discrete intervals.\n",
      "\n",
      "Use `cut` when you need to segment and sort data values into bins. This\n",
      "function is also useful for going from a continuous variable to a\n",
      "categorical variable. For example, `cut` could convert ages to groups of\n",
      "age ranges. Supports binning into an equal number of bins, or a\n",
      "pre-specified array of bins.\n",
      "\n",
      "Parameters\n",
      "----------\n",
      "x : array-like\n",
      "    The input array to be binned. Must be 1-dimensional.\n",
      "bins : int, sequence of scalars, or IntervalIndex\n",
      "    The criteria to bin by.\n",
      "\n",
      "    * int : Defines the number of equal-width bins in the range of `x`. The\n",
      "      range of `x` is extended by .1% on each side to include the minimum\n",
      "      and maximum values of `x`.\n",
      "    * sequence of scalars : Defines the bin edges allowing for non-uniform\n",
      "      width. No extension of the range of `x` is done.\n",
      "    * IntervalIndex : Defines the exact bins to be used. Note that\n",
      "      IntervalIndex for `bins` must be non-overlapping.\n",
      "\n",
      "right : bool, default True\n",
      "    Indicates whether `bins` includes the rightmost edge or not. If\n",
      "    ``right == True`` (the default), then the `bins` ``[1, 2, 3, 4]``\n",
      "    indicate (1,2], (2,3], (3,4]. This argument is ignored when\n",
      "    `bins` is an IntervalIndex.\n",
      "labels : array or False, default None\n",
      "    Specifies the labels for the returned bins. Must be the same length as\n",
      "    the resulting bins. If False, returns only integer indicators of the\n",
      "    bins. This affects the type of the output container (see below).\n",
      "    This argument is ignored when `bins` is an IntervalIndex. If True,\n",
      "    raises an error. When `ordered=False`, labels must be provided.\n",
      "retbins : bool, default False\n",
      "    Whether to return the bins or not. Useful when bins is provided\n",
      "    as a scalar.\n",
      "precision : int, default 3\n",
      "    The precision at which to store and display the bins labels.\n",
      "include_lowest : bool, default False\n",
      "    Whether the first interval should be left-inclusive or not.\n",
      "duplicates : {default 'raise', 'drop'}, optional\n",
      "    If bin edges are not unique, raise ValueError or drop non-uniques.\n",
      "ordered : bool, default True\n",
      "    Whether the labels are ordered or not. Applies to returned types\n",
      "    Categorical and Series (with Categorical dtype). If True,\n",
      "    the resulting categorical will be ordered. If False, the resulting\n",
      "    categorical will be unordered (labels must be provided).\n",
      "\n",
      "Returns\n",
      "-------\n",
      "out : Categorical, Series, or ndarray\n",
      "    An array-like object representing the respective bin for each value\n",
      "    of `x`. The type depends on the value of `labels`.\n",
      "\n",
      "    * None (default) : returns a Series for Series `x` or a\n",
      "      Categorical for all other inputs. The values stored within\n",
      "      are Interval dtype.\n",
      "\n",
      "    * sequence of scalars : returns a Series for Series `x` or a\n",
      "      Categorical for all other inputs. The values stored within\n",
      "      are whatever the type in the sequence is.\n",
      "\n",
      "    * False : returns an ndarray of integers.\n",
      "\n",
      "bins : numpy.ndarray or IntervalIndex.\n",
      "    The computed or specified bins. Only returned when `retbins=True`.\n",
      "    For scalar or sequence `bins`, this is an ndarray with the computed\n",
      "    bins. If set `duplicates=drop`, `bins` will drop non-unique bin. For\n",
      "    an IntervalIndex `bins`, this is equal to `bins`.\n",
      "\n",
      "See Also\n",
      "--------\n",
      "qcut : Discretize variable into equal-sized buckets based on rank\n",
      "    or based on sample quantiles.\n",
      "Categorical : Array type for storing data that come from a\n",
      "    fixed set of values.\n",
      "Series : One-dimensional array with axis labels (including time series).\n",
      "IntervalIndex : Immutable Index implementing an ordered, sliceable set.\n",
      "\n",
      "Notes\n",
      "-----\n",
      "Any NA values will be NA in the result. Out of bounds values will be NA in\n",
      "the resulting Series or Categorical object.\n",
      "\n",
      "Reference :ref:`the user guide <reshaping.tile.cut>` for more examples.\n",
      "\n",
      "Examples\n",
      "--------\n",
      "Discretize into three equal-sized bins.\n",
      "\n",
      ">>> pd.cut(np.array([1, 7, 5, 4, 6, 3]), 3)\n",
      "... # doctest: +ELLIPSIS\n",
      "[(0.994, 3.0], (5.0, 7.0], (3.0, 5.0], (3.0, 5.0], (5.0, 7.0], ...\n",
      "Categories (3, interval[float64, right]): [(0.994, 3.0] < (3.0, 5.0] ...\n",
      "\n",
      ">>> pd.cut(np.array([1, 7, 5, 4, 6, 3]), 3, retbins=True)\n",
      "... # doctest: +ELLIPSIS\n",
      "([(0.994, 3.0], (5.0, 7.0], (3.0, 5.0], (3.0, 5.0], (5.0, 7.0], ...\n",
      "Categories (3, interval[float64, right]): [(0.994, 3.0] < (3.0, 5.0] ...\n",
      "array([0.994, 3.   , 5.   , 7.   ]))\n",
      "\n",
      "Discovers the same bins, but assign them specific labels. Notice that\n",
      "the returned Categorical's categories are `labels` and is ordered.\n",
      "\n",
      ">>> pd.cut(np.array([1, 7, 5, 4, 6, 3]),\n",
      "...        3, labels=[\"bad\", \"medium\", \"good\"])\n",
      "['bad', 'good', 'medium', 'medium', 'good', 'bad']\n",
      "Categories (3, object): ['bad' < 'medium' < 'good']\n",
      "\n",
      "``ordered=False`` will result in unordered categories when labels are passed.\n",
      "This parameter can be used to allow non-unique labels:\n",
      "\n",
      ">>> pd.cut(np.array([1, 7, 5, 4, 6, 3]), 3,\n",
      "...        labels=[\"B\", \"A\", \"B\"], ordered=False)\n",
      "['B', 'B', 'A', 'A', 'B', 'B']\n",
      "Categories (2, object): ['A', 'B']\n",
      "\n",
      "``labels=False`` implies you just want the bins back.\n",
      "\n",
      ">>> pd.cut([0, 1, 1, 2], bins=4, labels=False)\n",
      "array([0, 1, 1, 3])\n",
      "\n",
      "Passing a Series as an input returns a Series with categorical dtype:\n",
      "\n",
      ">>> s = pd.Series(np.array([2, 4, 6, 8, 10]),\n",
      "...               index=['a', 'b', 'c', 'd', 'e'])\n",
      ">>> pd.cut(s, 3)\n",
      "... # doctest: +ELLIPSIS\n",
      "a    (1.992, 4.667]\n",
      "b    (1.992, 4.667]\n",
      "c    (4.667, 7.333]\n",
      "d     (7.333, 10.0]\n",
      "e     (7.333, 10.0]\n",
      "dtype: category\n",
      "Categories (3, interval[float64, right]): [(1.992, 4.667] < (4.667, ...\n",
      "\n",
      "Passing a Series as an input returns a Series with mapping value.\n",
      "It is used to map numerically to intervals based on bins.\n",
      "\n",
      ">>> s = pd.Series(np.array([2, 4, 6, 8, 10]),\n",
      "...               index=['a', 'b', 'c', 'd', 'e'])\n",
      ">>> pd.cut(s, [0, 2, 4, 6, 8, 10], labels=False, retbins=True, right=False)\n",
      "... # doctest: +ELLIPSIS\n",
      "(a    1.0\n",
      " b    2.0\n",
      " c    3.0\n",
      " d    4.0\n",
      " e    NaN\n",
      " dtype: float64,\n",
      " array([ 0,  2,  4,  6,  8, 10]))\n",
      "\n",
      "Use `drop` optional when bins is not unique\n",
      "\n",
      ">>> pd.cut(s, [0, 2, 4, 6, 10, 10], labels=False, retbins=True,\n",
      "...        right=False, duplicates='drop')\n",
      "... # doctest: +ELLIPSIS\n",
      "(a    1.0\n",
      " b    2.0\n",
      " c    3.0\n",
      " d    3.0\n",
      " e    NaN\n",
      " dtype: float64,\n",
      " array([ 0,  2,  4,  6, 10]))\n",
      "\n",
      "Passing an IntervalIndex for `bins` results in those categories exactly.\n",
      "Notice that values not covered by the IntervalIndex are set to NaN. 0\n",
      "is to the left of the first bin (which is closed on the right), and 1.5\n",
      "falls between two bins.\n",
      "\n",
      ">>> bins = pd.IntervalIndex.from_tuples([(0, 1), (2, 3), (4, 5)])\n",
      ">>> pd.cut([0, 0.5, 1.5, 2.5, 4.5], bins)\n",
      "[NaN, (0.0, 1.0], NaN, (2.0, 3.0], (4.0, 5.0]]\n",
      "Categories (3, interval[int64, right]): [(0, 1] < (2, 3] < (4, 5]]\n",
      "\u001b[1;31mFile:\u001b[0m      c:\\users\\1987698\\appdata\\roaming\\python\\python310\\site-packages\\pandas\\core\\reshape\\tile.py\n",
      "\u001b[1;31mType:\u001b[0m      function\n"
     ]
    }
   ],
   "source": [
    "pd.cut?"
   ]
  },
  {
   "cell_type": "code",
   "execution_count": 57,
   "metadata": {},
   "outputs": [
    {
     "data": {
      "text/plain": [
       "0    not eligible\n",
       "1    not eligible\n",
       "2    not eligible\n",
       "3    not eligible\n",
       "4        eligible\n",
       "5    not eligible\n",
       "6    not eligible\n",
       "7    not eligible\n",
       "8    not eligible\n",
       "9    not eligible\n",
       "Name: age, dtype: category\n",
       "Categories (2, object): ['eligible' < 'not eligible']"
      ]
     },
     "execution_count": 57,
     "metadata": {},
     "output_type": "execute_result"
    }
   ],
   "source": [
    "    pd.cut(df['age'], bins=[0, 18, 200], labels=['eligible', 'not eligible'])"
   ]
  },
  {
   "cell_type": "code",
   "execution_count": 113,
   "metadata": {},
   "outputs": [],
   "source": [
    "df = df.set_index('candidate')"
   ]
  },
  {
   "cell_type": "code",
   "execution_count": 133,
   "metadata": {},
   "outputs": [],
   "source": [
    "eligible = lambda x: 'eligible' if x['age'] > 18 else 'not eligible'"
   ]
  },
  {
   "cell_type": "code",
   "execution_count": 134,
   "metadata": {},
   "outputs": [
    {
     "ename": "TypeError",
     "evalue": "'int' object is not subscriptable",
     "output_type": "error",
     "traceback": [
      "\u001b[1;31m---------------------------------------------------------------------------\u001b[0m",
      "\u001b[1;31mTypeError\u001b[0m                                 Traceback (most recent call last)",
      "\u001b[1;32m~\\AppData\\Local\\Temp/ipykernel_19416/821673825.py\u001b[0m in \u001b[0;36m<module>\u001b[1;34m\u001b[0m\n\u001b[1;32m----> 1\u001b[1;33m \u001b[0mdf\u001b[0m\u001b[1;33m.\u001b[0m\u001b[0mgroupby\u001b[0m\u001b[1;33m(\u001b[0m\u001b[0meligible\u001b[0m\u001b[1;33m)\u001b[0m\u001b[1;33m.\u001b[0m\u001b[0mcount\u001b[0m\u001b[1;33m(\u001b[0m\u001b[1;33m)\u001b[0m\u001b[1;33m\u001b[0m\u001b[1;33m\u001b[0m\u001b[0m\n\u001b[0m",
      "\u001b[1;32m~\\AppData\\Roaming\\Python\\Python310\\site-packages\\pandas\\core\\frame.py\u001b[0m in \u001b[0;36mgroupby\u001b[1;34m(self, by, axis, level, as_index, sort, group_keys, observed, dropna)\u001b[0m\n\u001b[0;32m   8867\u001b[0m             \u001b[1;32mraise\u001b[0m \u001b[0mTypeError\u001b[0m\u001b[1;33m(\u001b[0m\u001b[1;34m\"You have to supply one of 'by' and 'level'\"\u001b[0m\u001b[1;33m)\u001b[0m\u001b[1;33m\u001b[0m\u001b[1;33m\u001b[0m\u001b[0m\n\u001b[0;32m   8868\u001b[0m \u001b[1;33m\u001b[0m\u001b[0m\n\u001b[1;32m-> 8869\u001b[1;33m         return DataFrameGroupBy(\n\u001b[0m\u001b[0;32m   8870\u001b[0m             \u001b[0mobj\u001b[0m\u001b[1;33m=\u001b[0m\u001b[0mself\u001b[0m\u001b[1;33m,\u001b[0m\u001b[1;33m\u001b[0m\u001b[1;33m\u001b[0m\u001b[0m\n\u001b[0;32m   8871\u001b[0m             \u001b[0mkeys\u001b[0m\u001b[1;33m=\u001b[0m\u001b[0mby\u001b[0m\u001b[1;33m,\u001b[0m\u001b[1;33m\u001b[0m\u001b[1;33m\u001b[0m\u001b[0m\n",
      "\u001b[1;32m~\\AppData\\Roaming\\Python\\Python310\\site-packages\\pandas\\core\\groupby\\groupby.py\u001b[0m in \u001b[0;36m__init__\u001b[1;34m(self, obj, keys, axis, level, grouper, exclusions, selection, as_index, sort, group_keys, observed, dropna)\u001b[0m\n\u001b[0;32m   1276\u001b[0m \u001b[1;33m\u001b[0m\u001b[0m\n\u001b[0;32m   1277\u001b[0m         \u001b[1;32mif\u001b[0m \u001b[0mgrouper\u001b[0m \u001b[1;32mis\u001b[0m \u001b[1;32mNone\u001b[0m\u001b[1;33m:\u001b[0m\u001b[1;33m\u001b[0m\u001b[1;33m\u001b[0m\u001b[0m\n\u001b[1;32m-> 1278\u001b[1;33m             grouper, exclusions, obj = get_grouper(\n\u001b[0m\u001b[0;32m   1279\u001b[0m                 \u001b[0mobj\u001b[0m\u001b[1;33m,\u001b[0m\u001b[1;33m\u001b[0m\u001b[1;33m\u001b[0m\u001b[0m\n\u001b[0;32m   1280\u001b[0m                 \u001b[0mkeys\u001b[0m\u001b[1;33m,\u001b[0m\u001b[1;33m\u001b[0m\u001b[1;33m\u001b[0m\u001b[0m\n",
      "\u001b[1;32m~\\AppData\\Roaming\\Python\\Python310\\site-packages\\pandas\\core\\groupby\\grouper.py\u001b[0m in \u001b[0;36mget_grouper\u001b[1;34m(obj, key, axis, level, sort, observed, validate, dropna)\u001b[0m\n\u001b[0;32m   1018\u001b[0m         \u001b[1;31m# allow us to passing the actual Grouping as the gpr\u001b[0m\u001b[1;33m\u001b[0m\u001b[1;33m\u001b[0m\u001b[0m\n\u001b[0;32m   1019\u001b[0m         ping = (\n\u001b[1;32m-> 1020\u001b[1;33m             Grouping(\n\u001b[0m\u001b[0;32m   1021\u001b[0m                 \u001b[0mgroup_axis\u001b[0m\u001b[1;33m,\u001b[0m\u001b[1;33m\u001b[0m\u001b[1;33m\u001b[0m\u001b[0m\n\u001b[0;32m   1022\u001b[0m                 \u001b[0mgpr\u001b[0m\u001b[1;33m,\u001b[0m\u001b[1;33m\u001b[0m\u001b[1;33m\u001b[0m\u001b[0m\n",
      "\u001b[1;32m~\\AppData\\Roaming\\Python\\Python310\\site-packages\\pandas\\core\\groupby\\grouper.py\u001b[0m in \u001b[0;36m__init__\u001b[1;34m(self, index, grouper, obj, level, sort, observed, in_axis, dropna, uniques)\u001b[0m\n\u001b[0;32m    601\u001b[0m                 \u001b[1;32mraise\u001b[0m \u001b[0mValueError\u001b[0m\u001b[1;33m(\u001b[0m\u001b[1;34mf\"Grouper for '{t}' not 1-dimensional\"\u001b[0m\u001b[1;33m)\u001b[0m\u001b[1;33m\u001b[0m\u001b[1;33m\u001b[0m\u001b[0m\n\u001b[0;32m    602\u001b[0m \u001b[1;33m\u001b[0m\u001b[0m\n\u001b[1;32m--> 603\u001b[1;33m             \u001b[0mgrouping_vector\u001b[0m \u001b[1;33m=\u001b[0m \u001b[0mindex\u001b[0m\u001b[1;33m.\u001b[0m\u001b[0mmap\u001b[0m\u001b[1;33m(\u001b[0m\u001b[0mgrouping_vector\u001b[0m\u001b[1;33m)\u001b[0m\u001b[1;33m\u001b[0m\u001b[1;33m\u001b[0m\u001b[0m\n\u001b[0m\u001b[0;32m    604\u001b[0m \u001b[1;33m\u001b[0m\u001b[0m\n\u001b[0;32m    605\u001b[0m             if not (\n",
      "\u001b[1;32m~\\AppData\\Roaming\\Python\\Python310\\site-packages\\pandas\\core\\indexes\\base.py\u001b[0m in \u001b[0;36mmap\u001b[1;34m(self, mapper, na_action)\u001b[0m\n\u001b[0;32m   6416\u001b[0m         \u001b[1;32mfrom\u001b[0m \u001b[0mpandas\u001b[0m\u001b[1;33m.\u001b[0m\u001b[0mcore\u001b[0m\u001b[1;33m.\u001b[0m\u001b[0mindexes\u001b[0m\u001b[1;33m.\u001b[0m\u001b[0mmulti\u001b[0m \u001b[1;32mimport\u001b[0m \u001b[0mMultiIndex\u001b[0m\u001b[1;33m\u001b[0m\u001b[1;33m\u001b[0m\u001b[0m\n\u001b[0;32m   6417\u001b[0m \u001b[1;33m\u001b[0m\u001b[0m\n\u001b[1;32m-> 6418\u001b[1;33m         \u001b[0mnew_values\u001b[0m \u001b[1;33m=\u001b[0m \u001b[0mself\u001b[0m\u001b[1;33m.\u001b[0m\u001b[0m_map_values\u001b[0m\u001b[1;33m(\u001b[0m\u001b[0mmapper\u001b[0m\u001b[1;33m,\u001b[0m \u001b[0mna_action\u001b[0m\u001b[1;33m=\u001b[0m\u001b[0mna_action\u001b[0m\u001b[1;33m)\u001b[0m\u001b[1;33m\u001b[0m\u001b[1;33m\u001b[0m\u001b[0m\n\u001b[0m\u001b[0;32m   6419\u001b[0m \u001b[1;33m\u001b[0m\u001b[0m\n\u001b[0;32m   6420\u001b[0m         \u001b[1;31m# we can return a MultiIndex\u001b[0m\u001b[1;33m\u001b[0m\u001b[1;33m\u001b[0m\u001b[0m\n",
      "\u001b[1;32m~\\AppData\\Roaming\\Python\\Python310\\site-packages\\pandas\\core\\base.py\u001b[0m in \u001b[0;36m_map_values\u001b[1;34m(self, mapper, na_action, convert)\u001b[0m\n\u001b[0;32m    919\u001b[0m             \u001b[1;32mreturn\u001b[0m \u001b[0marr\u001b[0m\u001b[1;33m.\u001b[0m\u001b[0mmap\u001b[0m\u001b[1;33m(\u001b[0m\u001b[0mmapper\u001b[0m\u001b[1;33m,\u001b[0m \u001b[0mna_action\u001b[0m\u001b[1;33m=\u001b[0m\u001b[0mna_action\u001b[0m\u001b[1;33m)\u001b[0m\u001b[1;33m\u001b[0m\u001b[1;33m\u001b[0m\u001b[0m\n\u001b[0;32m    920\u001b[0m \u001b[1;33m\u001b[0m\u001b[0m\n\u001b[1;32m--> 921\u001b[1;33m         \u001b[1;32mreturn\u001b[0m \u001b[0malgorithms\u001b[0m\u001b[1;33m.\u001b[0m\u001b[0mmap_array\u001b[0m\u001b[1;33m(\u001b[0m\u001b[0marr\u001b[0m\u001b[1;33m,\u001b[0m \u001b[0mmapper\u001b[0m\u001b[1;33m,\u001b[0m \u001b[0mna_action\u001b[0m\u001b[1;33m=\u001b[0m\u001b[0mna_action\u001b[0m\u001b[1;33m,\u001b[0m \u001b[0mconvert\u001b[0m\u001b[1;33m=\u001b[0m\u001b[0mconvert\u001b[0m\u001b[1;33m)\u001b[0m\u001b[1;33m\u001b[0m\u001b[1;33m\u001b[0m\u001b[0m\n\u001b[0m\u001b[0;32m    922\u001b[0m \u001b[1;33m\u001b[0m\u001b[0m\n\u001b[0;32m    923\u001b[0m     \u001b[1;33m@\u001b[0m\u001b[0mfinal\u001b[0m\u001b[1;33m\u001b[0m\u001b[1;33m\u001b[0m\u001b[0m\n",
      "\u001b[1;32m~\\AppData\\Roaming\\Python\\Python310\\site-packages\\pandas\\core\\algorithms.py\u001b[0m in \u001b[0;36mmap_array\u001b[1;34m(arr, mapper, na_action, convert)\u001b[0m\n\u001b[0;32m   1812\u001b[0m     \u001b[0mvalues\u001b[0m \u001b[1;33m=\u001b[0m \u001b[0marr\u001b[0m\u001b[1;33m.\u001b[0m\u001b[0mastype\u001b[0m\u001b[1;33m(\u001b[0m\u001b[0mobject\u001b[0m\u001b[1;33m,\u001b[0m \u001b[0mcopy\u001b[0m\u001b[1;33m=\u001b[0m\u001b[1;32mFalse\u001b[0m\u001b[1;33m)\u001b[0m\u001b[1;33m\u001b[0m\u001b[1;33m\u001b[0m\u001b[0m\n\u001b[0;32m   1813\u001b[0m     \u001b[1;32mif\u001b[0m \u001b[0mna_action\u001b[0m \u001b[1;32mis\u001b[0m \u001b[1;32mNone\u001b[0m\u001b[1;33m:\u001b[0m\u001b[1;33m\u001b[0m\u001b[1;33m\u001b[0m\u001b[0m\n\u001b[1;32m-> 1814\u001b[1;33m         \u001b[1;32mreturn\u001b[0m \u001b[0mlib\u001b[0m\u001b[1;33m.\u001b[0m\u001b[0mmap_infer\u001b[0m\u001b[1;33m(\u001b[0m\u001b[0mvalues\u001b[0m\u001b[1;33m,\u001b[0m \u001b[0mmapper\u001b[0m\u001b[1;33m,\u001b[0m \u001b[0mconvert\u001b[0m\u001b[1;33m=\u001b[0m\u001b[0mconvert\u001b[0m\u001b[1;33m)\u001b[0m\u001b[1;33m\u001b[0m\u001b[1;33m\u001b[0m\u001b[0m\n\u001b[0m\u001b[0;32m   1815\u001b[0m     \u001b[1;32melse\u001b[0m\u001b[1;33m:\u001b[0m\u001b[1;33m\u001b[0m\u001b[1;33m\u001b[0m\u001b[0m\n\u001b[0;32m   1816\u001b[0m         return lib.map_infer_mask(\n",
      "\u001b[1;32mlib.pyx\u001b[0m in \u001b[0;36mpandas._libs.lib.map_infer\u001b[1;34m()\u001b[0m\n",
      "\u001b[1;32m~\\AppData\\Local\\Temp/ipykernel_19416/523815922.py\u001b[0m in \u001b[0;36m<lambda>\u001b[1;34m(x)\u001b[0m\n\u001b[1;32m----> 1\u001b[1;33m \u001b[0meligible\u001b[0m \u001b[1;33m=\u001b[0m \u001b[1;32mlambda\u001b[0m \u001b[0mx\u001b[0m\u001b[1;33m:\u001b[0m \u001b[1;34m'eligible'\u001b[0m \u001b[1;32mif\u001b[0m \u001b[0mx\u001b[0m\u001b[1;33m[\u001b[0m\u001b[1;34m'age'\u001b[0m\u001b[1;33m]\u001b[0m \u001b[1;33m>\u001b[0m \u001b[1;36m18\u001b[0m \u001b[1;32melse\u001b[0m \u001b[1;34m'not eligible'\u001b[0m\u001b[1;33m\u001b[0m\u001b[1;33m\u001b[0m\u001b[0m\n\u001b[0m",
      "\u001b[1;31mTypeError\u001b[0m: 'int' object is not subscriptable"
     ]
    }
   ],
   "source": [
    "df.groupby(eligible).count()"
   ]
  }
 ],
 "metadata": {
  "kernelspec": {
   "display_name": "Python 3",
   "language": "python",
   "name": "python3"
  },
  "language_info": {
   "codemirror_mode": {
    "name": "ipython",
    "version": 3
   },
   "file_extension": ".py",
   "mimetype": "text/x-python",
   "name": "python",
   "nbconvert_exporter": "python",
   "pygments_lexer": "ipython3",
   "version": "3.10.0"
  }
 },
 "nbformat": 4,
 "nbformat_minor": 2
}
