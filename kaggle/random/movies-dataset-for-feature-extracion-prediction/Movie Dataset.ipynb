{
 "cells": [
  {
   "cell_type": "code",
   "execution_count": 2,
   "id": "40f5c89a-02d2-4aa3-af99-22713a0b1468",
   "metadata": {},
   "outputs": [],
   "source": [
    "import numpy as np\n",
    "import pandas as pd\n",
    "import matplotlib.pyplot as plt\n",
    "import seaborn as sns"
   ]
  },
  {
   "cell_type": "code",
   "execution_count": 3,
   "id": "25968367-30ae-46d7-86c3-a204ec5ffb45",
   "metadata": {},
   "outputs": [],
   "source": [
    "sns.set_style('white')"
   ]
  },
  {
   "cell_type": "code",
   "execution_count": 4,
   "id": "5245c7f0-af5e-4ad1-aa6f-a38d47c42cd1",
   "metadata": {},
   "outputs": [
    {
     "data": {
      "text/html": [
       "<div>\n",
       "<style scoped>\n",
       "    .dataframe tbody tr th:only-of-type {\n",
       "        vertical-align: middle;\n",
       "    }\n",
       "\n",
       "    .dataframe tbody tr th {\n",
       "        vertical-align: top;\n",
       "    }\n",
       "\n",
       "    .dataframe thead th {\n",
       "        text-align: right;\n",
       "    }\n",
       "</style>\n",
       "<table border=\"1\" class=\"dataframe\">\n",
       "  <thead>\n",
       "    <tr style=\"text-align: right;\">\n",
       "      <th></th>\n",
       "      <th>MOVIES</th>\n",
       "      <th>YEAR</th>\n",
       "      <th>GENRE</th>\n",
       "      <th>RATING</th>\n",
       "      <th>ONE-LINE</th>\n",
       "      <th>STARS</th>\n",
       "      <th>VOTES</th>\n",
       "      <th>RunTime</th>\n",
       "      <th>Gross</th>\n",
       "    </tr>\n",
       "  </thead>\n",
       "  <tbody>\n",
       "    <tr>\n",
       "      <th>0</th>\n",
       "      <td>Blood Red Sky</td>\n",
       "      <td>(2021)</td>\n",
       "      <td>\\nAction, Horror, Thriller</td>\n",
       "      <td>6.1</td>\n",
       "      <td>\\nA woman with a mysterious illness is forced ...</td>\n",
       "      <td>\\n    Director:\\nPeter Thorwarth\\n| \\n    Star...</td>\n",
       "      <td>21,062</td>\n",
       "      <td>121.0</td>\n",
       "      <td>NaN</td>\n",
       "    </tr>\n",
       "    <tr>\n",
       "      <th>1</th>\n",
       "      <td>Masters of the Universe: Revelation</td>\n",
       "      <td>(2021– )</td>\n",
       "      <td>\\nAnimation, Action, Adventure</td>\n",
       "      <td>5.0</td>\n",
       "      <td>\\nThe war for Eternia begins again in what may...</td>\n",
       "      <td>\\n            \\n    Stars:\\nChris Wood, \\nSara...</td>\n",
       "      <td>17,870</td>\n",
       "      <td>25.0</td>\n",
       "      <td>NaN</td>\n",
       "    </tr>\n",
       "    <tr>\n",
       "      <th>2</th>\n",
       "      <td>The Walking Dead</td>\n",
       "      <td>(2010–2022)</td>\n",
       "      <td>\\nDrama, Horror, Thriller</td>\n",
       "      <td>8.2</td>\n",
       "      <td>\\nSheriff Deputy Rick Grimes wakes up from a c...</td>\n",
       "      <td>\\n            \\n    Stars:\\nAndrew Lincoln, \\n...</td>\n",
       "      <td>885,805</td>\n",
       "      <td>44.0</td>\n",
       "      <td>NaN</td>\n",
       "    </tr>\n",
       "    <tr>\n",
       "      <th>3</th>\n",
       "      <td>Rick and Morty</td>\n",
       "      <td>(2013– )</td>\n",
       "      <td>\\nAnimation, Adventure, Comedy</td>\n",
       "      <td>9.2</td>\n",
       "      <td>\\nAn animated series that follows the exploits...</td>\n",
       "      <td>\\n            \\n    Stars:\\nJustin Roiland, \\n...</td>\n",
       "      <td>414,849</td>\n",
       "      <td>23.0</td>\n",
       "      <td>NaN</td>\n",
       "    </tr>\n",
       "    <tr>\n",
       "      <th>4</th>\n",
       "      <td>Army of Thieves</td>\n",
       "      <td>(2021)</td>\n",
       "      <td>\\nAction, Crime, Horror</td>\n",
       "      <td>NaN</td>\n",
       "      <td>\\nA prequel, set before the events of Army of ...</td>\n",
       "      <td>\\n    Director:\\nMatthias Schweighöfer\\n| \\n  ...</td>\n",
       "      <td>NaN</td>\n",
       "      <td>NaN</td>\n",
       "      <td>NaN</td>\n",
       "    </tr>\n",
       "  </tbody>\n",
       "</table>\n",
       "</div>"
      ],
      "text/plain": [
       "                                MOVIES         YEAR  \\\n",
       "0                        Blood Red Sky       (2021)   \n",
       "1  Masters of the Universe: Revelation     (2021– )   \n",
       "2                     The Walking Dead  (2010–2022)   \n",
       "3                       Rick and Morty     (2013– )   \n",
       "4                      Army of Thieves       (2021)   \n",
       "\n",
       "                                        GENRE  RATING  \\\n",
       "0      \\nAction, Horror, Thriller                 6.1   \n",
       "1  \\nAnimation, Action, Adventure                 5.0   \n",
       "2       \\nDrama, Horror, Thriller                 8.2   \n",
       "3  \\nAnimation, Adventure, Comedy                 9.2   \n",
       "4         \\nAction, Crime, Horror                 NaN   \n",
       "\n",
       "                                            ONE-LINE  \\\n",
       "0  \\nA woman with a mysterious illness is forced ...   \n",
       "1  \\nThe war for Eternia begins again in what may...   \n",
       "2  \\nSheriff Deputy Rick Grimes wakes up from a c...   \n",
       "3  \\nAn animated series that follows the exploits...   \n",
       "4  \\nA prequel, set before the events of Army of ...   \n",
       "\n",
       "                                               STARS    VOTES  RunTime Gross  \n",
       "0  \\n    Director:\\nPeter Thorwarth\\n| \\n    Star...   21,062    121.0   NaN  \n",
       "1  \\n            \\n    Stars:\\nChris Wood, \\nSara...   17,870     25.0   NaN  \n",
       "2  \\n            \\n    Stars:\\nAndrew Lincoln, \\n...  885,805     44.0   NaN  \n",
       "3  \\n            \\n    Stars:\\nJustin Roiland, \\n...  414,849     23.0   NaN  \n",
       "4  \\n    Director:\\nMatthias Schweighöfer\\n| \\n  ...      NaN      NaN   NaN  "
      ]
     },
     "execution_count": 4,
     "metadata": {},
     "output_type": "execute_result"
    }
   ],
   "source": [
    "df = pd.read_csv('movies.csv')\n",
    "df.head()"
   ]
  },
  {
   "cell_type": "code",
   "execution_count": 5,
   "id": "64a1e256-81a1-43eb-88bd-7313deb95d43",
   "metadata": {},
   "outputs": [
    {
     "data": {
      "text/plain": [
       "(9999, 9)"
      ]
     },
     "execution_count": 5,
     "metadata": {},
     "output_type": "execute_result"
    }
   ],
   "source": [
    "df.shape"
   ]
  },
  {
   "cell_type": "code",
   "execution_count": 6,
   "id": "28233fa8-c413-4ebc-b96c-5a43d550ea5b",
   "metadata": {},
   "outputs": [
    {
     "name": "stdout",
     "output_type": "stream",
     "text": [
      "<class 'pandas.core.frame.DataFrame'>\n",
      "RangeIndex: 9999 entries, 0 to 9998\n",
      "Data columns (total 9 columns):\n",
      " #   Column    Non-Null Count  Dtype  \n",
      "---  ------    --------------  -----  \n",
      " 0   MOVIES    9999 non-null   object \n",
      " 1   YEAR      9355 non-null   object \n",
      " 2   GENRE     9919 non-null   object \n",
      " 3   RATING    8179 non-null   float64\n",
      " 4   ONE-LINE  9999 non-null   object \n",
      " 5   STARS     9999 non-null   object \n",
      " 6   VOTES     8179 non-null   object \n",
      " 7   RunTime   7041 non-null   float64\n",
      " 8   Gross     460 non-null    object \n",
      "dtypes: float64(2), object(7)\n",
      "memory usage: 703.2+ KB\n"
     ]
    }
   ],
   "source": [
    "df.info()"
   ]
  },
  {
   "cell_type": "code",
   "execution_count": 7,
   "id": "3af46234-dfc5-4fb9-bb8b-206858588869",
   "metadata": {},
   "outputs": [],
   "source": [
    "df['RATING'] = df['RATING'].astype(pd.Float32Dtype())\n",
    "df['RunTime'] = df['RunTime'].astype(pd.Float32Dtype())\n",
    "for col in df.columns[df.dtypes == 'object']:\n",
    "    df[col] = df[col].astype(pd.StringDtype())\n",
    "df['VOTES'] = df['VOTES'].str.replace(',', '').astype(pd.Int32Dtype())"
   ]
  },
  {
   "cell_type": "code",
   "execution_count": 8,
   "id": "9294d0f9-1cc0-458c-a2df-cd845684c48a",
   "metadata": {},
   "outputs": [
    {
     "name": "stdout",
     "output_type": "stream",
     "text": [
      "<class 'pandas.core.frame.DataFrame'>\n",
      "RangeIndex: 9999 entries, 0 to 9998\n",
      "Data columns (total 9 columns):\n",
      " #   Column    Non-Null Count  Dtype  \n",
      "---  ------    --------------  -----  \n",
      " 0   MOVIES    9999 non-null   string \n",
      " 1   YEAR      9355 non-null   string \n",
      " 2   GENRE     9919 non-null   string \n",
      " 3   RATING    8179 non-null   Float32\n",
      " 4   ONE-LINE  9999 non-null   string \n",
      " 5   STARS     9999 non-null   string \n",
      " 6   VOTES     8179 non-null   Int32  \n",
      " 7   RunTime   7041 non-null   Float32\n",
      " 8   Gross     460 non-null    string \n",
      "dtypes: Float32(2), Int32(1), string(6)\n",
      "memory usage: 615.3 KB\n"
     ]
    }
   ],
   "source": [
    "df.info()"
   ]
  },
  {
   "cell_type": "code",
   "execution_count": 9,
   "id": "0451dec4-833c-4b51-b7f4-95dd9f6c6cdd",
   "metadata": {},
   "outputs": [
    {
     "name": "stdout",
     "output_type": "stream",
     "text": [
      "  column_name  notna_values  na_values\n",
      "0      MOVIES          9999          0\n",
      "1        YEAR          9355        644\n",
      "2       GENRE          9919         80\n",
      "3      RATING          8179       1820\n",
      "4    ONE-LINE          9999          0\n",
      "5       STARS          9999          0\n",
      "6       VOTES          8179       1820\n",
      "7     RunTime          7041       2958\n",
      "8       Gross           460       9539\n"
     ]
    },
    {
     "data": {
      "image/png": "[encoded data removed]",
      "text/plain": [
       "<Figure size 432x288 with 1 Axes>"
      ]
     },
     "metadata": {
      "needs_background": "light"
     },
     "output_type": "display_data"
    }
   ],
   "source": [
    "def show_null_analysis(df: pd.DataFrame):\n",
    "    values_info_df = pd.DataFrame([{ \n",
    "            'column_name': col,\n",
    "            'notna_values': df[col].notna().sum(),\n",
    "            'na_values': df[col].isna().sum(),\n",
    "    } for col in df.columns ])\n",
    "    print(values_info_df)\n",
    "    values_info_df.set_index('column_name').plot(kind='barh', stacked=True)\n",
    "    plt.legend(loc='upper right', bbox_to_anchor=(1.3, 1))\n",
    "    plt.draw()\n",
    "\n",
    "show_null_analysis(df)"
   ]
  },
  {
   "cell_type": "code",
   "execution_count": 10,
   "id": "c31a899a-bbd4-4cfc-a6cb-23e528ebf198",
   "metadata": {},
   "outputs": [
    {
     "name": "stdout",
     "output_type": "stream",
     "text": [
      "  column_name  notna_values  na_values\n",
      "0      MOVIES          9959          0\n",
      "1        YEAR          9355        604\n",
      "2       GENRE          9919         40\n",
      "3      RATING          8179       1780\n",
      "4    ONE-LINE          9959          0\n",
      "5       STARS          9959          0\n",
      "6       VOTES          8179       1780\n",
      "7     RunTime          7041       2918\n",
      "8       Gross           460       9499\n"
     ]
    },
    {
     "data": {
      "image/png": "[encoded data removed]",
      "text/plain": [
       "<Figure size 432x288 with 1 Axes>"
      ]
     },
     "metadata": {
      "needs_background": "light"
     },
     "output_type": "display_data"
    }
   ],
   "source": [
    "df = df.dropna(thresh=df.shape[1] - 5)  # allow 5 nulls\n",
    "show_null_analysis(df)"
   ]
  },
  {
   "cell_type": "code",
   "execution_count": 11,
   "id": "967be99f-f5e1-4a74-abc7-9bd2a7f61299",
   "metadata": {},
   "outputs": [],
   "source": [
    "rows = df[df['ONE-LINE'].str.contains(\"add a plot\", case=False)].index\n",
    "columns = ['ONE-LINE']\n",
    "df.loc[rows, columns] = pd.NA"
   ]
  },
  {
   "cell_type": "code",
   "execution_count": 12,
   "id": "1f75d2e4-e5eb-4973-bb7d-2163b49fc5b5",
   "metadata": {},
   "outputs": [
    {
     "data": {
      "text/plain": [
       "3471"
      ]
     },
     "execution_count": 12,
     "metadata": {},
     "output_type": "execute_result"
    }
   ],
   "source": [
    "duplication_scope = ['MOVIES', 'YEAR']\n",
    "duplicated = df.duplicated(subset=duplication_scope, keep=False)\n",
    "duplicated.sum()"
   ]
  },
  {
   "cell_type": "code",
   "execution_count": 13,
   "id": "7ec0fdfe-936b-453d-a727-6a29839dc326",
   "metadata": {},
   "outputs": [],
   "source": [
    "def get_index_of_record_with_least_na(df):\n",
    "    return df.isna().sum(axis=1).idxmin()\n",
    "index_of_record_with_least_na = df[duplicated].groupby(['MOVIES', 'YEAR']).apply(get_index_of_record_with_least_na)\n",
    "\n",
    "df = df.loc[pd.Index(index_of_record_with_least_na.values).union(df[~duplicated].index)]"
   ]
  },
  {
   "cell_type": "code",
   "execution_count": 14,
   "id": "7cc8e2ef-0965-4222-8803-22639a15100f",
   "metadata": {},
   "outputs": [
    {
     "name": "stdout",
     "output_type": "stream",
     "text": [
      "  column_name  notna_values  na_values\n",
      "0      MOVIES          6820          0\n",
      "1        YEAR          6404        416\n",
      "2       GENRE          6782         38\n",
      "3      RATING          5856        964\n",
      "4    ONE-LINE          6460        360\n",
      "5       STARS          6820          0\n",
      "6       VOTES          5856        964\n",
      "7     RunTime          5349       1471\n",
      "8       Gross           460       6360\n"
     ]
    },
    {
     "data": {
      "image/png": "[encoded data removed]",
      "text/plain": [
       "<Figure size 432x288 with 1 Axes>"
      ]
     },
     "metadata": {
      "needs_background": "light"
     },
     "output_type": "display_data"
    }
   ],
   "source": [
    "show_null_analysis(df)"
   ]
  },
  {
   "cell_type": "markdown",
   "id": "b956434d-1f05-47bb-aab2-71452091cbb3",
   "metadata": {},
   "source": [
    "---"
   ]
  },
  {
   "cell_type": "markdown",
   "id": "24a87eba-2c1f-4439-9363-aff927a6c9d0",
   "metadata": {},
   "source": [
    "3 things\n",
    "\n",
    "- genre\n",
    "- rating\n",
    "- gross"
   ]
  },
  {
   "cell_type": "markdown",
   "id": "6b520fa2-9cb3-45d2-8a19-e00ea44705be",
   "metadata": {},
   "source": [
    "## Model Building"
   ]
  },
  {
   "cell_type": "markdown",
   "id": "55dd5ca3-c8ca-40fc-881c-eacedd82e7a0",
   "metadata": {},
   "source": [
    "### Predicting Genre"
   ]
  },
  {
   "cell_type": "markdown",
   "id": "35777168-af98-4cc8-9b59-b73ea7a9f876",
   "metadata": {},
   "source": [
    "#### Raw Features\n",
    "\n",
    "Features useful for predicting generes"
   ]
  },
  {
   "cell_type": "code",
   "execution_count": 15,
   "id": "9256adc8-c871-4dbb-b9a3-05ca8530a825",
   "metadata": {},
   "outputs": [],
   "source": [
    "features = ['MOVIES', 'ONE-LINE', 'STARS']\n",
    "target = ['GENRE']"
   ]
  },
  {
   "cell_type": "code",
   "execution_count": 16,
   "id": "c8ea1a75-7885-4c71-895d-dd84104d944f",
   "metadata": {},
   "outputs": [
    {
     "data": {
      "text/html": [
       "<div>\n",
       "<style scoped>\n",
       "    .dataframe tbody tr th:only-of-type {\n",
       "        vertical-align: middle;\n",
       "    }\n",
       "\n",
       "    .dataframe tbody tr th {\n",
       "        vertical-align: top;\n",
       "    }\n",
       "\n",
       "    .dataframe thead th {\n",
       "        text-align: right;\n",
       "    }\n",
       "</style>\n",
       "<table border=\"1\" class=\"dataframe\">\n",
       "  <thead>\n",
       "    <tr style=\"text-align: right;\">\n",
       "      <th></th>\n",
       "      <th>MOVIES</th>\n",
       "      <th>ONE-LINE</th>\n",
       "      <th>STARS</th>\n",
       "      <th>GENRE</th>\n",
       "    </tr>\n",
       "  </thead>\n",
       "  <tbody>\n",
       "    <tr>\n",
       "      <th>0</th>\n",
       "      <td>Blood Red Sky</td>\n",
       "      <td>A woman with a mysterious illness is forced i...</td>\n",
       "      <td>Director:\n",
       "Peter Thorwarth\n",
       "| \n",
       "    Stars:\n",
       "P...</td>\n",
       "      <td>Action, Horror, Thriller</td>\n",
       "    </tr>\n",
       "    <tr>\n",
       "      <th>1</th>\n",
       "      <td>Masters of the Universe: Revelation</td>\n",
       "      <td>The war for Eternia begins again in what may ...</td>\n",
       "      <td>Stars:\n",
       "Chris Wood, \n",
       "Sarah Mi...</td>\n",
       "      <td>Animation, Action, Adventure</td>\n",
       "    </tr>\n",
       "    <tr>\n",
       "      <th>2</th>\n",
       "      <td>The Walking Dead</td>\n",
       "      <td>Sheriff Deputy Rick Grimes wakes up from a co...</td>\n",
       "      <td>Stars:\n",
       "Andrew Lincoln, \n",
       "Norm...</td>\n",
       "      <td>Drama, Horror, Thriller</td>\n",
       "    </tr>\n",
       "    <tr>\n",
       "      <th>3</th>\n",
       "      <td>Rick and Morty</td>\n",
       "      <td>An animated series that follows the exploits ...</td>\n",
       "      <td>Stars:\n",
       "Justin Roiland, \n",
       "Chri...</td>\n",
       "      <td>Animation, Adventure, Comedy</td>\n",
       "    </tr>\n",
       "    <tr>\n",
       "      <th>4</th>\n",
       "      <td>Army of Thieves</td>\n",
       "      <td>A prequel, set before the events of Army of t...</td>\n",
       "      <td>Director:\n",
       "Matthias Schweighöfer\n",
       "| \n",
       "    St...</td>\n",
       "      <td>Action, Crime, Horror</td>\n",
       "    </tr>\n",
       "    <tr>\n",
       "      <th>...</th>\n",
       "      <td>...</td>\n",
       "      <td>...</td>\n",
       "      <td>...</td>\n",
       "      <td>...</td>\n",
       "    </tr>\n",
       "    <tr>\n",
       "      <th>9956</th>\n",
       "      <td>Sexify</td>\n",
       "      <td>Natalia decides to build an app that optimize...</td>\n",
       "      <td>Director:\n",
       "Piotr Domalewski\n",
       "| \n",
       "    Stars:\n",
       "...</td>\n",
       "      <td>Comedy, Drama</td>\n",
       "    </tr>\n",
       "    <tr>\n",
       "      <th>9964</th>\n",
       "      <td>AlRawabi School for Girls</td>\n",
       "      <td>&lt;NA&gt;</td>\n",
       "      <td>Director:\n",
       "Tima Shomali\n",
       "| \n",
       "    Stars:\n",
       "Sals...</td>\n",
       "      <td>Drama</td>\n",
       "    </tr>\n",
       "    <tr>\n",
       "      <th>9993</th>\n",
       "      <td>Totenfrau</td>\n",
       "      <td>&lt;NA&gt;</td>\n",
       "      <td>Director:\n",
       "Nicolai Rohde\n",
       "| \n",
       "    Stars:\n",
       "Fel...</td>\n",
       "      <td>Drama, Thriller</td>\n",
       "    </tr>\n",
       "    <tr>\n",
       "      <th>9995</th>\n",
       "      <td>Arcane</td>\n",
       "      <td>&lt;NA&gt;</td>\n",
       "      <td></td>\n",
       "      <td>Animation, Action, Adventure</td>\n",
       "    </tr>\n",
       "    <tr>\n",
       "      <th>9996</th>\n",
       "      <td>Heart of Invictus</td>\n",
       "      <td>&lt;NA&gt;</td>\n",
       "      <td>Director:\n",
       "Orlando von Einsiedel\n",
       "| \n",
       "    St...</td>\n",
       "      <td>Documentary, Sport</td>\n",
       "    </tr>\n",
       "  </tbody>\n",
       "</table>\n",
       "<p>6820 rows × 4 columns</p>\n",
       "</div>"
      ],
      "text/plain": [
       "                                   MOVIES  \\\n",
       "0                           Blood Red Sky   \n",
       "1     Masters of the Universe: Revelation   \n",
       "2                        The Walking Dead   \n",
       "3                          Rick and Morty   \n",
       "4                         Army of Thieves   \n",
       "...                                   ...   \n",
       "9956                               Sexify   \n",
       "9964            AlRawabi School for Girls   \n",
       "9993                            Totenfrau   \n",
       "9995                               Arcane   \n",
       "9996                    Heart of Invictus   \n",
       "\n",
       "                                               ONE-LINE  \\\n",
       "0     \n",
       "A woman with a mysterious illness is forced i...   \n",
       "1     \n",
       "The war for Eternia begins again in what may ...   \n",
       "2     \n",
       "Sheriff Deputy Rick Grimes wakes up from a co...   \n",
       "3     \n",
       "An animated series that follows the exploits ...   \n",
       "4     \n",
       "A prequel, set before the events of Army of t...   \n",
       "...                                                 ...   \n",
       "9956  \n",
       "Natalia decides to build an app that optimize...   \n",
       "9964                                               <NA>   \n",
       "9993                                               <NA>   \n",
       "9995                                               <NA>   \n",
       "9996                                               <NA>   \n",
       "\n",
       "                                                  STARS  \\\n",
       "0     \n",
       "    Director:\n",
       "Peter Thorwarth\n",
       "| \n",
       "    Stars:\n",
       "P...   \n",
       "1     \n",
       "            \n",
       "    Stars:\n",
       "Chris Wood, \n",
       "Sarah Mi...   \n",
       "2     \n",
       "            \n",
       "    Stars:\n",
       "Andrew Lincoln, \n",
       "Norm...   \n",
       "3     \n",
       "            \n",
       "    Stars:\n",
       "Justin Roiland, \n",
       "Chri...   \n",
       "4     \n",
       "    Director:\n",
       "Matthias Schweighöfer\n",
       "| \n",
       "    St...   \n",
       "...                                                 ...   \n",
       "9956  \n",
       "    Director:\n",
       "Piotr Domalewski\n",
       "| \n",
       "    Stars:\n",
       "...   \n",
       "9964  \n",
       "    Director:\n",
       "Tima Shomali\n",
       "| \n",
       "    Stars:\n",
       "Sals...   \n",
       "9993  \n",
       "    Director:\n",
       "Nicolai Rohde\n",
       "| \n",
       "    Stars:\n",
       "Fel...   \n",
       "9995                                                  \n",
       "   \n",
       "9996  \n",
       "    Director:\n",
       "Orlando von Einsiedel\n",
       "| \n",
       "    St...   \n",
       "\n",
       "                                          GENRE  \n",
       "0         \n",
       "Action, Horror, Thriller              \n",
       "1     \n",
       "Animation, Action, Adventure              \n",
       "2          \n",
       "Drama, Horror, Thriller              \n",
       "3     \n",
       "Animation, Adventure, Comedy              \n",
       "4            \n",
       "Action, Crime, Horror              \n",
       "...                                         ...  \n",
       "9956                 \n",
       "Comedy, Drama              \n",
       "9964                         \n",
       "Drama              \n",
       "9993               \n",
       "Drama, Thriller              \n",
       "9995  \n",
       "Animation, Action, Adventure              \n",
       "9996            \n",
       "Documentary, Sport              \n",
       "\n",
       "[6820 rows x 4 columns]"
      ]
     },
     "execution_count": 16,
     "metadata": {},
     "output_type": "execute_result"
    }
   ],
   "source": [
    "df[features + target]"
   ]
  },
  {
   "cell_type": "code",
   "execution_count": 17,
   "id": "5c6e5ef5-57eb-42df-bbb8-05423668476a",
   "metadata": {},
   "outputs": [
    {
     "name": "stdout",
     "output_type": "stream",
     "text": [
      "  column_name  notna_values  na_values\n",
      "0      MOVIES          6820          0\n",
      "1    ONE-LINE          6460        360\n",
      "2       STARS          6820          0\n",
      "3       GENRE          6782         38\n"
     ]
    },
    {
     "data": {
      "image/png": "[encoded data removed]",
      "text/plain": [
       "<Figure size 432x288 with 1 Axes>"
      ]
     },
     "metadata": {
      "needs_background": "light"
     },
     "output_type": "display_data"
    }
   ],
   "source": [
    "show_null_analysis(df[features+target])"
   ]
  },
  {
   "cell_type": "markdown",
   "id": "93dd0015-843b-4c55-a299-12c178ae0f61",
   "metadata": {},
   "source": [
    "Remove Nulls"
   ]
  },
  {
   "cell_type": "code",
   "execution_count": 18,
   "id": "3e8bfa59-86ac-4608-883d-73a2628d73c3",
   "metadata": {},
   "outputs": [
    {
     "name": "stdout",
     "output_type": "stream",
     "text": [
      "  column_name  notna_values  na_values\n",
      "0      MOVIES          6782          0\n",
      "1    ONE-LINE          6444        338\n",
      "2       STARS          6782          0\n",
      "3       GENRE          6782          0\n"
     ]
    },
    {
     "data": {
      "image/png": "[encoded data removed]",
      "text/plain": [
       "<Figure size 432x288 with 1 Axes>"
      ]
     },
     "metadata": {
      "needs_background": "light"
     },
     "output_type": "display_data"
    }
   ],
   "source": [
    "df1 = df[features+target][df['GENRE'].notna()]\n",
    "show_null_analysis(df1)"
   ]
  },
  {
   "cell_type": "markdown",
   "id": "8a2af637-9a73-4c66-91e0-691f4103af1c",
   "metadata": {},
   "source": [
    "#### Processed Features"
   ]
  },
  {
   "cell_type": "markdown",
   "id": "db4421ef-40a7-47db-826b-619f2e6a922b",
   "metadata": {},
   "source": [
    "Director"
   ]
  },
  {
   "cell_type": "code",
   "execution_count": 19,
   "id": "7e4d606b-2655-4519-98e2-d6f67171807c",
   "metadata": {},
   "outputs": [
    {
     "data": {
      "text/html": [
       "<div>\n",
       "<style scoped>\n",
       "    .dataframe tbody tr th:only-of-type {\n",
       "        vertical-align: middle;\n",
       "    }\n",
       "\n",
       "    .dataframe tbody tr th {\n",
       "        vertical-align: top;\n",
       "    }\n",
       "\n",
       "    .dataframe thead th {\n",
       "        text-align: right;\n",
       "    }\n",
       "</style>\n",
       "<table border=\"1\" class=\"dataframe\">\n",
       "  <thead>\n",
       "    <tr style=\"text-align: right;\">\n",
       "      <th></th>\n",
       "      <th>Aadish Keluskar</th>\n",
       "      <th>Aaron Augenblick</th>\n",
       "      <th>Aaron Burns</th>\n",
       "      <th>Aaron Lieber</th>\n",
       "      <th>Aaron Sorkin</th>\n",
       "      <th>Abdelhamid Bouchnak</th>\n",
       "      <th>Abhay Kumar</th>\n",
       "      <th>Abhijit Panse</th>\n",
       "      <th>Abhinay Deo</th>\n",
       "      <th>Adam Berg</th>\n",
       "      <th>...</th>\n",
       "      <th>Zoltan Paul</th>\n",
       "      <th>Zsolt Pálfi</th>\n",
       "      <th>Zulkarnain Azhar</th>\n",
       "      <th>Álex de la Iglesia</th>\n",
       "      <th>Álvaro Brechner</th>\n",
       "      <th>Álvaro Fernández Armero</th>\n",
       "      <th>Ángel Gómez Hernández</th>\n",
       "      <th>Ángeles Reiné</th>\n",
       "      <th>Åke Sandgren</th>\n",
       "      <th>Ömer Ugur</th>\n",
       "    </tr>\n",
       "  </thead>\n",
       "  <tbody>\n",
       "    <tr>\n",
       "      <th>0</th>\n",
       "      <td>False</td>\n",
       "      <td>False</td>\n",
       "      <td>False</td>\n",
       "      <td>False</td>\n",
       "      <td>False</td>\n",
       "      <td>False</td>\n",
       "      <td>False</td>\n",
       "      <td>False</td>\n",
       "      <td>False</td>\n",
       "      <td>False</td>\n",
       "      <td>...</td>\n",
       "      <td>False</td>\n",
       "      <td>False</td>\n",
       "      <td>False</td>\n",
       "      <td>False</td>\n",
       "      <td>False</td>\n",
       "      <td>False</td>\n",
       "      <td>False</td>\n",
       "      <td>False</td>\n",
       "      <td>False</td>\n",
       "      <td>False</td>\n",
       "    </tr>\n",
       "    <tr>\n",
       "      <th>1</th>\n",
       "      <td>False</td>\n",
       "      <td>False</td>\n",
       "      <td>False</td>\n",
       "      <td>False</td>\n",
       "      <td>False</td>\n",
       "      <td>False</td>\n",
       "      <td>False</td>\n",
       "      <td>False</td>\n",
       "      <td>False</td>\n",
       "      <td>False</td>\n",
       "      <td>...</td>\n",
       "      <td>False</td>\n",
       "      <td>False</td>\n",
       "      <td>False</td>\n",
       "      <td>False</td>\n",
       "      <td>False</td>\n",
       "      <td>False</td>\n",
       "      <td>False</td>\n",
       "      <td>False</td>\n",
       "      <td>False</td>\n",
       "      <td>False</td>\n",
       "    </tr>\n",
       "    <tr>\n",
       "      <th>2</th>\n",
       "      <td>False</td>\n",
       "      <td>False</td>\n",
       "      <td>False</td>\n",
       "      <td>False</td>\n",
       "      <td>False</td>\n",
       "      <td>False</td>\n",
       "      <td>False</td>\n",
       "      <td>False</td>\n",
       "      <td>False</td>\n",
       "      <td>False</td>\n",
       "      <td>...</td>\n",
       "      <td>False</td>\n",
       "      <td>False</td>\n",
       "      <td>False</td>\n",
       "      <td>False</td>\n",
       "      <td>False</td>\n",
       "      <td>False</td>\n",
       "      <td>False</td>\n",
       "      <td>False</td>\n",
       "      <td>False</td>\n",
       "      <td>False</td>\n",
       "    </tr>\n",
       "    <tr>\n",
       "      <th>3</th>\n",
       "      <td>False</td>\n",
       "      <td>False</td>\n",
       "      <td>False</td>\n",
       "      <td>False</td>\n",
       "      <td>False</td>\n",
       "      <td>False</td>\n",
       "      <td>False</td>\n",
       "      <td>False</td>\n",
       "      <td>False</td>\n",
       "      <td>False</td>\n",
       "      <td>...</td>\n",
       "      <td>False</td>\n",
       "      <td>False</td>\n",
       "      <td>False</td>\n",
       "      <td>False</td>\n",
       "      <td>False</td>\n",
       "      <td>False</td>\n",
       "      <td>False</td>\n",
       "      <td>False</td>\n",
       "      <td>False</td>\n",
       "      <td>False</td>\n",
       "    </tr>\n",
       "    <tr>\n",
       "      <th>4</th>\n",
       "      <td>False</td>\n",
       "      <td>False</td>\n",
       "      <td>False</td>\n",
       "      <td>False</td>\n",
       "      <td>False</td>\n",
       "      <td>False</td>\n",
       "      <td>False</td>\n",
       "      <td>False</td>\n",
       "      <td>False</td>\n",
       "      <td>False</td>\n",
       "      <td>...</td>\n",
       "      <td>False</td>\n",
       "      <td>False</td>\n",
       "      <td>False</td>\n",
       "      <td>False</td>\n",
       "      <td>False</td>\n",
       "      <td>False</td>\n",
       "      <td>False</td>\n",
       "      <td>False</td>\n",
       "      <td>False</td>\n",
       "      <td>False</td>\n",
       "    </tr>\n",
       "  </tbody>\n",
       "</table>\n",
       "<p>5 rows × 2721 columns</p>\n",
       "</div>"
      ],
      "text/plain": [
       "   Aadish Keluskar  Aaron Augenblick  Aaron Burns  Aaron Lieber  Aaron Sorkin  \\\n",
       "0            False             False        False         False         False   \n",
       "1            False             False        False         False         False   \n",
       "2            False             False        False         False         False   \n",
       "3            False             False        False         False         False   \n",
       "4            False             False        False         False         False   \n",
       "\n",
       "   Abdelhamid Bouchnak  Abhay Kumar  Abhijit Panse  Abhinay Deo  Adam Berg  \\\n",
       "0                False        False          False        False      False   \n",
       "1                False        False          False        False      False   \n",
       "2                False        False          False        False      False   \n",
       "3                False        False          False        False      False   \n",
       "4                False        False          False        False      False   \n",
       "\n",
       "   ...  Zoltan Paul  Zsolt Pálfi  Zulkarnain Azhar  Álex de la Iglesia  \\\n",
       "0  ...        False        False             False               False   \n",
       "1  ...        False        False             False               False   \n",
       "2  ...        False        False             False               False   \n",
       "3  ...        False        False             False               False   \n",
       "4  ...        False        False             False               False   \n",
       "\n",
       "   Álvaro Brechner  Álvaro Fernández Armero  Ángel Gómez Hernández  \\\n",
       "0            False                    False                  False   \n",
       "1            False                    False                  False   \n",
       "2            False                    False                  False   \n",
       "3            False                    False                  False   \n",
       "4            False                    False                  False   \n",
       "\n",
       "   Ángeles Reiné  Åke Sandgren  Ömer Ugur  \n",
       "0          False         False      False  \n",
       "1          False         False      False  \n",
       "2          False         False      False  \n",
       "3          False         False      False  \n",
       "4          False         False      False  \n",
       "\n",
       "[5 rows x 2721 columns]"
      ]
     },
     "execution_count": 19,
     "metadata": {},
     "output_type": "execute_result"
    }
   ],
   "source": [
    "import re\n",
    "directors = df1['STARS'].str.extract(r'(?:Director:\\s?(?:\\n+)?\\s?(.+))', flags=re.IGNORECASE)[0]\n",
    "directors_oh = pd.get_dummies(directors)\n",
    "directors_oh.head()"
   ]
  },
  {
   "cell_type": "markdown",
   "id": "be51f576-5286-452d-b6bf-1cf2e4f173dc",
   "metadata": {},
   "source": [
    "Stars"
   ]
  },
  {
   "cell_type": "code",
   "execution_count": 20,
   "id": "8c630b95-ace5-4694-97e6-8e554761baca",
   "metadata": {},
   "outputs": [
    {
     "data": {
      "text/html": [
       "<div>\n",
       "<style scoped>\n",
       "    .dataframe tbody tr th:only-of-type {\n",
       "        vertical-align: middle;\n",
       "    }\n",
       "\n",
       "    .dataframe tbody tr th {\n",
       "        vertical-align: top;\n",
       "    }\n",
       "\n",
       "    .dataframe thead th {\n",
       "        text-align: right;\n",
       "    }\n",
       "</style>\n",
       "<table border=\"1\" class=\"dataframe\">\n",
       "  <thead>\n",
       "    <tr style=\"text-align: right;\">\n",
       "      <th></th>\n",
       "      <th>2'LiveBre</th>\n",
       "      <th>2Chainz</th>\n",
       "      <th>2Mex</th>\n",
       "      <th>50Cent</th>\n",
       "      <th>A.J.Baime</th>\n",
       "      <th>A.J.Daulerio</th>\n",
       "      <th>A.J.LoCascio</th>\n",
       "      <th>A.N.T.I.</th>\n",
       "      <th>ABoogiewitdaHoodie</th>\n",
       "      <th>AJBowen</th>\n",
       "      <th>...</th>\n",
       "      <th>ÖzgeBorak</th>\n",
       "      <th>ÖzgeÖzpirinçci</th>\n",
       "      <th>ÖzgürEmreYildirim</th>\n",
       "      <th>ÖzgürOzan</th>\n",
       "      <th>ÖzkanUgur</th>\n",
       "      <th>ÖzzNûjen</th>\n",
       "      <th>ÚrsulaCorberó</th>\n",
       "      <th>ÚrsulaPruneda</th>\n",
       "      <th>ÜlküDuru</th>\n",
       "      <th>ÞorsteinnBachmann</th>\n",
       "    </tr>\n",
       "  </thead>\n",
       "  <tbody>\n",
       "    <tr>\n",
       "      <th>0</th>\n",
       "      <td>0</td>\n",
       "      <td>0</td>\n",
       "      <td>0</td>\n",
       "      <td>0</td>\n",
       "      <td>0</td>\n",
       "      <td>0</td>\n",
       "      <td>0</td>\n",
       "      <td>0</td>\n",
       "      <td>0</td>\n",
       "      <td>0</td>\n",
       "      <td>...</td>\n",
       "      <td>0</td>\n",
       "      <td>0</td>\n",
       "      <td>0</td>\n",
       "      <td>0</td>\n",
       "      <td>0</td>\n",
       "      <td>0</td>\n",
       "      <td>0</td>\n",
       "      <td>0</td>\n",
       "      <td>0</td>\n",
       "      <td>0</td>\n",
       "    </tr>\n",
       "    <tr>\n",
       "      <th>1</th>\n",
       "      <td>0</td>\n",
       "      <td>0</td>\n",
       "      <td>0</td>\n",
       "      <td>0</td>\n",
       "      <td>0</td>\n",
       "      <td>0</td>\n",
       "      <td>0</td>\n",
       "      <td>0</td>\n",
       "      <td>0</td>\n",
       "      <td>0</td>\n",
       "      <td>...</td>\n",
       "      <td>0</td>\n",
       "      <td>0</td>\n",
       "      <td>0</td>\n",
       "      <td>0</td>\n",
       "      <td>0</td>\n",
       "      <td>0</td>\n",
       "      <td>0</td>\n",
       "      <td>0</td>\n",
       "      <td>0</td>\n",
       "      <td>0</td>\n",
       "    </tr>\n",
       "    <tr>\n",
       "      <th>2</th>\n",
       "      <td>0</td>\n",
       "      <td>0</td>\n",
       "      <td>0</td>\n",
       "      <td>0</td>\n",
       "      <td>0</td>\n",
       "      <td>0</td>\n",
       "      <td>0</td>\n",
       "      <td>0</td>\n",
       "      <td>0</td>\n",
       "      <td>0</td>\n",
       "      <td>...</td>\n",
       "      <td>0</td>\n",
       "      <td>0</td>\n",
       "      <td>0</td>\n",
       "      <td>0</td>\n",
       "      <td>0</td>\n",
       "      <td>0</td>\n",
       "      <td>0</td>\n",
       "      <td>0</td>\n",
       "      <td>0</td>\n",
       "      <td>0</td>\n",
       "    </tr>\n",
       "    <tr>\n",
       "      <th>3</th>\n",
       "      <td>0</td>\n",
       "      <td>0</td>\n",
       "      <td>0</td>\n",
       "      <td>0</td>\n",
       "      <td>0</td>\n",
       "      <td>0</td>\n",
       "      <td>0</td>\n",
       "      <td>0</td>\n",
       "      <td>0</td>\n",
       "      <td>0</td>\n",
       "      <td>...</td>\n",
       "      <td>0</td>\n",
       "      <td>0</td>\n",
       "      <td>0</td>\n",
       "      <td>0</td>\n",
       "      <td>0</td>\n",
       "      <td>0</td>\n",
       "      <td>0</td>\n",
       "      <td>0</td>\n",
       "      <td>0</td>\n",
       "      <td>0</td>\n",
       "    </tr>\n",
       "    <tr>\n",
       "      <th>4</th>\n",
       "      <td>0</td>\n",
       "      <td>0</td>\n",
       "      <td>0</td>\n",
       "      <td>0</td>\n",
       "      <td>0</td>\n",
       "      <td>0</td>\n",
       "      <td>0</td>\n",
       "      <td>0</td>\n",
       "      <td>0</td>\n",
       "      <td>0</td>\n",
       "      <td>...</td>\n",
       "      <td>0</td>\n",
       "      <td>0</td>\n",
       "      <td>0</td>\n",
       "      <td>0</td>\n",
       "      <td>0</td>\n",
       "      <td>0</td>\n",
       "      <td>0</td>\n",
       "      <td>0</td>\n",
       "      <td>0</td>\n",
       "      <td>0</td>\n",
       "    </tr>\n",
       "  </tbody>\n",
       "</table>\n",
       "<p>5 rows × 16197 columns</p>\n",
       "</div>"
      ],
      "text/plain": [
       "   2'LiveBre  2Chainz  2Mex  50Cent  A.J.Baime  A.J.Daulerio  A.J.LoCascio  \\\n",
       "0          0        0     0       0          0             0             0   \n",
       "1          0        0     0       0          0             0             0   \n",
       "2          0        0     0       0          0             0             0   \n",
       "3          0        0     0       0          0             0             0   \n",
       "4          0        0     0       0          0             0             0   \n",
       "\n",
       "   A.N.T.I.  ABoogiewitdaHoodie  AJBowen  ...  ÖzgeBorak  ÖzgeÖzpirinçci  \\\n",
       "0         0                   0        0  ...          0               0   \n",
       "1         0                   0        0  ...          0               0   \n",
       "2         0                   0        0  ...          0               0   \n",
       "3         0                   0        0  ...          0               0   \n",
       "4         0                   0        0  ...          0               0   \n",
       "\n",
       "   ÖzgürEmreYildirim  ÖzgürOzan  ÖzkanUgur  ÖzzNûjen  ÚrsulaCorberó  \\\n",
       "0                  0          0          0         0              0   \n",
       "1                  0          0          0         0              0   \n",
       "2                  0          0          0         0              0   \n",
       "3                  0          0          0         0              0   \n",
       "4                  0          0          0         0              0   \n",
       "\n",
       "   ÚrsulaPruneda  ÜlküDuru  ÞorsteinnBachmann  \n",
       "0              0         0                  0  \n",
       "1              0         0                  0  \n",
       "2              0         0                  0  \n",
       "3              0         0                  0  \n",
       "4              0         0                  0  \n",
       "\n",
       "[5 rows x 16197 columns]"
      ]
     },
     "execution_count": 20,
     "metadata": {},
     "output_type": "execute_result"
    }
   ],
   "source": [
    "import re\n",
    "stars = df1['STARS'].str.extract(r'\\|?\\s?Stars:\\s?(?:\\n)?\\s?([\\w\\W]+)', flags=re.IGNORECASE)[0]\n",
    "stars_oh = stars.replace(r'(?:\\n)|\\s+', '', regex=True).str.get_dummies(',')\n",
    "stars_oh.head()"
   ]
  },
  {
   "cell_type": "code",
   "execution_count": 21,
   "id": "743c817a-c55c-4154-bf10-b5e5eec7f1f8",
   "metadata": {},
   "outputs": [
    {
     "data": {
      "text/plain": [
       "(6782, 16197)"
      ]
     },
     "execution_count": 21,
     "metadata": {},
     "output_type": "execute_result"
    }
   ],
   "source": [
    "stars_oh.shape"
   ]
  },
  {
   "cell_type": "markdown",
   "id": "52700fce-8209-4c7a-8cf2-520228bbed27",
   "metadata": {},
   "source": [
    "One Line"
   ]
  },
  {
   "cell_type": "code",
   "execution_count": 22,
   "id": "b67a8556-3330-4f1a-a0a1-477710988016",
   "metadata": {},
   "outputs": [],
   "source": [
    "description = (df1['MOVIES'] + df1['ONE-LINE'].fillna(''))"
   ]
  },
  {
   "cell_type": "code",
   "execution_count": 23,
   "id": "6d6f2041-69f9-4f1a-8fa5-9cda0d089013",
   "metadata": {},
   "outputs": [],
   "source": [
    "from sklearn.feature_extraction.text import CountVectorizer\n",
    "count = CountVectorizer(stop_words='english')\n",
    "bag_of_words = count.fit_transform(description)"
   ]
  },
  {
   "cell_type": "code",
   "execution_count": 24,
   "id": "188c916f-ffb2-4105-b956-c0d9c5fa07d1",
   "metadata": {},
   "outputs": [],
   "source": [
    "words_oh = pd.DataFrame(bag_of_words.toarray(), index=description.index)\n",
    "words_oh.columns = words_oh.columns.astype(pd.StringDtype())"
   ]
  },
  {
   "cell_type": "code",
   "execution_count": 25,
   "id": "90fb20a4-8ca0-484b-9c0e-9370387b7715",
   "metadata": {},
   "outputs": [],
   "source": [
    "X = pd.concat([\n",
    "    directors_oh,\n",
    "    stars_oh,\n",
    "    words_oh\n",
    "], axis=1)"
   ]
  },
  {
   "cell_type": "code",
   "execution_count": 27,
   "id": "5fea1788-7bba-4342-98db-f464447bab39",
   "metadata": {},
   "outputs": [],
   "source": [
    "from sklearn.preprocessing import StandardScaler\n",
    "from scipy.sparse import csr_matrix\n",
    "from sklearn.decomposition import TruncatedSVD\n",
    "\n",
    "X = StandardScaler().fit_transform(X)\n",
    "X_csr = csr_matrix(X)"
   ]
  },
  {
   "cell_type": "code",
   "execution_count": 32,
   "id": "c4a5c75c-2929-42af-ae23-cea17a8d5f54",
   "metadata": {},
   "outputs": [],
   "source": [
    "tsvd = TruncatedSVD(n_components=10)"
   ]
  },
  {
   "cell_type": "code",
   "execution_count": 33,
   "id": "b47ab984-dca0-4f05-aa40-4a713491a2e3",
   "metadata": {},
   "outputs": [
    {
     "data": {
      "text/html": [
       "<style>#sk-container-id-1 {color: black;}#sk-container-id-1 pre{padding: 0;}#sk-container-id-1 div.sk-toggleable {background-color: white;}#sk-container-id-1 label.sk-toggleable__label {cursor: pointer;display: block;width: 100%;margin-bottom: 0;padding: 0.3em;box-sizing: border-box;text-align: center;}#sk-container-id-1 label.sk-toggleable__label-arrow:before {content: \"▸\";float: left;margin-right: 0.25em;color: #696969;}#sk-container-id-1 label.sk-toggleable__label-arrow:hover:before {color: black;}#sk-container-id-1 div.sk-estimator:hover label.sk-toggleable__label-arrow:before {color: black;}#sk-container-id-1 div.sk-toggleable__content {max-height: 0;max-width: 0;overflow: hidden;text-align: left;background-color: #f0f8ff;}#sk-container-id-1 div.sk-toggleable__content pre {margin: 0.2em;color: black;border-radius: 0.25em;background-color: #f0f8ff;}#sk-container-id-1 input.sk-toggleable__control:checked~div.sk-toggleable__content {max-height: 200px;max-width: 100%;overflow: auto;}#sk-container-id-1 input.sk-toggleable__control:checked~label.sk-toggleable__label-arrow:before {content: \"▾\";}#sk-container-id-1 div.sk-estimator input.sk-toggleable__control:checked~label.sk-toggleable__label {background-color: #d4ebff;}#sk-container-id-1 div.sk-label input.sk-toggleable__control:checked~label.sk-toggleable__label {background-color: #d4ebff;}#sk-container-id-1 input.sk-hidden--visually {border: 0;clip: rect(1px 1px 1px 1px);clip: rect(1px, 1px, 1px, 1px);height: 1px;margin: -1px;overflow: hidden;padding: 0;position: absolute;width: 1px;}#sk-container-id-1 div.sk-estimator {font-family: monospace;background-color: #f0f8ff;border: 1px dotted black;border-radius: 0.25em;box-sizing: border-box;margin-bottom: 0.5em;}#sk-container-id-1 div.sk-estimator:hover {background-color: #d4ebff;}#sk-container-id-1 div.sk-parallel-item::after {content: \"\";width: 100%;border-bottom: 1px solid gray;flex-grow: 1;}#sk-container-id-1 div.sk-label:hover label.sk-toggleable__label {background-color: #d4ebff;}#sk-container-id-1 div.sk-serial::before {content: \"\";position: absolute;border-left: 1px solid gray;box-sizing: border-box;top: 0;bottom: 0;left: 50%;z-index: 0;}#sk-container-id-1 div.sk-serial {display: flex;flex-direction: column;align-items: center;background-color: white;padding-right: 0.2em;padding-left: 0.2em;position: relative;}#sk-container-id-1 div.sk-item {position: relative;z-index: 1;}#sk-container-id-1 div.sk-parallel {display: flex;align-items: stretch;justify-content: center;background-color: white;position: relative;}#sk-container-id-1 div.sk-item::before, #sk-container-id-1 div.sk-parallel-item::before {content: \"\";position: absolute;border-left: 1px solid gray;box-sizing: border-box;top: 0;bottom: 0;left: 50%;z-index: -1;}#sk-container-id-1 div.sk-parallel-item {display: flex;flex-direction: column;z-index: 1;position: relative;background-color: white;}#sk-container-id-1 div.sk-parallel-item:first-child::after {align-self: flex-end;width: 50%;}#sk-container-id-1 div.sk-parallel-item:last-child::after {align-self: flex-start;width: 50%;}#sk-container-id-1 div.sk-parallel-item:only-child::after {width: 0;}#sk-container-id-1 div.sk-dashed-wrapped {border: 1px dashed gray;margin: 0 0.4em 0.5em 0.4em;box-sizing: border-box;padding-bottom: 0.4em;background-color: white;}#sk-container-id-1 div.sk-label label {font-family: monospace;font-weight: bold;display: inline-block;line-height: 1.2em;}#sk-container-id-1 div.sk-label-container {text-align: center;}#sk-container-id-1 div.sk-container {/* jupyter's `normalize.less` sets `[hidden] { display: none; }` but bootstrap.min.css set `[hidden] { display: none !important; }` so we also need the `!important` here to be able to override the default hidden behavior on the sphinx rendered scikit-learn.org. See: https://github.com/scikit-learn/scikit-learn/issues/21755 */display: inline-block !important;position: relative;}#sk-container-id-1 div.sk-text-repr-fallback {display: none;}</style><div id=\"sk-container-id-1\" class=\"sk-top-container\"><div class=\"sk-text-repr-fallback\"><pre>TruncatedSVD(n_components=10)</pre><b>In a Jupyter environment, please rerun this cell to show the HTML representation or trust the notebook. <br />On GitHub, the HTML representation is unable to render, please try loading this page with nbviewer.org.</b></div><div class=\"sk-container\" hidden><div class=\"sk-item\"><div class=\"sk-estimator sk-toggleable\"><input class=\"sk-toggleable__control sk-hidden--visually\" id=\"sk-estimator-id-1\" type=\"checkbox\" checked><label for=\"sk-estimator-id-1\" class=\"sk-toggleable__label sk-toggleable__label-arrow\">TruncatedSVD</label><div class=\"sk-toggleable__content\"><pre>TruncatedSVD(n_components=10)</pre></div></div></div></div></div>"
      ],
      "text/plain": [
       "TruncatedSVD(n_components=10)"
      ]
     },
     "execution_count": 33,
     "metadata": {},
     "output_type": "execute_result"
    }
   ],
   "source": [
    "tsvd.fit(X_csr)"
   ]
  },
  {
   "cell_type": "code",
   "execution_count": 35,
   "id": "70e53b73-a365-41e5-b254-11945aa7d89f",
   "metadata": {},
   "outputs": [
    {
     "data": {
      "text/plain": [
       "array([0.00048969, 0.00040887, 0.00035556, 0.00035398, 0.00034488,\n",
       "       0.00033627, 0.0003303 , 0.00032779, 0.00032614, 0.00032203])"
      ]
     },
     "execution_count": 35,
     "metadata": {},
     "output_type": "execute_result"
    }
   ],
   "source": [
    "tsvd.explained_variance_ratio_"
   ]
  },
  {
   "cell_type": "markdown",
   "id": "480962ad-a156-4516-842a-059982353da6",
   "metadata": {},
   "source": [
    "#### Target"
   ]
  },
  {
   "cell_type": "code",
   "execution_count": 27,
   "id": "d8372849-71c7-4d3c-bdb6-982c195bf6dd",
   "metadata": {},
   "outputs": [
    {
     "data": {
      "text/html": [
       "<div>\n",
       "<style scoped>\n",
       "    .dataframe tbody tr th:only-of-type {\n",
       "        vertical-align: middle;\n",
       "    }\n",
       "\n",
       "    .dataframe tbody tr th {\n",
       "        vertical-align: top;\n",
       "    }\n",
       "\n",
       "    .dataframe thead th {\n",
       "        text-align: right;\n",
       "    }\n",
       "</style>\n",
       "<table border=\"1\" class=\"dataframe\">\n",
       "  <thead>\n",
       "    <tr style=\"text-align: right;\">\n",
       "      <th></th>\n",
       "      <th>Action</th>\n",
       "      <th>Adventure</th>\n",
       "      <th>Animation</th>\n",
       "      <th>Biography</th>\n",
       "      <th>Comedy</th>\n",
       "      <th>Crime</th>\n",
       "      <th>Documentary</th>\n",
       "      <th>Drama</th>\n",
       "      <th>Family</th>\n",
       "      <th>Fantasy</th>\n",
       "      <th>...</th>\n",
       "      <th>News</th>\n",
       "      <th>Reality-TV</th>\n",
       "      <th>Romance</th>\n",
       "      <th>Sci-Fi</th>\n",
       "      <th>Short</th>\n",
       "      <th>Sport</th>\n",
       "      <th>Talk-Show</th>\n",
       "      <th>Thriller</th>\n",
       "      <th>War</th>\n",
       "      <th>Western</th>\n",
       "    </tr>\n",
       "  </thead>\n",
       "  <tbody>\n",
       "    <tr>\n",
       "      <th>0</th>\n",
       "      <td>0</td>\n",
       "      <td>0</td>\n",
       "      <td>0</td>\n",
       "      <td>0</td>\n",
       "      <td>0</td>\n",
       "      <td>0</td>\n",
       "      <td>0</td>\n",
       "      <td>0</td>\n",
       "      <td>0</td>\n",
       "      <td>0</td>\n",
       "      <td>...</td>\n",
       "      <td>0</td>\n",
       "      <td>0</td>\n",
       "      <td>0</td>\n",
       "      <td>0</td>\n",
       "      <td>0</td>\n",
       "      <td>0</td>\n",
       "      <td>0</td>\n",
       "      <td>0</td>\n",
       "      <td>0</td>\n",
       "      <td>0</td>\n",
       "    </tr>\n",
       "    <tr>\n",
       "      <th>1</th>\n",
       "      <td>1</td>\n",
       "      <td>1</td>\n",
       "      <td>0</td>\n",
       "      <td>0</td>\n",
       "      <td>0</td>\n",
       "      <td>0</td>\n",
       "      <td>0</td>\n",
       "      <td>0</td>\n",
       "      <td>0</td>\n",
       "      <td>0</td>\n",
       "      <td>...</td>\n",
       "      <td>0</td>\n",
       "      <td>0</td>\n",
       "      <td>0</td>\n",
       "      <td>0</td>\n",
       "      <td>0</td>\n",
       "      <td>0</td>\n",
       "      <td>0</td>\n",
       "      <td>0</td>\n",
       "      <td>0</td>\n",
       "      <td>0</td>\n",
       "    </tr>\n",
       "    <tr>\n",
       "      <th>2</th>\n",
       "      <td>0</td>\n",
       "      <td>0</td>\n",
       "      <td>0</td>\n",
       "      <td>0</td>\n",
       "      <td>0</td>\n",
       "      <td>0</td>\n",
       "      <td>0</td>\n",
       "      <td>0</td>\n",
       "      <td>0</td>\n",
       "      <td>0</td>\n",
       "      <td>...</td>\n",
       "      <td>0</td>\n",
       "      <td>0</td>\n",
       "      <td>0</td>\n",
       "      <td>0</td>\n",
       "      <td>0</td>\n",
       "      <td>0</td>\n",
       "      <td>0</td>\n",
       "      <td>0</td>\n",
       "      <td>0</td>\n",
       "      <td>0</td>\n",
       "    </tr>\n",
       "    <tr>\n",
       "      <th>3</th>\n",
       "      <td>0</td>\n",
       "      <td>1</td>\n",
       "      <td>0</td>\n",
       "      <td>0</td>\n",
       "      <td>1</td>\n",
       "      <td>0</td>\n",
       "      <td>0</td>\n",
       "      <td>0</td>\n",
       "      <td>0</td>\n",
       "      <td>0</td>\n",
       "      <td>...</td>\n",
       "      <td>0</td>\n",
       "      <td>0</td>\n",
       "      <td>0</td>\n",
       "      <td>0</td>\n",
       "      <td>0</td>\n",
       "      <td>0</td>\n",
       "      <td>0</td>\n",
       "      <td>0</td>\n",
       "      <td>0</td>\n",
       "      <td>0</td>\n",
       "    </tr>\n",
       "    <tr>\n",
       "      <th>4</th>\n",
       "      <td>0</td>\n",
       "      <td>0</td>\n",
       "      <td>0</td>\n",
       "      <td>0</td>\n",
       "      <td>0</td>\n",
       "      <td>1</td>\n",
       "      <td>0</td>\n",
       "      <td>0</td>\n",
       "      <td>0</td>\n",
       "      <td>0</td>\n",
       "      <td>...</td>\n",
       "      <td>0</td>\n",
       "      <td>0</td>\n",
       "      <td>0</td>\n",
       "      <td>0</td>\n",
       "      <td>0</td>\n",
       "      <td>0</td>\n",
       "      <td>0</td>\n",
       "      <td>0</td>\n",
       "      <td>0</td>\n",
       "      <td>0</td>\n",
       "    </tr>\n",
       "  </tbody>\n",
       "</table>\n",
       "<p>5 rows × 54 columns</p>\n",
       "</div>"
      ],
      "text/plain": [
       "    Action   Adventure   Animation   Biography   Comedy   Crime   Documentary  \\\n",
       "0        0           0           0           0        0       0             0   \n",
       "1        1           1           0           0        0       0             0   \n",
       "2        0           0           0           0        0       0             0   \n",
       "3        0           1           0           0        1       0             0   \n",
       "4        0           0           0           0        0       1             0   \n",
       "\n",
       "    Drama   Family   Fantasy  ...  News  Reality-TV  Romance  Sci-Fi  Short  \\\n",
       "0       0        0         0  ...     0           0        0       0      0   \n",
       "1       0        0         0  ...     0           0        0       0      0   \n",
       "2       0        0         0  ...     0           0        0       0      0   \n",
       "3       0        0         0  ...     0           0        0       0      0   \n",
       "4       0        0         0  ...     0           0        0       0      0   \n",
       "\n",
       "   Sport  Talk-Show  Thriller  War  Western  \n",
       "0      0          0         0    0        0  \n",
       "1      0          0         0    0        0  \n",
       "2      0          0         0    0        0  \n",
       "3      0          0         0    0        0  \n",
       "4      0          0         0    0        0  \n",
       "\n",
       "[5 rows x 54 columns]"
      ]
     },
     "execution_count": 27,
     "metadata": {},
     "output_type": "execute_result"
    }
   ],
   "source": [
    "y = df1['GENRE'].str.strip().str.get_dummies(sep=',')\n",
    "y.head()"
   ]
  },
  {
   "cell_type": "markdown",
   "id": "25344289-b0c5-4d95-8225-e2921bb9f51f",
   "metadata": {},
   "source": [
    "Model"
   ]
  },
  {
   "cell_type": "code",
   "execution_count": 28,
   "id": "40ef4f96-b5c8-470e-ac83-c17295aae092",
   "metadata": {},
   "outputs": [
    {
     "data": {
      "text/plain": [
       "((6782, 40590), (6782, 54))"
      ]
     },
     "execution_count": 28,
     "metadata": {},
     "output_type": "execute_result"
    }
   ],
   "source": [
    "X.shape, y.shape"
   ]
  },
  {
   "cell_type": "code",
   "execution_count": 29,
   "id": "4409f5fc-a462-4861-a92d-ed470ab418ef",
   "metadata": {},
   "outputs": [
    {
     "ename": "ValueError",
     "evalue": "y should be a 1d array, got an array of shape (6103, 54) instead.",
     "output_type": "error",
     "traceback": [
      "\u001b[1;31m---------------------------------------------------------------------------\u001b[0m",
      "\u001b[1;31mValueError\u001b[0m                                Traceback (most recent call last)",
      "\u001b[1;32m~\\AppData\\Local\\Temp/ipykernel_1276/3779138851.py\u001b[0m in \u001b[0;36m<module>\u001b[1;34m\u001b[0m\n\u001b[0;32m      7\u001b[0m \u001b[0mmodel\u001b[0m \u001b[1;33m=\u001b[0m \u001b[0mLogisticRegression\u001b[0m\u001b[1;33m(\u001b[0m\u001b[0mmulti_class\u001b[0m\u001b[1;33m=\u001b[0m\u001b[1;34m'ovr'\u001b[0m\u001b[1;33m)\u001b[0m\u001b[1;33m\u001b[0m\u001b[1;33m\u001b[0m\u001b[0m\n\u001b[0;32m      8\u001b[0m \u001b[1;33m\u001b[0m\u001b[0m\n\u001b[1;32m----> 9\u001b[1;33m \u001b[0mmodel\u001b[0m\u001b[1;33m.\u001b[0m\u001b[0mfit\u001b[0m\u001b[1;33m(\u001b[0m\u001b[0mX_train\u001b[0m\u001b[1;33m,\u001b[0m \u001b[0my_train\u001b[0m\u001b[1;33m)\u001b[0m\u001b[1;33m\u001b[0m\u001b[1;33m\u001b[0m\u001b[0m\n\u001b[0m",
      "\u001b[1;32m~\\AppData\\Local\\Programs\\Python\\Python310\\lib\\site-packages\\sklearn\\base.py\u001b[0m in \u001b[0;36mwrapper\u001b[1;34m(estimator, *args, **kwargs)\u001b[0m\n\u001b[0;32m   1150\u001b[0m                 )\n\u001b[0;32m   1151\u001b[0m             ):\n\u001b[1;32m-> 1152\u001b[1;33m                 \u001b[1;32mreturn\u001b[0m \u001b[0mfit_method\u001b[0m\u001b[1;33m(\u001b[0m\u001b[0mestimator\u001b[0m\u001b[1;33m,\u001b[0m \u001b[1;33m*\u001b[0m\u001b[0margs\u001b[0m\u001b[1;33m,\u001b[0m \u001b[1;33m**\u001b[0m\u001b[0mkwargs\u001b[0m\u001b[1;33m)\u001b[0m\u001b[1;33m\u001b[0m\u001b[1;33m\u001b[0m\u001b[0m\n\u001b[0m\u001b[0;32m   1153\u001b[0m \u001b[1;33m\u001b[0m\u001b[0m\n\u001b[0;32m   1154\u001b[0m         \u001b[1;32mreturn\u001b[0m \u001b[0mwrapper\u001b[0m\u001b[1;33m\u001b[0m\u001b[1;33m\u001b[0m\u001b[0m\n",
      "\u001b[1;32m~\\AppData\\Local\\Programs\\Python\\Python310\\lib\\site-packages\\sklearn\\linear_model\\_logistic.py\u001b[0m in \u001b[0;36mfit\u001b[1;34m(self, X, y, sample_weight)\u001b[0m\n\u001b[0;32m   1206\u001b[0m             \u001b[0m_dtype\u001b[0m \u001b[1;33m=\u001b[0m \u001b[1;33m[\u001b[0m\u001b[0mnp\u001b[0m\u001b[1;33m.\u001b[0m\u001b[0mfloat64\u001b[0m\u001b[1;33m,\u001b[0m \u001b[0mnp\u001b[0m\u001b[1;33m.\u001b[0m\u001b[0mfloat32\u001b[0m\u001b[1;33m]\u001b[0m\u001b[1;33m\u001b[0m\u001b[1;33m\u001b[0m\u001b[0m\n\u001b[0;32m   1207\u001b[0m \u001b[1;33m\u001b[0m\u001b[0m\n\u001b[1;32m-> 1208\u001b[1;33m         X, y = self._validate_data(\n\u001b[0m\u001b[0;32m   1209\u001b[0m             \u001b[0mX\u001b[0m\u001b[1;33m,\u001b[0m\u001b[1;33m\u001b[0m\u001b[1;33m\u001b[0m\u001b[0m\n\u001b[0;32m   1210\u001b[0m             \u001b[0my\u001b[0m\u001b[1;33m,\u001b[0m\u001b[1;33m\u001b[0m\u001b[1;33m\u001b[0m\u001b[0m\n",
      "\u001b[1;32m~\\AppData\\Local\\Programs\\Python\\Python310\\lib\\site-packages\\sklearn\\base.py\u001b[0m in \u001b[0;36m_validate_data\u001b[1;34m(self, X, y, reset, validate_separately, cast_to_ndarray, **check_params)\u001b[0m\n\u001b[0;32m    620\u001b[0m                 \u001b[0my\u001b[0m \u001b[1;33m=\u001b[0m \u001b[0mcheck_array\u001b[0m\u001b[1;33m(\u001b[0m\u001b[0my\u001b[0m\u001b[1;33m,\u001b[0m \u001b[0minput_name\u001b[0m\u001b[1;33m=\u001b[0m\u001b[1;34m\"y\"\u001b[0m\u001b[1;33m,\u001b[0m \u001b[1;33m**\u001b[0m\u001b[0mcheck_y_params\u001b[0m\u001b[1;33m)\u001b[0m\u001b[1;33m\u001b[0m\u001b[1;33m\u001b[0m\u001b[0m\n\u001b[0;32m    621\u001b[0m             \u001b[1;32melse\u001b[0m\u001b[1;33m:\u001b[0m\u001b[1;33m\u001b[0m\u001b[1;33m\u001b[0m\u001b[0m\n\u001b[1;32m--> 622\u001b[1;33m                 \u001b[0mX\u001b[0m\u001b[1;33m,\u001b[0m \u001b[0my\u001b[0m \u001b[1;33m=\u001b[0m \u001b[0mcheck_X_y\u001b[0m\u001b[1;33m(\u001b[0m\u001b[0mX\u001b[0m\u001b[1;33m,\u001b[0m \u001b[0my\u001b[0m\u001b[1;33m,\u001b[0m \u001b[1;33m**\u001b[0m\u001b[0mcheck_params\u001b[0m\u001b[1;33m)\u001b[0m\u001b[1;33m\u001b[0m\u001b[1;33m\u001b[0m\u001b[0m\n\u001b[0m\u001b[0;32m    623\u001b[0m             \u001b[0mout\u001b[0m \u001b[1;33m=\u001b[0m \u001b[0mX\u001b[0m\u001b[1;33m,\u001b[0m \u001b[0my\u001b[0m\u001b[1;33m\u001b[0m\u001b[1;33m\u001b[0m\u001b[0m\n\u001b[0;32m    624\u001b[0m \u001b[1;33m\u001b[0m\u001b[0m\n",
      "\u001b[1;32m~\\AppData\\Local\\Programs\\Python\\Python310\\lib\\site-packages\\sklearn\\utils\\validation.py\u001b[0m in \u001b[0;36mcheck_X_y\u001b[1;34m(X, y, accept_sparse, accept_large_sparse, dtype, order, copy, force_all_finite, ensure_2d, allow_nd, multi_output, ensure_min_samples, ensure_min_features, y_numeric, estimator)\u001b[0m\n\u001b[0;32m   1160\u001b[0m     )\n\u001b[0;32m   1161\u001b[0m \u001b[1;33m\u001b[0m\u001b[0m\n\u001b[1;32m-> 1162\u001b[1;33m     \u001b[0my\u001b[0m \u001b[1;33m=\u001b[0m \u001b[0m_check_y\u001b[0m\u001b[1;33m(\u001b[0m\u001b[0my\u001b[0m\u001b[1;33m,\u001b[0m \u001b[0mmulti_output\u001b[0m\u001b[1;33m=\u001b[0m\u001b[0mmulti_output\u001b[0m\u001b[1;33m,\u001b[0m \u001b[0my_numeric\u001b[0m\u001b[1;33m=\u001b[0m\u001b[0my_numeric\u001b[0m\u001b[1;33m,\u001b[0m \u001b[0mestimator\u001b[0m\u001b[1;33m=\u001b[0m\u001b[0mestimator\u001b[0m\u001b[1;33m)\u001b[0m\u001b[1;33m\u001b[0m\u001b[1;33m\u001b[0m\u001b[0m\n\u001b[0m\u001b[0;32m   1163\u001b[0m \u001b[1;33m\u001b[0m\u001b[0m\n\u001b[0;32m   1164\u001b[0m     \u001b[0mcheck_consistent_length\u001b[0m\u001b[1;33m(\u001b[0m\u001b[0mX\u001b[0m\u001b[1;33m,\u001b[0m \u001b[0my\u001b[0m\u001b[1;33m)\u001b[0m\u001b[1;33m\u001b[0m\u001b[1;33m\u001b[0m\u001b[0m\n",
      "\u001b[1;32m~\\AppData\\Local\\Programs\\Python\\Python310\\lib\\site-packages\\sklearn\\utils\\validation.py\u001b[0m in \u001b[0;36m_check_y\u001b[1;34m(y, multi_output, y_numeric, estimator)\u001b[0m\n\u001b[0;32m   1181\u001b[0m     \u001b[1;32melse\u001b[0m\u001b[1;33m:\u001b[0m\u001b[1;33m\u001b[0m\u001b[1;33m\u001b[0m\u001b[0m\n\u001b[0;32m   1182\u001b[0m         \u001b[0mestimator_name\u001b[0m \u001b[1;33m=\u001b[0m \u001b[0m_check_estimator_name\u001b[0m\u001b[1;33m(\u001b[0m\u001b[0mestimator\u001b[0m\u001b[1;33m)\u001b[0m\u001b[1;33m\u001b[0m\u001b[1;33m\u001b[0m\u001b[0m\n\u001b[1;32m-> 1183\u001b[1;33m         \u001b[0my\u001b[0m \u001b[1;33m=\u001b[0m \u001b[0mcolumn_or_1d\u001b[0m\u001b[1;33m(\u001b[0m\u001b[0my\u001b[0m\u001b[1;33m,\u001b[0m \u001b[0mwarn\u001b[0m\u001b[1;33m=\u001b[0m\u001b[1;32mTrue\u001b[0m\u001b[1;33m)\u001b[0m\u001b[1;33m\u001b[0m\u001b[1;33m\u001b[0m\u001b[0m\n\u001b[0m\u001b[0;32m   1184\u001b[0m         \u001b[0m_assert_all_finite\u001b[0m\u001b[1;33m(\u001b[0m\u001b[0my\u001b[0m\u001b[1;33m,\u001b[0m \u001b[0minput_name\u001b[0m\u001b[1;33m=\u001b[0m\u001b[1;34m\"y\"\u001b[0m\u001b[1;33m,\u001b[0m \u001b[0mestimator_name\u001b[0m\u001b[1;33m=\u001b[0m\u001b[0mestimator_name\u001b[0m\u001b[1;33m)\u001b[0m\u001b[1;33m\u001b[0m\u001b[1;33m\u001b[0m\u001b[0m\n\u001b[0;32m   1185\u001b[0m         \u001b[0m_ensure_no_complex_data\u001b[0m\u001b[1;33m(\u001b[0m\u001b[0my\u001b[0m\u001b[1;33m)\u001b[0m\u001b[1;33m\u001b[0m\u001b[1;33m\u001b[0m\u001b[0m\n",
      "\u001b[1;32m~\\AppData\\Local\\Programs\\Python\\Python310\\lib\\site-packages\\sklearn\\utils\\validation.py\u001b[0m in \u001b[0;36mcolumn_or_1d\u001b[1;34m(y, dtype, warn)\u001b[0m\n\u001b[0;32m   1242\u001b[0m         \u001b[1;32mreturn\u001b[0m \u001b[0m_asarray_with_order\u001b[0m\u001b[1;33m(\u001b[0m\u001b[0mxp\u001b[0m\u001b[1;33m.\u001b[0m\u001b[0mreshape\u001b[0m\u001b[1;33m(\u001b[0m\u001b[0my\u001b[0m\u001b[1;33m,\u001b[0m \u001b[1;33m(\u001b[0m\u001b[1;33m-\u001b[0m\u001b[1;36m1\u001b[0m\u001b[1;33m,\u001b[0m\u001b[1;33m)\u001b[0m\u001b[1;33m)\u001b[0m\u001b[1;33m,\u001b[0m \u001b[0morder\u001b[0m\u001b[1;33m=\u001b[0m\u001b[1;34m\"C\"\u001b[0m\u001b[1;33m,\u001b[0m \u001b[0mxp\u001b[0m\u001b[1;33m=\u001b[0m\u001b[0mxp\u001b[0m\u001b[1;33m)\u001b[0m\u001b[1;33m\u001b[0m\u001b[1;33m\u001b[0m\u001b[0m\n\u001b[0;32m   1243\u001b[0m \u001b[1;33m\u001b[0m\u001b[0m\n\u001b[1;32m-> 1244\u001b[1;33m     raise ValueError(\n\u001b[0m\u001b[0;32m   1245\u001b[0m         \u001b[1;34m\"y should be a 1d array, got an array of shape {} instead.\"\u001b[0m\u001b[1;33m.\u001b[0m\u001b[0mformat\u001b[0m\u001b[1;33m(\u001b[0m\u001b[0mshape\u001b[0m\u001b[1;33m)\u001b[0m\u001b[1;33m\u001b[0m\u001b[1;33m\u001b[0m\u001b[0m\n\u001b[0;32m   1246\u001b[0m     )\n",
      "\u001b[1;31mValueError\u001b[0m: y should be a 1d array, got an array of shape (6103, 54) instead."
     ]
    }
   ],
   "source": [
    "from sklearn.model_selection import train_test_split\n",
    "\n",
    "X_train, X_test, y_train, y_test = train_test_split(X, y, train_size=0.9)\n",
    "\n",
    "\n",
    "\n",
    "model.fit(X_train, y_train)"
   ]
  },
  {
   "cell_type": "code",
   "execution_count": null,
   "id": "0fb212a3-3001-44e9-949a-8aa2135178ac",
   "metadata": {},
   "outputs": [],
   "source": [
    "model.score(X_test, y_test)"
   ]
  },
  {
   "cell_type": "code",
   "execution_count": null,
   "id": "a9a146f8-0698-4e78-ac96-f3e575c545cd",
   "metadata": {},
   "outputs": [],
   "source": [
    "from sklearn.metrics import classification_report\n",
    "print(classification_report(y_test, model.predict(X_test)))"
   ]
  }
 ],
 "metadata": {
  "kernelspec": {
   "display_name": "Python 3 (ipykernel)",
   "language": "python",
   "name": "python3"
  },
  "language_info": {
   "codemirror_mode": {
    "name": "ipython",
    "version": 3
   },
   "file_extension": ".py",
   "mimetype": "text/x-python",
   "name": "python",
   "nbconvert_exporter": "python",
   "pygments_lexer": "ipython3",
   "version": "3.10.0"
  }
 },
 "nbformat": 4,
 "nbformat_minor": 5
}
