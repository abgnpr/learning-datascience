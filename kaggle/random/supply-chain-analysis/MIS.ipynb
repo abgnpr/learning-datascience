{
 "cells": [
  {
   "cell_type": "markdown",
   "metadata": {},
   "source": [
    "# KCCB Maagement Information System"
   ]
  },
  {
   "cell_type": "code",
   "execution_count": 36,
   "metadata": {},
   "outputs": [],
   "source": [
    "import pandas as pd"
   ]
  },
  {
   "cell_type": "code",
   "execution_count": 37,
   "metadata": {},
   "outputs": [],
   "source": [
    "df = pd.read_excel('List_of_Reports_I&S_Section.xlsx')"
   ]
  },
  {
   "cell_type": "code",
   "execution_count": 38,
   "metadata": {},
   "outputs": [
    {
     "name": "stdout",
     "output_type": "stream",
     "text": [
      "<class 'pandas.core.frame.DataFrame'>\n",
      "RangeIndex: 84 entries, 0 to 83\n",
      "Data columns (total 5 columns):\n",
      " #   Column        Non-Null Count  Dtype \n",
      "---  ------        --------------  ----- \n",
      " 0   SR. NO.       84 non-null     int64 \n",
      " 1   REPORT NAME   84 non-null     object\n",
      " 2   SECTION       84 non-null     object\n",
      " 3   FREQUENCY     84 non-null     object\n",
      " 4   REPORTS TYPE  84 non-null     object\n",
      "dtypes: int64(1), object(4)\n",
      "memory usage: 3.4+ KB\n"
     ]
    }
   ],
   "source": [
    "df.info()"
   ]
  },
  {
   "cell_type": "code",
   "execution_count": 39,
   "metadata": {},
   "outputs": [],
   "source": [
    "df = df.drop(columns=[\"SR. NO.\", \"SECTION\"])"
   ]
  },
  {
   "cell_type": "code",
   "execution_count": 40,
   "metadata": {},
   "outputs": [],
   "source": [
    "import re\n",
    "df['REPORT NAME'] = df['REPORT NAME'].str.replace(r'\\.txt(.gz)?|_\\d{2}-\\w{3}-\\d{4}|\\.zip', '', regex=True, flags=re.IGNORECASE)"
   ]
  },
  {
   "cell_type": "code",
   "execution_count": 41,
   "metadata": {},
   "outputs": [],
   "source": [
    "df = df.join(df['FREQUENCY'].str.get_dummies('/').astype('boolean').add_prefix('Generated '))\n",
    "df = df.drop(columns=['FREQUENCY'])"
   ]
  },
  {
   "cell_type": "code",
   "execution_count": 42,
   "metadata": {},
   "outputs": [
    {
     "data": {
      "text/html": [
       "<div>\n",
       "<style scoped>\n",
       "    .dataframe tbody tr th:only-of-type {\n",
       "        vertical-align: middle;\n",
       "    }\n",
       "\n",
       "    .dataframe tbody tr th {\n",
       "        vertical-align: top;\n",
       "    }\n",
       "\n",
       "    .dataframe thead th {\n",
       "        text-align: right;\n",
       "    }\n",
       "</style>\n",
       "<table border=\"1\" class=\"dataframe\">\n",
       "  <thead>\n",
       "    <tr style=\"text-align: right;\">\n",
       "      <th></th>\n",
       "      <th>REPORT NAME</th>\n",
       "      <th>REPORTS TYPE</th>\n",
       "      <th>Generated DAILY</th>\n",
       "      <th>Generated MONTHLY</th>\n",
       "      <th>Generated QUATERLY</th>\n",
       "      <th>Generated WEEKLY</th>\n",
       "    </tr>\n",
       "  </thead>\n",
       "  <tbody>\n",
       "    <tr>\n",
       "      <th>0</th>\n",
       "      <td>KCCB_YEILD_ON_ASSETS</td>\n",
       "      <td>ADHOC</td>\n",
       "      <td>False</td>\n",
       "      <td>True</td>\n",
       "      <td>False</td>\n",
       "      <td>False</td>\n",
       "    </tr>\n",
       "    <tr>\n",
       "      <th>71</th>\n",
       "      <td>REPORT_OF_PMSVAnidhi</td>\n",
       "      <td>ADHOC</td>\n",
       "      <td>False</td>\n",
       "      <td>False</td>\n",
       "      <td>True</td>\n",
       "      <td>False</td>\n",
       "    </tr>\n",
       "    <tr>\n",
       "      <th>70</th>\n",
       "      <td>15H_SUBMIT_ACCTWISE</td>\n",
       "      <td>ADHOC</td>\n",
       "      <td>False</td>\n",
       "      <td>False</td>\n",
       "      <td>True</td>\n",
       "      <td>False</td>\n",
       "    </tr>\n",
       "    <tr>\n",
       "      <th>69</th>\n",
       "      <td>15G_SUBMIT_ACCTWISE</td>\n",
       "      <td>ADHOC</td>\n",
       "      <td>False</td>\n",
       "      <td>False</td>\n",
       "      <td>True</td>\n",
       "      <td>False</td>\n",
       "    </tr>\n",
       "    <tr>\n",
       "      <th>43</th>\n",
       "      <td>CONSOLIDATED_REPORT_FOR_LIST_OF_NON_OPERATED_A...</td>\n",
       "      <td>ADHOC</td>\n",
       "      <td>False</td>\n",
       "      <td>True</td>\n",
       "      <td>False</td>\n",
       "      <td>False</td>\n",
       "    </tr>\n",
       "    <tr>\n",
       "      <th>...</th>\n",
       "      <td>...</td>\n",
       "      <td>...</td>\n",
       "      <td>...</td>\n",
       "      <td>...</td>\n",
       "      <td>...</td>\n",
       "      <td>...</td>\n",
       "    </tr>\n",
       "    <tr>\n",
       "      <th>56</th>\n",
       "      <td>ACCOUNT PERSION RELATION</td>\n",
       "      <td>STR</td>\n",
       "      <td>False</td>\n",
       "      <td>True</td>\n",
       "      <td>False</td>\n",
       "      <td>False</td>\n",
       "    </tr>\n",
       "    <tr>\n",
       "      <th>53</th>\n",
       "      <td>TC2</td>\n",
       "      <td>STR</td>\n",
       "      <td>False</td>\n",
       "      <td>True</td>\n",
       "      <td>False</td>\n",
       "      <td>False</td>\n",
       "    </tr>\n",
       "    <tr>\n",
       "      <th>52</th>\n",
       "      <td>TC1</td>\n",
       "      <td>STR</td>\n",
       "      <td>False</td>\n",
       "      <td>True</td>\n",
       "      <td>False</td>\n",
       "      <td>False</td>\n",
       "    </tr>\n",
       "    <tr>\n",
       "      <th>50</th>\n",
       "      <td>KC1</td>\n",
       "      <td>STR</td>\n",
       "      <td>False</td>\n",
       "      <td>True</td>\n",
       "      <td>False</td>\n",
       "      <td>False</td>\n",
       "    </tr>\n",
       "    <tr>\n",
       "      <th>54</th>\n",
       "      <td>TS1</td>\n",
       "      <td>STR</td>\n",
       "      <td>False</td>\n",
       "      <td>True</td>\n",
       "      <td>False</td>\n",
       "      <td>False</td>\n",
       "    </tr>\n",
       "  </tbody>\n",
       "</table>\n",
       "<p>84 rows × 6 columns</p>\n",
       "</div>"
      ],
      "text/plain": [
       "                                          REPORT NAME REPORTS TYPE  \\\n",
       "0                                KCCB_YEILD_ON_ASSETS        ADHOC   \n",
       "71                               REPORT_OF_PMSVAnidhi        ADHOC   \n",
       "70                                15H_SUBMIT_ACCTWISE        ADHOC   \n",
       "69                                15G_SUBMIT_ACCTWISE        ADHOC   \n",
       "43  CONSOLIDATED_REPORT_FOR_LIST_OF_NON_OPERATED_A...        ADHOC   \n",
       "..                                                ...          ...   \n",
       "56                           ACCOUNT PERSION RELATION          STR   \n",
       "53                                                TC2          STR   \n",
       "52                                                TC1          STR   \n",
       "50                                                KC1          STR   \n",
       "54                                                TS1          STR   \n",
       "\n",
       "    Generated DAILY  Generated MONTHLY  Generated QUATERLY  Generated WEEKLY  \n",
       "0             False               True               False             False  \n",
       "71            False              False                True             False  \n",
       "70            False              False                True             False  \n",
       "69            False              False                True             False  \n",
       "43            False               True               False             False  \n",
       "..              ...                ...                 ...               ...  \n",
       "56            False               True               False             False  \n",
       "53            False               True               False             False  \n",
       "52            False               True               False             False  \n",
       "50            False               True               False             False  \n",
       "54            False               True               False             False  \n",
       "\n",
       "[84 rows x 6 columns]"
      ]
     },
     "execution_count": 42,
     "metadata": {},
     "output_type": "execute_result"
    }
   ],
   "source": [
    "df.sort_values(by='REPORTS TYPE')"
   ]
  },
  {
   "cell_type": "code",
   "execution_count": 43,
   "metadata": {},
   "outputs": [],
   "source": [
    "df['REPORT NO'] = df.groupby('REPORTS TYPE').cumcount() + 1"
   ]
  },
  {
   "cell_type": "code",
   "execution_count": 44,
   "metadata": {},
   "outputs": [],
   "source": [
    "df = df.set_index(['REPORTS TYPE', 'REPORT NO' ]).sort_index(level=0)"
   ]
  },
  {
   "cell_type": "code",
   "execution_count": 45,
   "metadata": {},
   "outputs": [],
   "source": [
    "df.to_excel(excel_writer=\"MIS.xlsx\", sheet_name=\"Report Group\")"
   ]
  },
  {
   "cell_type": "code",
   "execution_count": null,
   "metadata": {},
   "outputs": [],
   "source": []
  }
 ],
 "metadata": {
  "kernelspec": {
   "display_name": "Python 3 (ipykernel)",
   "language": "python",
   "name": "python3"
  },
  "language_info": {
   "codemirror_mode": {
    "name": "ipython",
    "version": 3
   },
   "file_extension": ".py",
   "mimetype": "text/x-python",
   "name": "python",
   "nbconvert_exporter": "python",
   "pygments_lexer": "ipython3",
   "version": "3.10.0"
  }
 },
 "nbformat": 4,
 "nbformat_minor": 4
}
