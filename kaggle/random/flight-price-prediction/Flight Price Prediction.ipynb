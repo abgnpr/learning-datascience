{
 "cells": [
  {
   "cell_type": "code",
   "execution_count": 1,
   "id": "b2f9bd92-6f95-4456-a76f-c9477e7f6d92",
   "metadata": {},
   "outputs": [],
   "source": [
    "import numpy as np\n",
    "import pandas as pd"
   ]
  },
  {
   "cell_type": "code",
   "execution_count": 58,
   "id": "79dfc3d4-3f48-4b98-bd80-5a15dc858b2e",
   "metadata": {},
   "outputs": [
    {
     "data": {
      "text/html": [
       "<div>\n",
       "<style scoped>\n",
       "    .dataframe tbody tr th:only-of-type {\n",
       "        vertical-align: middle;\n",
       "    }\n",
       "\n",
       "    .dataframe tbody tr th {\n",
       "        vertical-align: top;\n",
       "    }\n",
       "\n",
       "    .dataframe thead th {\n",
       "        text-align: right;\n",
       "    }\n",
       "</style>\n",
       "<table border=\"1\" class=\"dataframe\">\n",
       "  <thead>\n",
       "    <tr style=\"text-align: right;\">\n",
       "      <th></th>\n",
       "      <th>date</th>\n",
       "      <th>airline</th>\n",
       "      <th>ch_code</th>\n",
       "      <th>num_code</th>\n",
       "      <th>dep_time</th>\n",
       "      <th>from</th>\n",
       "      <th>time_taken</th>\n",
       "      <th>stop</th>\n",
       "      <th>arr_time</th>\n",
       "      <th>to</th>\n",
       "      <th>price</th>\n",
       "      <th>class</th>\n",
       "    </tr>\n",
       "  </thead>\n",
       "  <tbody>\n",
       "    <tr>\n",
       "      <th>0</th>\n",
       "      <td>11-02-2022</td>\n",
       "      <td>Air India</td>\n",
       "      <td>AI</td>\n",
       "      <td>868</td>\n",
       "      <td>18:00</td>\n",
       "      <td>Delhi</td>\n",
       "      <td>02h 00m</td>\n",
       "      <td>non-stop</td>\n",
       "      <td>20:00</td>\n",
       "      <td>Mumbai</td>\n",
       "      <td>25,612</td>\n",
       "      <td>B</td>\n",
       "    </tr>\n",
       "    <tr>\n",
       "      <th>1</th>\n",
       "      <td>11-02-2022</td>\n",
       "      <td>Air India</td>\n",
       "      <td>AI</td>\n",
       "      <td>624</td>\n",
       "      <td>19:00</td>\n",
       "      <td>Delhi</td>\n",
       "      <td>02h 15m</td>\n",
       "      <td>non-stop</td>\n",
       "      <td>21:15</td>\n",
       "      <td>Mumbai</td>\n",
       "      <td>25,612</td>\n",
       "      <td>B</td>\n",
       "    </tr>\n",
       "    <tr>\n",
       "      <th>2</th>\n",
       "      <td>11-02-2022</td>\n",
       "      <td>Air India</td>\n",
       "      <td>AI</td>\n",
       "      <td>531</td>\n",
       "      <td>20:00</td>\n",
       "      <td>Delhi</td>\n",
       "      <td>24h 45m</td>\n",
       "      <td>1-stop\\n\\t\\t\\t\\t\\t\\t\\t\\t\\t\\t\\t\\t\\n\\t\\t\\t\\t\\t\\t...</td>\n",
       "      <td>20:45</td>\n",
       "      <td>Mumbai</td>\n",
       "      <td>42,220</td>\n",
       "      <td>B</td>\n",
       "    </tr>\n",
       "    <tr>\n",
       "      <th>3</th>\n",
       "      <td>11-02-2022</td>\n",
       "      <td>Air India</td>\n",
       "      <td>AI</td>\n",
       "      <td>839</td>\n",
       "      <td>21:25</td>\n",
       "      <td>Delhi</td>\n",
       "      <td>26h 30m</td>\n",
       "      <td>1-stop\\n\\t\\t\\t\\t\\t\\t\\t\\t\\t\\t\\t\\t\\n\\t\\t\\t\\t\\t\\t...</td>\n",
       "      <td>23:55</td>\n",
       "      <td>Mumbai</td>\n",
       "      <td>44,450</td>\n",
       "      <td>B</td>\n",
       "    </tr>\n",
       "    <tr>\n",
       "      <th>4</th>\n",
       "      <td>11-02-2022</td>\n",
       "      <td>Air India</td>\n",
       "      <td>AI</td>\n",
       "      <td>544</td>\n",
       "      <td>17:15</td>\n",
       "      <td>Delhi</td>\n",
       "      <td>06h 40m</td>\n",
       "      <td>1-stop\\n\\t\\t\\t\\t\\t\\t\\t\\t\\t\\t\\t\\t\\n\\t\\t\\t\\t\\t\\t...</td>\n",
       "      <td>23:55</td>\n",
       "      <td>Mumbai</td>\n",
       "      <td>46,690</td>\n",
       "      <td>B</td>\n",
       "    </tr>\n",
       "  </tbody>\n",
       "</table>\n",
       "</div>"
      ],
      "text/plain": [
       "         date    airline ch_code  num_code dep_time   from time_taken  \\\n",
       "0  11-02-2022  Air India      AI       868    18:00  Delhi    02h 00m   \n",
       "1  11-02-2022  Air India      AI       624    19:00  Delhi    02h 15m   \n",
       "2  11-02-2022  Air India      AI       531    20:00  Delhi    24h 45m   \n",
       "3  11-02-2022  Air India      AI       839    21:25  Delhi    26h 30m   \n",
       "4  11-02-2022  Air India      AI       544    17:15  Delhi    06h 40m   \n",
       "\n",
       "                                                stop arr_time      to   price  \\\n",
       "0                                          non-stop     20:00  Mumbai  25,612   \n",
       "1                                          non-stop     21:15  Mumbai  25,612   \n",
       "2  1-stop\\n\\t\\t\\t\\t\\t\\t\\t\\t\\t\\t\\t\\t\\n\\t\\t\\t\\t\\t\\t...    20:45  Mumbai  42,220   \n",
       "3  1-stop\\n\\t\\t\\t\\t\\t\\t\\t\\t\\t\\t\\t\\t\\n\\t\\t\\t\\t\\t\\t...    23:55  Mumbai  44,450   \n",
       "4  1-stop\\n\\t\\t\\t\\t\\t\\t\\t\\t\\t\\t\\t\\t\\n\\t\\t\\t\\t\\t\\t...    23:55  Mumbai  46,690   \n",
       "\n",
       "  class  \n",
       "0     B  \n",
       "1     B  \n",
       "2     B  \n",
       "3     B  \n",
       "4     B  "
      ]
     },
     "execution_count": 58,
     "metadata": {},
     "output_type": "execute_result"
    }
   ],
   "source": [
    "df_b = pd.read_csv('business.csv')\n",
    "df_b['class'] = pd.Categorical(np.repeat('B', df_b.shape[0]), categories=['B', 'E'])\n",
    "df_b.head()"
   ]
  },
  {
   "cell_type": "code",
   "execution_count": 57,
   "id": "2cd1c5a4-f48a-42ab-92bd-a7fdbb18634c",
   "metadata": {},
   "outputs": [
    {
     "data": {
      "text/html": [
       "<div>\n",
       "<style scoped>\n",
       "    .dataframe tbody tr th:only-of-type {\n",
       "        vertical-align: middle;\n",
       "    }\n",
       "\n",
       "    .dataframe tbody tr th {\n",
       "        vertical-align: top;\n",
       "    }\n",
       "\n",
       "    .dataframe thead th {\n",
       "        text-align: right;\n",
       "    }\n",
       "</style>\n",
       "<table border=\"1\" class=\"dataframe\">\n",
       "  <thead>\n",
       "    <tr style=\"text-align: right;\">\n",
       "      <th></th>\n",
       "      <th>date</th>\n",
       "      <th>airline</th>\n",
       "      <th>ch_code</th>\n",
       "      <th>num_code</th>\n",
       "      <th>dep_time</th>\n",
       "      <th>from</th>\n",
       "      <th>time_taken</th>\n",
       "      <th>stop</th>\n",
       "      <th>arr_time</th>\n",
       "      <th>to</th>\n",
       "      <th>price</th>\n",
       "      <th>class</th>\n",
       "    </tr>\n",
       "  </thead>\n",
       "  <tbody>\n",
       "    <tr>\n",
       "      <th>0</th>\n",
       "      <td>11-02-2022</td>\n",
       "      <td>SpiceJet</td>\n",
       "      <td>SG</td>\n",
       "      <td>8709</td>\n",
       "      <td>18:55</td>\n",
       "      <td>Delhi</td>\n",
       "      <td>02h 10m</td>\n",
       "      <td>non-stop</td>\n",
       "      <td>21:05</td>\n",
       "      <td>Mumbai</td>\n",
       "      <td>5,953</td>\n",
       "      <td>E</td>\n",
       "    </tr>\n",
       "    <tr>\n",
       "      <th>1</th>\n",
       "      <td>11-02-2022</td>\n",
       "      <td>SpiceJet</td>\n",
       "      <td>SG</td>\n",
       "      <td>8157</td>\n",
       "      <td>06:20</td>\n",
       "      <td>Delhi</td>\n",
       "      <td>02h 20m</td>\n",
       "      <td>non-stop</td>\n",
       "      <td>08:40</td>\n",
       "      <td>Mumbai</td>\n",
       "      <td>5,953</td>\n",
       "      <td>E</td>\n",
       "    </tr>\n",
       "    <tr>\n",
       "      <th>2</th>\n",
       "      <td>11-02-2022</td>\n",
       "      <td>AirAsia</td>\n",
       "      <td>I5</td>\n",
       "      <td>764</td>\n",
       "      <td>04:25</td>\n",
       "      <td>Delhi</td>\n",
       "      <td>02h 10m</td>\n",
       "      <td>non-stop</td>\n",
       "      <td>06:35</td>\n",
       "      <td>Mumbai</td>\n",
       "      <td>5,956</td>\n",
       "      <td>E</td>\n",
       "    </tr>\n",
       "    <tr>\n",
       "      <th>3</th>\n",
       "      <td>11-02-2022</td>\n",
       "      <td>Vistara</td>\n",
       "      <td>UK</td>\n",
       "      <td>995</td>\n",
       "      <td>10:20</td>\n",
       "      <td>Delhi</td>\n",
       "      <td>02h 15m</td>\n",
       "      <td>non-stop</td>\n",
       "      <td>12:35</td>\n",
       "      <td>Mumbai</td>\n",
       "      <td>5,955</td>\n",
       "      <td>E</td>\n",
       "    </tr>\n",
       "    <tr>\n",
       "      <th>4</th>\n",
       "      <td>11-02-2022</td>\n",
       "      <td>Vistara</td>\n",
       "      <td>UK</td>\n",
       "      <td>963</td>\n",
       "      <td>08:50</td>\n",
       "      <td>Delhi</td>\n",
       "      <td>02h 20m</td>\n",
       "      <td>non-stop</td>\n",
       "      <td>11:10</td>\n",
       "      <td>Mumbai</td>\n",
       "      <td>5,955</td>\n",
       "      <td>E</td>\n",
       "    </tr>\n",
       "  </tbody>\n",
       "</table>\n",
       "</div>"
      ],
      "text/plain": [
       "         date   airline ch_code  num_code dep_time   from time_taken  \\\n",
       "0  11-02-2022  SpiceJet      SG      8709    18:55  Delhi    02h 10m   \n",
       "1  11-02-2022  SpiceJet      SG      8157    06:20  Delhi    02h 20m   \n",
       "2  11-02-2022   AirAsia      I5       764    04:25  Delhi    02h 10m   \n",
       "3  11-02-2022   Vistara      UK       995    10:20  Delhi    02h 15m   \n",
       "4  11-02-2022   Vistara      UK       963    08:50  Delhi    02h 20m   \n",
       "\n",
       "        stop arr_time      to  price class  \n",
       "0  non-stop     21:05  Mumbai  5,953     E  \n",
       "1  non-stop     08:40  Mumbai  5,953     E  \n",
       "2  non-stop     06:35  Mumbai  5,956     E  \n",
       "3  non-stop     12:35  Mumbai  5,955     E  \n",
       "4  non-stop     11:10  Mumbai  5,955     E  "
      ]
     },
     "execution_count": 57,
     "metadata": {},
     "output_type": "execute_result"
    }
   ],
   "source": [
    "df_e = pd.read_csv('economy.csv')\n",
    "df_e['class'] = pd.Categorical(np.repeat('E', df_e.shape[0]), categories=['B', 'E'])\n",
    "df_e.head()"
   ]
  },
  {
   "cell_type": "code",
   "execution_count": 59,
   "id": "aa9a77a9-aea6-4556-96f0-058fb7061c20",
   "metadata": {},
   "outputs": [
    {
     "data": {
      "text/html": [
       "<div>\n",
       "<style scoped>\n",
       "    .dataframe tbody tr th:only-of-type {\n",
       "        vertical-align: middle;\n",
       "    }\n",
       "\n",
       "    .dataframe tbody tr th {\n",
       "        vertical-align: top;\n",
       "    }\n",
       "\n",
       "    .dataframe thead th {\n",
       "        text-align: right;\n",
       "    }\n",
       "</style>\n",
       "<table border=\"1\" class=\"dataframe\">\n",
       "  <thead>\n",
       "    <tr style=\"text-align: right;\">\n",
       "      <th></th>\n",
       "      <th>date</th>\n",
       "      <th>airline</th>\n",
       "      <th>ch_code</th>\n",
       "      <th>num_code</th>\n",
       "      <th>dep_time</th>\n",
       "      <th>from</th>\n",
       "      <th>time_taken</th>\n",
       "      <th>stop</th>\n",
       "      <th>arr_time</th>\n",
       "      <th>to</th>\n",
       "      <th>price</th>\n",
       "      <th>class</th>\n",
       "    </tr>\n",
       "  </thead>\n",
       "  <tbody>\n",
       "    <tr>\n",
       "      <th>0</th>\n",
       "      <td>11-02-2022</td>\n",
       "      <td>Air India</td>\n",
       "      <td>AI</td>\n",
       "      <td>868</td>\n",
       "      <td>18:00</td>\n",
       "      <td>Delhi</td>\n",
       "      <td>02h 00m</td>\n",
       "      <td>non-stop</td>\n",
       "      <td>20:00</td>\n",
       "      <td>Mumbai</td>\n",
       "      <td>25,612</td>\n",
       "      <td>B</td>\n",
       "    </tr>\n",
       "    <tr>\n",
       "      <th>1</th>\n",
       "      <td>11-02-2022</td>\n",
       "      <td>Air India</td>\n",
       "      <td>AI</td>\n",
       "      <td>624</td>\n",
       "      <td>19:00</td>\n",
       "      <td>Delhi</td>\n",
       "      <td>02h 15m</td>\n",
       "      <td>non-stop</td>\n",
       "      <td>21:15</td>\n",
       "      <td>Mumbai</td>\n",
       "      <td>25,612</td>\n",
       "      <td>B</td>\n",
       "    </tr>\n",
       "    <tr>\n",
       "      <th>2</th>\n",
       "      <td>11-02-2022</td>\n",
       "      <td>Air India</td>\n",
       "      <td>AI</td>\n",
       "      <td>531</td>\n",
       "      <td>20:00</td>\n",
       "      <td>Delhi</td>\n",
       "      <td>24h 45m</td>\n",
       "      <td>1-stop\\n\\t\\t\\t\\t\\t\\t\\t\\t\\t\\t\\t\\t\\n\\t\\t\\t\\t\\t\\t...</td>\n",
       "      <td>20:45</td>\n",
       "      <td>Mumbai</td>\n",
       "      <td>42,220</td>\n",
       "      <td>B</td>\n",
       "    </tr>\n",
       "    <tr>\n",
       "      <th>3</th>\n",
       "      <td>11-02-2022</td>\n",
       "      <td>Air India</td>\n",
       "      <td>AI</td>\n",
       "      <td>839</td>\n",
       "      <td>21:25</td>\n",
       "      <td>Delhi</td>\n",
       "      <td>26h 30m</td>\n",
       "      <td>1-stop\\n\\t\\t\\t\\t\\t\\t\\t\\t\\t\\t\\t\\t\\n\\t\\t\\t\\t\\t\\t...</td>\n",
       "      <td>23:55</td>\n",
       "      <td>Mumbai</td>\n",
       "      <td>44,450</td>\n",
       "      <td>B</td>\n",
       "    </tr>\n",
       "    <tr>\n",
       "      <th>4</th>\n",
       "      <td>11-02-2022</td>\n",
       "      <td>Air India</td>\n",
       "      <td>AI</td>\n",
       "      <td>544</td>\n",
       "      <td>17:15</td>\n",
       "      <td>Delhi</td>\n",
       "      <td>06h 40m</td>\n",
       "      <td>1-stop\\n\\t\\t\\t\\t\\t\\t\\t\\t\\t\\t\\t\\t\\n\\t\\t\\t\\t\\t\\t...</td>\n",
       "      <td>23:55</td>\n",
       "      <td>Mumbai</td>\n",
       "      <td>46,690</td>\n",
       "      <td>B</td>\n",
       "    </tr>\n",
       "  </tbody>\n",
       "</table>\n",
       "</div>"
      ],
      "text/plain": [
       "         date    airline ch_code  num_code dep_time   from time_taken  \\\n",
       "0  11-02-2022  Air India      AI       868    18:00  Delhi    02h 00m   \n",
       "1  11-02-2022  Air India      AI       624    19:00  Delhi    02h 15m   \n",
       "2  11-02-2022  Air India      AI       531    20:00  Delhi    24h 45m   \n",
       "3  11-02-2022  Air India      AI       839    21:25  Delhi    26h 30m   \n",
       "4  11-02-2022  Air India      AI       544    17:15  Delhi    06h 40m   \n",
       "\n",
       "                                                stop arr_time      to   price  \\\n",
       "0                                          non-stop     20:00  Mumbai  25,612   \n",
       "1                                          non-stop     21:15  Mumbai  25,612   \n",
       "2  1-stop\\n\\t\\t\\t\\t\\t\\t\\t\\t\\t\\t\\t\\t\\n\\t\\t\\t\\t\\t\\t...    20:45  Mumbai  42,220   \n",
       "3  1-stop\\n\\t\\t\\t\\t\\t\\t\\t\\t\\t\\t\\t\\t\\n\\t\\t\\t\\t\\t\\t...    23:55  Mumbai  44,450   \n",
       "4  1-stop\\n\\t\\t\\t\\t\\t\\t\\t\\t\\t\\t\\t\\t\\n\\t\\t\\t\\t\\t\\t...    23:55  Mumbai  46,690   \n",
       "\n",
       "  class  \n",
       "0     B  \n",
       "1     B  \n",
       "2     B  \n",
       "3     B  \n",
       "4     B  "
      ]
     },
     "execution_count": 59,
     "metadata": {},
     "output_type": "execute_result"
    }
   ],
   "source": [
    "df = pd.concat([\n",
    "    df_b,\n",
    "    df_e\n",
    "], ignore_index=True)\n",
    "\n",
    "df.head()"
   ]
  },
  {
   "cell_type": "code",
   "execution_count": 60,
   "id": "3e532a52-f263-4eae-a739-b4b93c497678",
   "metadata": {},
   "outputs": [
    {
     "data": {
      "text/plain": [
       "(300261, 12)"
      ]
     },
     "execution_count": 60,
     "metadata": {},
     "output_type": "execute_result"
    }
   ],
   "source": [
    "df.shape"
   ]
  },
  {
   "cell_type": "code",
   "execution_count": 61,
   "id": "4d5b658e-813e-4ff6-89f9-ea693bdf153c",
   "metadata": {},
   "outputs": [
    {
     "name": "stdout",
     "output_type": "stream",
     "text": [
      "<class 'pandas.core.frame.DataFrame'>\n",
      "RangeIndex: 300261 entries, 0 to 300260\n",
      "Data columns (total 12 columns):\n",
      " #   Column      Non-Null Count   Dtype   \n",
      "---  ------      --------------   -----   \n",
      " 0   date        300261 non-null  object  \n",
      " 1   airline     300261 non-null  object  \n",
      " 2   ch_code     300261 non-null  object  \n",
      " 3   num_code    300261 non-null  int64   \n",
      " 4   dep_time    300261 non-null  object  \n",
      " 5   from        300261 non-null  object  \n",
      " 6   time_taken  300261 non-null  object  \n",
      " 7   stop        300261 non-null  object  \n",
      " 8   arr_time    300261 non-null  object  \n",
      " 9   to          300261 non-null  object  \n",
      " 10  price       300261 non-null  object  \n",
      " 11  class       300261 non-null  category\n",
      "dtypes: category(1), int64(1), object(10)\n",
      "memory usage: 25.5+ MB\n"
     ]
    }
   ],
   "source": [
    "df.info()"
   ]
  },
  {
   "cell_type": "code",
   "execution_count": 62,
   "id": "5c39b659-fe46-4cb9-8c8d-a8901817718e",
   "metadata": {},
   "outputs": [
    {
     "data": {
      "text/plain": [
       "date          0\n",
       "airline       0\n",
       "ch_code       0\n",
       "num_code      0\n",
       "dep_time      0\n",
       "from          0\n",
       "time_taken    0\n",
       "stop          0\n",
       "arr_time      0\n",
       "to            0\n",
       "price         0\n",
       "class         0\n",
       "dtype: int64"
      ]
     },
     "execution_count": 62,
     "metadata": {},
     "output_type": "execute_result"
    }
   ],
   "source": [
    "df.isna().sum()"
   ]
  },
  {
   "cell_type": "code",
   "execution_count": 63,
   "id": "2f064c7a-42f0-43f0-990f-5335b9f0d5b7",
   "metadata": {},
   "outputs": [],
   "source": [
    "df = df[~df.duplicated()]"
   ]
  },
  {
   "cell_type": "code",
   "execution_count": 64,
   "id": "0b9bd155-32d4-40d1-a706-9c2e5b6ca0e2",
   "metadata": {},
   "outputs": [
    {
     "data": {
      "text/plain": [
       "0"
      ]
     },
     "execution_count": 64,
     "metadata": {},
     "output_type": "execute_result"
    }
   ],
   "source": [
    "df[~df['date'].str.strip().str.match(r'^\\d{1,2}-\\d{1,2}-\\d{4}$')].size"
   ]
  },
  {
   "cell_type": "code",
   "execution_count": 66,
   "id": "cbcd9c12-b8cf-4053-83e6-1897434f5b97",
   "metadata": {},
   "outputs": [],
   "source": [
    "df['date'] = pd.to_datetime(df['date'], format=\"%d-%m-%Y\")"
   ]
  },
  {
   "cell_type": "code",
   "execution_count": 67,
   "id": "d37018fd-2b0e-43bb-a0f0-fcd645010c2d",
   "metadata": {},
   "outputs": [
    {
     "name": "stdout",
     "output_type": "stream",
     "text": [
      "<class 'pandas.core.frame.DataFrame'>\n",
      "Index: 300259 entries, 0 to 300260\n",
      "Data columns (total 12 columns):\n",
      " #   Column      Non-Null Count   Dtype         \n",
      "---  ------      --------------   -----         \n",
      " 0   date        300259 non-null  datetime64[ns]\n",
      " 1   airline     300259 non-null  object        \n",
      " 2   ch_code     300259 non-null  object        \n",
      " 3   num_code    300259 non-null  int64         \n",
      " 4   dep_time    300259 non-null  object        \n",
      " 5   from        300259 non-null  object        \n",
      " 6   time_taken  300259 non-null  object        \n",
      " 7   stop        300259 non-null  object        \n",
      " 8   arr_time    300259 non-null  object        \n",
      " 9   to          300259 non-null  object        \n",
      " 10  price       300259 non-null  object        \n",
      " 11  class       300259 non-null  category      \n",
      "dtypes: category(1), datetime64[ns](1), int64(1), object(9)\n",
      "memory usage: 27.8+ MB\n"
     ]
    }
   ],
   "source": [
    "df.info()"
   ]
  },
  {
   "cell_type": "code",
   "execution_count": 68,
   "id": "1db2ac34-d760-47c1-931d-0ab55de62928",
   "metadata": {},
   "outputs": [],
   "source": [
    "df['dep_time'] = pd.to_datetime(df['dep_time'], format='%H:%M')"
   ]
  },
  {
   "cell_type": "code",
   "execution_count": 69,
   "id": "e4abdc93-3d24-436f-9ad8-931c1e206596",
   "metadata": {},
   "outputs": [
    {
     "name": "stdout",
     "output_type": "stream",
     "text": [
      "IntervalIndex([(1899-12-31 23:59:59.999999, 1900-01-01 03:59:59.999999], (1900-01-01 03:59:59.999999, 1900-01-01 07:59:59.999999], (1900-01-01 07:59:59.999999, 1900-01-01 11:59:59.999999], (1900-01-01 11:59:59.999999, 1900-01-01 15:59:59.999999], (1900-01-01 15:59:59.999999, 1900-01-01 19:59:59.999999], (1900-01-01 19:59:59.999999, 1900-01-01 23:59:59.999999]], dtype='interval[datetime64[ns], right]')\n"
     ]
    },
    {
     "data": {
      "text/plain": [
       "'Evening'"
      ]
     },
     "execution_count": 69,
     "metadata": {},
     "output_type": "execute_result"
    }
   ],
   "source": [
    "from datetime import datetime\n",
    "from pandas.tseries.offsets import Micro\n",
    "\n",
    "INTERVAL_NAMES = ('Late_Night', 'Early_Morning', 'Morning', 'Afternoon', 'Evening', 'Night')\n",
    "start_of_day = pd.Timestamp(df['dep_time'].iloc[0]).floor('D')\n",
    "INTERVALS = pd.interval_range(start=start_of_day - Micro(1), periods=6, freq='4H')\n",
    "\n",
    "print(INTERVALS)\n",
    "\n",
    "def classify(dt):\n",
    "    # ts = pd.Timestamp(dt)\n",
    "    # start_of_day = ts.floor('D')\n",
    "    # intervals = pd.interval_range(start=start_of_day - Micro(1), periods=6, freq='4H')\n",
    "    # return INTERVAL_NAMES[intervals.get_loc(dt)]\n",
    "    return INTERVAL_NAMES[INTERVALS.get_loc(dt)]\n",
    "\n",
    "# classify(datetime(2024, 10, 5, 0, 0, 0, 0))\n",
    "classify(df['dep_time'].iloc[0])\n",
    "    \n",
    "# print(classify(datetime(2024, 10, 5, 0, 0)))"
   ]
  },
  {
   "cell_type": "code",
   "execution_count": 349,
   "id": "6ddefd24-adab-49f1-8f4e-7157d8117c5d",
   "metadata": {},
   "outputs": [
    {
     "data": {
      "text/plain": [
       "0         Evening\n",
       "1         Evening\n",
       "2           Night\n",
       "3           Night\n",
       "4         Evening\n",
       "          ...    \n",
       "1995      Morning\n",
       "1996    Afternoon\n",
       "1997        Night\n",
       "1998      Evening\n",
       "1999      Evening\n",
       "Name: dep_time, Length: 2000, dtype: object"
      ]
     },
     "execution_count": 349,
     "metadata": {},
     "output_type": "execute_result"
    }
   ],
   "source": [
    "df['dep_time'].iloc[0: 2000].apply(classify)"
   ]
  },
  {
   "cell_type": "code",
   "execution_count": 351,
   "id": "9c2dbf1c-6cc3-4a7e-99c1-2d7b28c767ce",
   "metadata": {},
   "outputs": [],
   "source": [
    "tdf = df[~df['time_taken'].str.strip().str.match(r'\\d?\\dh\\s\\d?\\dm')].copy()\n",
    "tdf = pd.concat([df.iloc[:2].copy(), tdf])"
   ]
  },
  {
   "cell_type": "code",
   "execution_count": 356,
   "id": "40022672-be2e-40eb-afc9-d1015c688841",
   "metadata": {},
   "outputs": [
    {
     "data": {
      "text/plain": [
       "0           h 00m\n",
       "1         02h 15m\n",
       "189973     1.3h m\n",
       "198163    1.02h m\n",
       "204802    1.03h m\n",
       "247494    1.01h m\n",
       "Name: time_taken, dtype: object"
      ]
     },
     "execution_count": 356,
     "metadata": {},
     "output_type": "execute_result"
    }
   ],
   "source": [
    "tdf['time_taken']"
   ]
  },
  {
   "cell_type": "code",
   "execution_count": 361,
   "id": "85477ccd-9022-43b6-90dc-ed6041ec2fb0",
   "metadata": {},
   "outputs": [
    {
     "data": {
      "text/html": [
       "<div>\n",
       "<style scoped>\n",
       "    .dataframe tbody tr th:only-of-type {\n",
       "        vertical-align: middle;\n",
       "    }\n",
       "\n",
       "    .dataframe tbody tr th {\n",
       "        vertical-align: top;\n",
       "    }\n",
       "\n",
       "    .dataframe thead th {\n",
       "        text-align: right;\n",
       "    }\n",
       "</style>\n",
       "<table border=\"1\" class=\"dataframe\">\n",
       "  <thead>\n",
       "    <tr style=\"text-align: right;\">\n",
       "      <th></th>\n",
       "      <th>0</th>\n",
       "      <th>1</th>\n",
       "      <th>2</th>\n",
       "    </tr>\n",
       "  </thead>\n",
       "  <tbody>\n",
       "    <tr>\n",
       "      <th>0</th>\n",
       "      <td>NaN</td>\n",
       "      <td>NaN</td>\n",
       "      <td>00</td>\n",
       "    </tr>\n",
       "    <tr>\n",
       "      <th>1</th>\n",
       "      <td>02</td>\n",
       "      <td>NaN</td>\n",
       "      <td>15</td>\n",
       "    </tr>\n",
       "    <tr>\n",
       "      <th>189973</th>\n",
       "      <td>1</td>\n",
       "      <td>.3</td>\n",
       "      <td>NaN</td>\n",
       "    </tr>\n",
       "    <tr>\n",
       "      <th>198163</th>\n",
       "      <td>1</td>\n",
       "      <td>.02</td>\n",
       "      <td>NaN</td>\n",
       "    </tr>\n",
       "    <tr>\n",
       "      <th>204802</th>\n",
       "      <td>1</td>\n",
       "      <td>.03</td>\n",
       "      <td>NaN</td>\n",
       "    </tr>\n",
       "    <tr>\n",
       "      <th>247494</th>\n",
       "      <td>1</td>\n",
       "      <td>.01</td>\n",
       "      <td>NaN</td>\n",
       "    </tr>\n",
       "  </tbody>\n",
       "</table>\n",
       "</div>"
      ],
      "text/plain": [
       "          0    1    2\n",
       "0       NaN  NaN   00\n",
       "1        02  NaN   15\n",
       "189973    1   .3  NaN\n",
       "198163    1  .02  NaN\n",
       "204802    1  .03  NaN\n",
       "247494    1  .01  NaN"
      ]
     },
     "execution_count": 361,
     "metadata": {},
     "output_type": "execute_result"
    }
   ],
   "source": [
    "tdf['time_taken'].str.extract(r'(\\d\\d?)?(\\.\\d\\d?)?h?\\s*(\\d\\d+)?m?', expand=True)"
   ]
  },
  {
   "cell_type": "code",
   "execution_count": 354,
   "id": "76014d75-97f2-436d-9a96-4188ff54a7d2",
   "metadata": {},
   "outputs": [],
   "source": [
    "tdf.loc[0, 'time_taken'] = 'h 00m'\n",
    "tdf.loc[189973, 'time_taken'] = '1.3h m'"
   ]
  },
  {
   "cell_type": "code",
   "execution_count": 21,
   "id": "b5c303a5-3403-4df2-a78c-5898f1a08b1b",
   "metadata": {},
   "outputs": [],
   "source": [
    "H = df['time_taken'].str.strip().str.extract(r'(\\d\\d?)?(?:(\\.\\d\\d?)?)?h', expand=True)\n",
    "h = H[0].astype(pd.Int16Dtype()).rename('h')\n",
    "hap = H[1].astype(pd.Float32Dtype()).rename('%h')\n",
    "m = df['time_taken'].str.strip().str.extract(r'(\\d?\\d)?m')[0].astype(pd.Float32Dtype()).rename('m')"
   ]
  },
  {
   "cell_type": "code",
   "execution_count": 22,
   "id": "4018a182-486a-4bc6-8336-b7efe2d604ab",
   "metadata": {},
   "outputs": [
    {
     "data": {
      "text/html": [
       "<div>\n",
       "<style scoped>\n",
       "    .dataframe tbody tr th:only-of-type {\n",
       "        vertical-align: middle;\n",
       "    }\n",
       "\n",
       "    .dataframe tbody tr th {\n",
       "        vertical-align: top;\n",
       "    }\n",
       "\n",
       "    .dataframe thead th {\n",
       "        text-align: right;\n",
       "    }\n",
       "</style>\n",
       "<table border=\"1\" class=\"dataframe\">\n",
       "  <thead>\n",
       "    <tr style=\"text-align: right;\">\n",
       "      <th></th>\n",
       "      <th>time_taken</th>\n",
       "      <th>h</th>\n",
       "      <th>m</th>\n",
       "    </tr>\n",
       "  </thead>\n",
       "  <tbody>\n",
       "    <tr>\n",
       "      <th>0</th>\n",
       "      <td>h 00m</td>\n",
       "      <td>2</td>\n",
       "      <td>0.0</td>\n",
       "    </tr>\n",
       "    <tr>\n",
       "      <th>1</th>\n",
       "      <td>02h 15m</td>\n",
       "      <td>2</td>\n",
       "      <td>15.0</td>\n",
       "    </tr>\n",
       "    <tr>\n",
       "      <th>189973</th>\n",
       "      <td>1.3h m</td>\n",
       "      <td>1</td>\n",
       "      <td>1.8</td>\n",
       "    </tr>\n",
       "    <tr>\n",
       "      <th>198163</th>\n",
       "      <td>1.02h m</td>\n",
       "      <td>1</td>\n",
       "      <td>1.2</td>\n",
       "    </tr>\n",
       "    <tr>\n",
       "      <th>204802</th>\n",
       "      <td>1.03h m</td>\n",
       "      <td>1</td>\n",
       "      <td>1.8</td>\n",
       "    </tr>\n",
       "    <tr>\n",
       "      <th>...</th>\n",
       "      <td>...</td>\n",
       "      <td>...</td>\n",
       "      <td>...</td>\n",
       "    </tr>\n",
       "    <tr>\n",
       "      <th>300256</th>\n",
       "      <td>0</td>\n",
       "      <td>13</td>\n",
       "      <td>50.0</td>\n",
       "    </tr>\n",
       "    <tr>\n",
       "      <th>300257</th>\n",
       "      <td>0</td>\n",
       "      <td>13</td>\n",
       "      <td>50.0</td>\n",
       "    </tr>\n",
       "    <tr>\n",
       "      <th>300258</th>\n",
       "      <td>0</td>\n",
       "      <td>20</td>\n",
       "      <td>35.0</td>\n",
       "    </tr>\n",
       "    <tr>\n",
       "      <th>300259</th>\n",
       "      <td>0</td>\n",
       "      <td>23</td>\n",
       "      <td>20.0</td>\n",
       "    </tr>\n",
       "    <tr>\n",
       "      <th>300260</th>\n",
       "      <td>0</td>\n",
       "      <td>24</td>\n",
       "      <td>25.0</td>\n",
       "    </tr>\n",
       "  </tbody>\n",
       "</table>\n",
       "<p>300259 rows × 3 columns</p>\n",
       "</div>"
      ],
      "text/plain": [
       "       time_taken   h     m\n",
       "0           h 00m   2   0.0\n",
       "1         02h 15m   2  15.0\n",
       "189973     1.3h m   1   1.8\n",
       "198163    1.02h m   1   1.2\n",
       "204802    1.03h m   1   1.8\n",
       "...           ...  ..   ...\n",
       "300256          0  13  50.0\n",
       "300257          0  13  50.0\n",
       "300258          0  20  35.0\n",
       "300259          0  23  20.0\n",
       "300260          0  24  25.0\n",
       "\n",
       "[300259 rows x 3 columns]"
      ]
     },
     "execution_count": 22,
     "metadata": {},
     "output_type": "execute_result"
    }
   ],
   "source": [
    "r = pd.concat([tdf['time_taken'], h, hap, m], axis=1).fillna(0)\n",
    "r['m'] = r['%h'] * 60 + r['m']\n",
    "r = r.drop(columns=['%h'])\n",
    "r"
   ]
  },
  {
   "cell_type": "code",
   "execution_count": 23,
   "id": "58a5fab5-1115-46cb-a0af-30ba3e0938b4",
   "metadata": {},
   "outputs": [
    {
     "data": {
      "text/plain": [
       "Timedelta('0 days 10:10:06')"
      ]
     },
     "execution_count": 23,
     "metadata": {},
     "output_type": "execute_result"
    }
   ],
   "source": [
    "pd.Timedelta(hours=10) + pd.Timedelta(minutes=10.1)"
   ]
  },
  {
   "cell_type": "markdown",
   "id": "b6642350-221d-43a8-8d6f-aa25f677d58b",
   "metadata": {},
   "source": [
    "stops"
   ]
  },
  {
   "cell_type": "code",
   "execution_count": 269,
   "id": "a8c38642-d145-4fde-b0e0-6b86888c23b5",
   "metadata": {},
   "outputs": [],
   "source": [
    "s = '1-stop\\n\\t\\t\\t\\t\\t\\t\\t\\t\\t\\t\\t\\tVia IXU\\n\\t\\t\\t\\t\\t\\t\\t\\t\\t\\t\\t\\t'"
   ]
  },
  {
   "cell_type": "code",
   "execution_count": 321,
   "id": "a1da5e45-a1c2-4328-ba47-21e793ebe34e",
   "metadata": {},
   "outputs": [
    {
     "data": {
      "text/plain": [
       "['1-stop', 'Via', 'IXU']"
      ]
     },
     "execution_count": 321,
     "metadata": {},
     "output_type": "execute_result"
    }
   ],
   "source": [
    "import re\n",
    "[ t for t in re.split(r'\\s', s) if t != '' ]"
   ]
  },
  {
   "cell_type": "code",
   "execution_count": 338,
   "id": "46cbbfe6-3595-4920-844e-bd0c47b8b0b4",
   "metadata": {},
   "outputs": [],
   "source": [
    "stops = df['stop'].str.extract(r'(non|\\d+\\+?)-?stop')[0]"
   ]
  },
  {
   "cell_type": "code",
   "execution_count": 341,
   "id": "e52208ab-1a65-4bf3-884a-93e2ad794684",
   "metadata": {},
   "outputs": [
    {
     "data": {
      "text/plain": [
       "0\n",
       "1     250927\n",
       "0      36044\n",
       "2+     13288\n",
       "Name: count, dtype: int64"
      ]
     },
     "execution_count": 341,
     "metadata": {},
     "output_type": "execute_result"
    }
   ],
   "source": [
    "stops.replace({'non': 0}).value_counts()"
   ]
  },
  {
   "cell_type": "markdown",
   "id": "84d3853f-9b2c-4b8b-8fc1-9f6cfc34ee8d",
   "metadata": {},
   "source": [
    "duration"
   ]
  },
  {
   "cell_type": "code",
   "execution_count": 348,
   "id": "7827b402-1745-4b5a-8e75-27eb5e0066dd",
   "metadata": {},
   "outputs": [
    {
     "data": {
      "text/plain": [
       "189973    1.03h m\n",
       "198163    1.02h m\n",
       "204802    1.03h m\n",
       "247494    1.01h m\n",
       "Name: time_taken, dtype: object"
      ]
     },
     "execution_count": 348,
     "metadata": {},
     "output_type": "execute_result"
    }
   ],
   "source": [
    "df['time_taken'][~df['time_taken'].str.match(r'(\\d\\d?)h\\s+(\\d\\d?)m')]"
   ]
  },
  {
   "cell_type": "markdown",
   "id": "2dc803a6-5c38-4880-9ed6-8bdfc93a807b",
   "metadata": {},
   "source": [
    "days left"
   ]
  },
  {
   "cell_type": "markdown",
   "id": "7e898b97-67ab-4e30-8d58-12f5a0069f57",
   "metadata": {},
   "source": [
    "price"
   ]
  },
  {
   "cell_type": "code",
   "execution_count": 376,
   "id": "bbc04298-6662-40c6-b5a8-c9e8f1380188",
   "metadata": {},
   "outputs": [],
   "source": [
    "df['price'] = df['price'].str.replace(',', '').astype(pd.Int32Dtype())"
   ]
  },
  {
   "cell_type": "code",
   "execution_count": 377,
   "id": "fa8efc82-2527-4aa6-93a4-3120fa1a27ec",
   "metadata": {},
   "outputs": [
    {
     "data": {
      "text/plain": [
       "0         25612\n",
       "1         25612\n",
       "2         42220\n",
       "3         44450\n",
       "4         46690\n",
       "          ...  \n",
       "300256     7697\n",
       "300257     7709\n",
       "300258     8640\n",
       "300259     8640\n",
       "300260     8640\n",
       "Name: price, Length: 300259, dtype: Int32"
      ]
     },
     "execution_count": 377,
     "metadata": {},
     "output_type": "execute_result"
    }
   ],
   "source": [
    "df['price']"
   ]
  }
 ],
 "metadata": {
  "kernelspec": {
   "display_name": "Python 3 (ipykernel)",
   "language": "python",
   "name": "python3"
  },
  "language_info": {
   "codemirror_mode": {
    "name": "ipython",
    "version": 3
   },
   "file_extension": ".py",
   "mimetype": "text/x-python",
   "name": "python",
   "nbconvert_exporter": "python",
   "pygments_lexer": "ipython3",
   "version": "3.10.0"
  }
 },
 "nbformat": 4,
 "nbformat_minor": 5
}
