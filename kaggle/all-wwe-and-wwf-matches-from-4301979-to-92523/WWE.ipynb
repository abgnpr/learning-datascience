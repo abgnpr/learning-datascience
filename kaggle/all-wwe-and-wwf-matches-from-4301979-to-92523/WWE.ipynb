{
 "cells": [
  {
   "cell_type": "code",
   "execution_count": 12,
   "metadata": {},
   "outputs": [],
   "source": [
    "import sqlite3\n",
    "import pandas as pd"
   ]
  },
  {
   "cell_type": "code",
   "execution_count": 21,
   "metadata": {},
   "outputs": [],
   "source": [
    "cnx = sqlite3.connect('db.sqlite')\n",
    "df = pd.read_sql_query('Select * from matches', cnx)\n",
    "cnx.close()"
   ]
  },
  {
   "cell_type": "code",
   "execution_count": 24,
   "metadata": {},
   "outputs": [],
   "source": [
    "codes, uniques = pd.factorize(df['win_type'])"
   ]
  },
  {
   "cell_type": "code",
   "execution_count": 29,
   "metadata": {},
   "outputs": [
    {
     "data": {
      "text/plain": [
       "Index(['def.', 'def. (CO)', 'def. (pin)', 'vs.', 'draw', 'draw (time)',\n",
       "       'draw (DDQ)', 'def. (DQ)', 'draw (DCO)', 'draw (curfew)', 'def. (sub)',\n",
       "       'draw (NC)', 'def. (KO)', '', 'def. (TKO)', 'def. (forfeit)', '(pin)',\n",
       "       '(DQ)', 'draw (points)', 'def.draw (NC)', 'def.draw (time)',\n",
       "       'draw (DPin)', 'draw (DTKO)', '(sub)', 'def.draw (DCO)'],\n",
       "      dtype='object')"
      ]
     },
     "execution_count": 29,
     "metadata": {},
     "output_type": "execute_result"
    }
   ],
   "source": [
    "uniques"
   ]
  }
 ],
 "metadata": {
  "kernelspec": {
   "display_name": "Python 3",
   "language": "python",
   "name": "python3"
  },
  "language_info": {
   "codemirror_mode": {
    "name": "ipython",
    "version": 3
   },
   "file_extension": ".py",
   "mimetype": "text/x-python",
   "name": "python",
   "nbconvert_exporter": "python",
   "pygments_lexer": "ipython3",
   "version": "3.10.0"
  }
 },
 "nbformat": 4,
 "nbformat_minor": 2
}
