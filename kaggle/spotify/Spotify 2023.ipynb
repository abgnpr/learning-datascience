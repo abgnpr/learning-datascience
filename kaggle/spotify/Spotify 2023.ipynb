{
 "cells": [
  {
   "cell_type": "code",
   "execution_count": 4,
   "id": "89a7e5cb-2a5d-44ec-9fb3-f895486ecb61",
   "metadata": {},
   "outputs": [],
   "source": [
    "import pandas as pd\n",
    "import matplotlib.pyplot as plt\n",
    "import seaborn as sns"
   ]
  },
  {
   "cell_type": "code",
   "execution_count": 5,
   "id": "34b26e22-d2b2-4b91-8989-7e06e8b3666b",
   "metadata": {},
   "outputs": [],
   "source": [
    "spotify_df = pd.read_csv('spotify-2023.csv',  encoding='latin-1')"
   ]
  },
  {
   "cell_type": "code",
   "execution_count": 6,
   "id": "67d37d89-0256-42bd-bab0-cd75fdf60518",
   "metadata": {},
   "outputs": [
    {
     "data": {
      "text/plain": [
       "track_name              object\n",
       "artist(s)_name          object\n",
       "artist_count             int64\n",
       "released_year            int64\n",
       "released_month           int64\n",
       "released_day             int64\n",
       "in_spotify_playlists     int64\n",
       "in_spotify_charts        int64\n",
       "streams                 object\n",
       "in_apple_playlists       int64\n",
       "in_apple_charts          int64\n",
       "in_deezer_playlists     object\n",
       "in_deezer_charts         int64\n",
       "in_shazam_charts        object\n",
       "bpm                      int64\n",
       "key                     object\n",
       "mode                    object\n",
       "danceability_%           int64\n",
       "valence_%                int64\n",
       "energy_%                 int64\n",
       "acousticness_%           int64\n",
       "instrumentalness_%       int64\n",
       "liveness_%               int64\n",
       "speechiness_%            int64\n",
       "dtype: object"
      ]
     },
     "execution_count": 6,
     "metadata": {},
     "output_type": "execute_result"
    }
   ],
   "source": [
    "spotify_df.dtypes"
   ]
  },
  {
   "cell_type": "code",
   "execution_count": 7,
   "id": "eaf594db-2985-47de-ac75-af62f3eab1ea",
   "metadata": {},
   "outputs": [],
   "source": [
    "spotify_df['released_date'] = pd.to_datetime(pd.DataFrame({\n",
    "    'year': spotify_df['released_year'],\n",
    "    'month': spotify_df['released_month'],\n",
    "    'day': spotify_df['released_day']\n",
    "}))"
   ]
  },
  {
   "cell_type": "code",
   "execution_count": 8,
   "id": "89ef2acc-e455-4fa6-92f0-448266068463",
   "metadata": {},
   "outputs": [],
   "source": [
    "import calendar\n",
    "spotify_df['released_weekday'] = spotify_df['released_date'].dt.weekday.apply(lambda x: calendar.day_name[x])"
   ]
  },
  {
   "cell_type": "code",
   "execution_count": 9,
   "id": "cf39bcc2-8b9d-4c3c-851e-7bed4d576c6d",
   "metadata": {},
   "outputs": [
    {
     "data": {
      "text/html": [
       "<div>\n",
       "<style scoped>\n",
       "    .dataframe tbody tr th:only-of-type {\n",
       "        vertical-align: middle;\n",
       "    }\n",
       "\n",
       "    .dataframe tbody tr th {\n",
       "        vertical-align: top;\n",
       "    }\n",
       "\n",
       "    .dataframe thead th {\n",
       "        text-align: right;\n",
       "    }\n",
       "</style>\n",
       "<table border=\"1\" class=\"dataframe\">\n",
       "  <thead>\n",
       "    <tr style=\"text-align: right;\">\n",
       "      <th></th>\n",
       "      <th>released_year</th>\n",
       "      <th>released_month</th>\n",
       "      <th>released_day</th>\n",
       "      <th>released_date</th>\n",
       "      <th>released_weekday</th>\n",
       "    </tr>\n",
       "  </thead>\n",
       "  <tbody>\n",
       "    <tr>\n",
       "      <th>0</th>\n",
       "      <td>2023</td>\n",
       "      <td>7</td>\n",
       "      <td>14</td>\n",
       "      <td>2023-07-14</td>\n",
       "      <td>Friday</td>\n",
       "    </tr>\n",
       "    <tr>\n",
       "      <th>1</th>\n",
       "      <td>2023</td>\n",
       "      <td>3</td>\n",
       "      <td>23</td>\n",
       "      <td>2023-03-23</td>\n",
       "      <td>Thursday</td>\n",
       "    </tr>\n",
       "    <tr>\n",
       "      <th>2</th>\n",
       "      <td>2023</td>\n",
       "      <td>6</td>\n",
       "      <td>30</td>\n",
       "      <td>2023-06-30</td>\n",
       "      <td>Friday</td>\n",
       "    </tr>\n",
       "    <tr>\n",
       "      <th>3</th>\n",
       "      <td>2019</td>\n",
       "      <td>8</td>\n",
       "      <td>23</td>\n",
       "      <td>2019-08-23</td>\n",
       "      <td>Friday</td>\n",
       "    </tr>\n",
       "    <tr>\n",
       "      <th>4</th>\n",
       "      <td>2023</td>\n",
       "      <td>5</td>\n",
       "      <td>18</td>\n",
       "      <td>2023-05-18</td>\n",
       "      <td>Thursday</td>\n",
       "    </tr>\n",
       "    <tr>\n",
       "      <th>...</th>\n",
       "      <td>...</td>\n",
       "      <td>...</td>\n",
       "      <td>...</td>\n",
       "      <td>...</td>\n",
       "      <td>...</td>\n",
       "    </tr>\n",
       "    <tr>\n",
       "      <th>948</th>\n",
       "      <td>2022</td>\n",
       "      <td>11</td>\n",
       "      <td>3</td>\n",
       "      <td>2022-11-03</td>\n",
       "      <td>Thursday</td>\n",
       "    </tr>\n",
       "    <tr>\n",
       "      <th>949</th>\n",
       "      <td>2022</td>\n",
       "      <td>10</td>\n",
       "      <td>21</td>\n",
       "      <td>2022-10-21</td>\n",
       "      <td>Friday</td>\n",
       "    </tr>\n",
       "    <tr>\n",
       "      <th>950</th>\n",
       "      <td>2022</td>\n",
       "      <td>11</td>\n",
       "      <td>3</td>\n",
       "      <td>2022-11-03</td>\n",
       "      <td>Thursday</td>\n",
       "    </tr>\n",
       "    <tr>\n",
       "      <th>951</th>\n",
       "      <td>2022</td>\n",
       "      <td>10</td>\n",
       "      <td>20</td>\n",
       "      <td>2022-10-20</td>\n",
       "      <td>Thursday</td>\n",
       "    </tr>\n",
       "    <tr>\n",
       "      <th>952</th>\n",
       "      <td>2022</td>\n",
       "      <td>11</td>\n",
       "      <td>4</td>\n",
       "      <td>2022-11-04</td>\n",
       "      <td>Friday</td>\n",
       "    </tr>\n",
       "  </tbody>\n",
       "</table>\n",
       "<p>953 rows × 5 columns</p>\n",
       "</div>"
      ],
      "text/plain": [
       "     released_year  released_month  released_day released_date  \\\n",
       "0             2023               7            14    2023-07-14   \n",
       "1             2023               3            23    2023-03-23   \n",
       "2             2023               6            30    2023-06-30   \n",
       "3             2019               8            23    2019-08-23   \n",
       "4             2023               5            18    2023-05-18   \n",
       "..             ...             ...           ...           ...   \n",
       "948           2022              11             3    2022-11-03   \n",
       "949           2022              10            21    2022-10-21   \n",
       "950           2022              11             3    2022-11-03   \n",
       "951           2022              10            20    2022-10-20   \n",
       "952           2022              11             4    2022-11-04   \n",
       "\n",
       "    released_weekday  \n",
       "0             Friday  \n",
       "1           Thursday  \n",
       "2             Friday  \n",
       "3             Friday  \n",
       "4           Thursday  \n",
       "..               ...  \n",
       "948         Thursday  \n",
       "949           Friday  \n",
       "950         Thursday  \n",
       "951         Thursday  \n",
       "952           Friday  \n",
       "\n",
       "[953 rows x 5 columns]"
      ]
     },
     "execution_count": 9,
     "metadata": {},
     "output_type": "execute_result"
    }
   ],
   "source": [
    "spotify_df.filter(like='released_')"
   ]
  },
  {
   "cell_type": "code",
   "execution_count": 149,
   "id": "22f78337-d258-4b70-b36d-d37f5999462b",
   "metadata": {},
   "outputs": [
    {
     "data": {
      "text/plain": [
       "<seaborn.axisgrid.FacetGrid at 0x1ac260c4370>"
      ]
     },
     "execution_count": 149,
     "metadata": {},
     "output_type": "execute_result"
    },
    {
     "data": {
      "image/png": "[encoded data removed]",
      "text/plain": [
       "<Figure size 360x360 with 1 Axes>"
      ]
     },
     "metadata": {},
     "output_type": "display_data"
    }
   ],
   "source": [
    "sns.displot(spotify_df[spotify_df['released_year'] == 2022]['released_month'])"
   ]
  },
  {
   "cell_type": "code",
   "execution_count": 150,
   "id": "d1487f6c-b800-4ef2-b761-e459d8db655e",
   "metadata": {},
   "outputs": [
    {
     "data": {
      "text/plain": [
       "14      3\n",
       "15     12\n",
       "26      3\n",
       "32     12\n",
       "33     10\n",
       "       ..\n",
       "948    11\n",
       "949    10\n",
       "950    11\n",
       "951    10\n",
       "952    11\n",
       "Name: released_month, Length: 402, dtype: int64"
      ]
     },
     "execution_count": 150,
     "metadata": {},
     "output_type": "execute_result"
    }
   ],
   "source": [
    "spotify_df[spotify_df['released_year'] == 2022]['released_month']"
   ]
  },
  {
   "cell_type": "code",
   "execution_count": 70,
   "id": "d1ff0a0b-9cb1-41a3-ac42-590bff7dcd4b",
   "metadata": {},
   "outputs": [
    {
     "data": {
      "text/html": [
       "<div>\n",
       "<style scoped>\n",
       "    .dataframe tbody tr th:only-of-type {\n",
       "        vertical-align: middle;\n",
       "    }\n",
       "\n",
       "    .dataframe tbody tr th {\n",
       "        vertical-align: top;\n",
       "    }\n",
       "\n",
       "    .dataframe thead th {\n",
       "        text-align: right;\n",
       "    }\n",
       "</style>\n",
       "<table border=\"1\" class=\"dataframe\">\n",
       "  <thead>\n",
       "    <tr style=\"text-align: right;\">\n",
       "      <th></th>\n",
       "      <th>track_name</th>\n",
       "      <th>artist(s)_name</th>\n",
       "      <th>streams</th>\n",
       "    </tr>\n",
       "  </thead>\n",
       "  <tbody>\n",
       "    <tr>\n",
       "      <th>84</th>\n",
       "      <td>STAY (with Justin Bieber)</td>\n",
       "      <td>Justin Bieber, The Kid Laroi</td>\n",
       "      <td>2665343922</td>\n",
       "    </tr>\n",
       "    <tr>\n",
       "      <th>762</th>\n",
       "      <td>Love Yourself</td>\n",
       "      <td>Justin Bieber</td>\n",
       "      <td>2123309722</td>\n",
       "    </tr>\n",
       "    <tr>\n",
       "      <th>554</th>\n",
       "      <td>Peaches (feat. Daniel Caesar &amp; Giveon)</td>\n",
       "      <td>Justin Bieber, Daniel Caesar, Giveon</td>\n",
       "      <td>1445941661</td>\n",
       "    </tr>\n",
       "    <tr>\n",
       "      <th>158</th>\n",
       "      <td>Ghost</td>\n",
       "      <td>Justin Bieber</td>\n",
       "      <td>1167330737</td>\n",
       "    </tr>\n",
       "    <tr>\n",
       "      <th>453</th>\n",
       "      <td>Mistletoe</td>\n",
       "      <td>Justin Bieber</td>\n",
       "      <td>629173063</td>\n",
       "    </tr>\n",
       "    <tr>\n",
       "      <th>543</th>\n",
       "      <td>Medallo</td>\n",
       "      <td>Justin Quiles, Lenny Tavï¿½ï¿½rez, BL</td>\n",
       "      <td>393230256</td>\n",
       "    </tr>\n",
       "    <tr>\n",
       "      <th>642</th>\n",
       "      <td>Se Le Ve</td>\n",
       "      <td>Arcangel, De La Ghetto, Justin Quiles, Lenny T...</td>\n",
       "      <td>223319934</td>\n",
       "    </tr>\n",
       "    <tr>\n",
       "      <th>894</th>\n",
       "      <td>Stay With Me (with Justin Timberlake, Halsey, ...</td>\n",
       "      <td>Calvin Harris, Halsey, Pharrell Williams, Just...</td>\n",
       "      <td>123473120</td>\n",
       "    </tr>\n",
       "    <tr>\n",
       "      <th>813</th>\n",
       "      <td>Honest (feat. Don Toliver)</td>\n",
       "      <td>Justin Bieber, Don Toliver</td>\n",
       "      <td>106919680</td>\n",
       "    </tr>\n",
       "    <tr>\n",
       "      <th>338</th>\n",
       "      <td>Private Landing (feat. Justin Bieber &amp; Future)</td>\n",
       "      <td>Don Toliver, Future, Justin Bieber</td>\n",
       "      <td>105062254</td>\n",
       "    </tr>\n",
       "  </tbody>\n",
       "</table>\n",
       "</div>"
      ],
      "text/plain": [
       "                                            track_name  \\\n",
       "84                           STAY (with Justin Bieber)   \n",
       "762                                      Love Yourself   \n",
       "554             Peaches (feat. Daniel Caesar & Giveon)   \n",
       "158                                              Ghost   \n",
       "453                                          Mistletoe   \n",
       "543                                            Medallo   \n",
       "642                                           Se Le Ve   \n",
       "894  Stay With Me (with Justin Timberlake, Halsey, ...   \n",
       "813                         Honest (feat. Don Toliver)   \n",
       "338     Private Landing (feat. Justin Bieber & Future)   \n",
       "\n",
       "                                        artist(s)_name     streams  \n",
       "84                        Justin Bieber, The Kid Laroi  2665343922  \n",
       "762                                      Justin Bieber  2123309722  \n",
       "554               Justin Bieber, Daniel Caesar, Giveon  1445941661  \n",
       "158                                      Justin Bieber  1167330737  \n",
       "453                                      Justin Bieber   629173063  \n",
       "543              Justin Quiles, Lenny Tavï¿½ï¿½rez, BL   393230256  \n",
       "642  Arcangel, De La Ghetto, Justin Quiles, Lenny T...   223319934  \n",
       "894  Calvin Harris, Halsey, Pharrell Williams, Just...   123473120  \n",
       "813                         Justin Bieber, Don Toliver   106919680  \n",
       "338                 Don Toliver, Future, Justin Bieber   105062254  "
      ]
     },
     "execution_count": 70,
     "metadata": {},
     "output_type": "execute_result"
    }
   ],
   "source": [
    "artist = spotify_df[spotify_df['artist(s)_name'].str.lower().str.contains('justin')]\n",
    "artist.sort_values(by='streams', ascending=False)[['track_name', 'artist(s)_name', 'streams']]"
   ]
  },
  {
   "cell_type": "code",
   "execution_count": 147,
   "id": "f233ebf9-5310-400c-aa29-8253920ee10c",
   "metadata": {},
   "outputs": [
    {
     "data": {
      "text/plain": [
       "artist(s)_name\n",
       "Ed Sheeran                6\n",
       "The Weeknd                5\n",
       "Harry Styles              3\n",
       "Bruno Mars                3\n",
       "Eminem                    3\n",
       "                         ..\n",
       "Bad Bunny, Jhay Cortez    1\n",
       "Maroon 5                  1\n",
       "Chris Molitor             1\n",
       "Lil Nas X                 1\n",
       "Don Omar, Lucenzo         1\n",
       "Name: count, Length: 77, dtype: int64"
      ]
     },
     "execution_count": 147,
     "metadata": {},
     "output_type": "execute_result"
    }
   ],
   "source": [
    "spotify_df.sort_values(by='streams', ascending=False)[:100]['artist(s)_name'].value_counts()"
   ]
  },
  {
   "cell_type": "code",
   "execution_count": 139,
   "id": "49cb72a1-1fbf-4e7c-9c98-fa230e74a5ab",
   "metadata": {},
   "outputs": [],
   "source": [
    "spotify_df['streams'] = pd.to_numeric(spotify_df['streams'], errors='coerce').fillna(0)"
   ]
  },
  {
   "cell_type": "code",
   "execution_count": null,
   "id": "659aeb99-8a1b-4523-a85c-cea05e615b4c",
   "metadata": {},
   "outputs": [],
   "source": [
    "spotify_df['streams'].sort_index"
   ]
  }
 ],
 "metadata": {
  "kernelspec": {
   "display_name": "Python 3 (ipykernel)",
   "language": "python",
   "name": "python3"
  },
  "language_info": {
   "codemirror_mode": {
    "name": "ipython",
    "version": 3
   },
   "file_extension": ".py",
   "mimetype": "text/x-python",
   "name": "python",
   "nbconvert_exporter": "python",
   "pygments_lexer": "ipython3",
   "version": "3.10.0"
  }
 },
 "nbformat": 4,
 "nbformat_minor": 5
}
