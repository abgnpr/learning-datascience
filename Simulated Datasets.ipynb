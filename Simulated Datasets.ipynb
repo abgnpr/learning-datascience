{
 "cells": [
  {
   "cell_type": "markdown",
   "metadata": {},
   "source": [
    "# Generating Simulated Datasets"
   ]
  },
  {
   "cell_type": "code",
   "execution_count": 1,
   "metadata": {},
   "outputs": [],
   "source": [
    "import pandas as pd\n",
    "from sklearn.datasets import make_regression, make_classification"
   ]
  },
  {
   "cell_type": "markdown",
   "metadata": {},
   "source": [
    "### Regression Dataset"
   ]
  },
  {
   "cell_type": "code",
   "execution_count": 2,
   "metadata": {},
   "outputs": [],
   "source": [
    "features, target, coefficients = make_regression(\n",
    "    n_samples = 20,\n",
    "    n_features = 5,\n",
    "    n_informative = 3,\n",
    "    n_targets = 1,\n",
    "    noise = 0.0,\n",
    "    coef = True,\n",
    "    random_state = 1\n",
    ")"
   ]
  },
  {
   "cell_type": "code",
   "execution_count": 3,
   "metadata": {},
   "outputs": [
    {
     "data": {
      "text/html": [
       "<div>\n",
       "<style scoped>\n",
       "    .dataframe tbody tr th:only-of-type {\n",
       "        vertical-align: middle;\n",
       "    }\n",
       "\n",
       "    .dataframe tbody tr th {\n",
       "        vertical-align: top;\n",
       "    }\n",
       "\n",
       "    .dataframe thead th {\n",
       "        text-align: right;\n",
       "    }\n",
       "</style>\n",
       "<table border=\"1\" class=\"dataframe\">\n",
       "  <thead>\n",
       "    <tr style=\"text-align: right;\">\n",
       "      <th></th>\n",
       "      <th>0</th>\n",
       "      <th>1</th>\n",
       "      <th>2</th>\n",
       "      <th>3</th>\n",
       "      <th>4</th>\n",
       "    </tr>\n",
       "  </thead>\n",
       "  <tbody>\n",
       "    <tr>\n",
       "      <th>0</th>\n",
       "      <td>-0.012665</td>\n",
       "      <td>-1.117310</td>\n",
       "      <td>0.742044</td>\n",
       "      <td>0.234416</td>\n",
       "      <td>1.659802</td>\n",
       "    </tr>\n",
       "    <tr>\n",
       "      <th>1</th>\n",
       "      <td>-0.691661</td>\n",
       "      <td>-0.396754</td>\n",
       "      <td>-0.671246</td>\n",
       "      <td>-0.687173</td>\n",
       "      <td>-0.845206</td>\n",
       "    </tr>\n",
       "    <tr>\n",
       "      <th>2</th>\n",
       "      <td>-0.683728</td>\n",
       "      <td>-0.122890</td>\n",
       "      <td>0.530355</td>\n",
       "      <td>-0.935769</td>\n",
       "      <td>-0.267888</td>\n",
       "    </tr>\n",
       "    <tr>\n",
       "      <th>3</th>\n",
       "      <td>0.119009</td>\n",
       "      <td>-0.670662</td>\n",
       "      <td>1.129484</td>\n",
       "      <td>0.377564</td>\n",
       "      <td>0.121821</td>\n",
       "    </tr>\n",
       "    <tr>\n",
       "      <th>4</th>\n",
       "      <td>-2.301539</td>\n",
       "      <td>1.744812</td>\n",
       "      <td>-0.249370</td>\n",
       "      <td>-0.761207</td>\n",
       "      <td>0.319039</td>\n",
       "    </tr>\n",
       "  </tbody>\n",
       "</table>\n",
       "</div>"
      ],
      "text/plain": [
       "          0         1         2         3         4\n",
       "0 -0.012665 -1.117310  0.742044  0.234416  1.659802\n",
       "1 -0.691661 -0.396754 -0.671246 -0.687173 -0.845206\n",
       "2 -0.683728 -0.122890  0.530355 -0.935769 -0.267888\n",
       "3  0.119009 -0.670662  1.129484  0.377564  0.121821\n",
       "4 -2.301539  1.744812 -0.249370 -0.761207  0.319039"
      ]
     },
     "execution_count": 3,
     "metadata": {},
     "output_type": "execute_result"
    }
   ],
   "source": [
    "pd.DataFrame(features).head()"
   ]
  },
  {
   "cell_type": "code",
   "execution_count": 4,
   "metadata": {},
   "outputs": [
    {
     "data": {
      "text/plain": [
       "array([ -24.11546086, -130.55304526, -140.75806622,   16.19711223,\n",
       "       -183.81740444,   31.99961203, -122.30155022,  160.29208908,\n",
       "       -103.5902835 ,  137.35843225,   10.26066598,   33.4239142 ,\n",
       "         -9.62047834,   -3.32980265, -171.26735584,  169.03456131,\n",
       "       -114.43102714,  -88.09671111,   71.53934755,   61.76429314])"
      ]
     },
     "execution_count": 4,
     "metadata": {},
     "output_type": "execute_result"
    }
   ],
   "source": [
    "target"
   ]
  },
  {
   "cell_type": "code",
   "execution_count": 5,
   "metadata": {},
   "outputs": [
    {
     "data": {
      "text/plain": [
       "array([80.71051956, 38.78606441,  0.        , 86.35418546,  0.        ])"
      ]
     },
     "execution_count": 5,
     "metadata": {},
     "output_type": "execute_result"
    }
   ],
   "source": [
    "coefficients"
   ]
  },
  {
   "cell_type": "markdown",
   "metadata": {},
   "source": [
    "### Classification Dataset"
   ]
  },
  {
   "cell_type": "code",
   "execution_count": 6,
   "metadata": {},
   "outputs": [],
   "source": [
    "features, target = make_classification(\n",
    "    n_samples = 20,\n",
    "    n_features = 5,\n",
    "    n_informative = 3,\n",
    "    n_redundant = 0,\n",
    "    n_classes = 2,\n",
    "    weights = [.25, .75],\n",
    "    random_state = 1\n",
    ")"
   ]
  },
  {
   "cell_type": "code",
   "execution_count": 7,
   "metadata": {},
   "outputs": [
    {
     "data": {
      "text/html": [
       "<div>\n",
       "<style scoped>\n",
       "    .dataframe tbody tr th:only-of-type {\n",
       "        vertical-align: middle;\n",
       "    }\n",
       "\n",
       "    .dataframe tbody tr th {\n",
       "        vertical-align: top;\n",
       "    }\n",
       "\n",
       "    .dataframe thead th {\n",
       "        text-align: right;\n",
       "    }\n",
       "</style>\n",
       "<table border=\"1\" class=\"dataframe\">\n",
       "  <thead>\n",
       "    <tr style=\"text-align: right;\">\n",
       "      <th></th>\n",
       "      <th>0</th>\n",
       "      <th>1</th>\n",
       "      <th>2</th>\n",
       "      <th>3</th>\n",
       "      <th>4</th>\n",
       "    </tr>\n",
       "  </thead>\n",
       "  <tbody>\n",
       "    <tr>\n",
       "      <th>0</th>\n",
       "      <td>1.430633</td>\n",
       "      <td>0.026831</td>\n",
       "      <td>1.484343</td>\n",
       "      <td>0.347305</td>\n",
       "      <td>-0.641126</td>\n",
       "    </tr>\n",
       "    <tr>\n",
       "      <th>1</th>\n",
       "      <td>2.746533</td>\n",
       "      <td>-0.369316</td>\n",
       "      <td>0.746900</td>\n",
       "      <td>-0.307012</td>\n",
       "      <td>-1.167295</td>\n",
       "    </tr>\n",
       "    <tr>\n",
       "      <th>2</th>\n",
       "      <td>-2.358119</td>\n",
       "      <td>-0.592445</td>\n",
       "      <td>0.926174</td>\n",
       "      <td>-0.320982</td>\n",
       "      <td>0.882003</td>\n",
       "    </tr>\n",
       "    <tr>\n",
       "      <th>3</th>\n",
       "      <td>-0.215751</td>\n",
       "      <td>-0.493911</td>\n",
       "      <td>1.629769</td>\n",
       "      <td>-0.361200</td>\n",
       "      <td>-0.141446</td>\n",
       "    </tr>\n",
       "    <tr>\n",
       "      <th>4</th>\n",
       "      <td>1.326153</td>\n",
       "      <td>-0.395713</td>\n",
       "      <td>-0.076026</td>\n",
       "      <td>-1.514356</td>\n",
       "      <td>-0.712432</td>\n",
       "    </tr>\n",
       "  </tbody>\n",
       "</table>\n",
       "</div>"
      ],
      "text/plain": [
       "          0         1         2         3         4\n",
       "0  1.430633  0.026831  1.484343  0.347305 -0.641126\n",
       "1  2.746533 -0.369316  0.746900 -0.307012 -1.167295\n",
       "2 -2.358119 -0.592445  0.926174 -0.320982  0.882003\n",
       "3 -0.215751 -0.493911  1.629769 -0.361200 -0.141446\n",
       "4  1.326153 -0.395713 -0.076026 -1.514356 -0.712432"
      ]
     },
     "execution_count": 7,
     "metadata": {},
     "output_type": "execute_result"
    }
   ],
   "source": [
    "pd.DataFrame(features).head()"
   ]
  },
  {
   "cell_type": "code",
   "execution_count": 8,
   "metadata": {},
   "outputs": [
    {
     "data": {
      "text/plain": [
       "array([0, 0, 1, 1, 1, 1, 1, 1, 1, 1, 1, 0, 1, 1, 0, 1, 1, 1, 0, 1])"
      ]
     },
     "execution_count": 8,
     "metadata": {},
     "output_type": "execute_result"
    }
   ],
   "source": [
    "target"
   ]
  }
 ],
 "metadata": {
  "kernelspec": {
   "display_name": "Python 3",
   "language": "python",
   "name": "python3"
  },
  "language_info": {
   "codemirror_mode": {
    "name": "ipython",
    "version": 3
   },
   "file_extension": ".py",
   "mimetype": "text/x-python",
   "name": "python",
   "nbconvert_exporter": "python",
   "pygments_lexer": "ipython3",
   "version": "3.10.1"
  }
 },
 "nbformat": 4,
 "nbformat_minor": 2
}
